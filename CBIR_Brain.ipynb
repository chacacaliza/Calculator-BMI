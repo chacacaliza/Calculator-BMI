{
  "nbformat": 4,
  "nbformat_minor": 0,
  "metadata": {
    "colab": {
      "provenance": [],
      "collapsed_sections": [],
      "include_colab_link": true
    },
    "kernelspec": {
      "name": "python3",
      "display_name": "Python 3"
    },
    "language_info": {
      "name": "python"
    },
    "accelerator": "GPU"
  },
  "cells": [
    {
      "cell_type": "markdown",
      "metadata": {
        "id": "view-in-github",
        "colab_type": "text"
      },
      "source": [
        "<a href=\"https://colab.research.google.com/github/chacacaliza/Calculator-BMI/blob/master/CBIR_Brain.ipynb\" target=\"_parent\"><img src=\"https://colab.research.google.com/assets/colab-badge.svg\" alt=\"Open In Colab\"/></a>"
      ]
    },
    {
      "cell_type": "code",
      "execution_count": null,
      "metadata": {
        "colab": {
          "base_uri": "https://localhost:8080/"
        },
        "id": "E8sjuF5bB4xa",
        "outputId": "629e681e-ee30-49e7-94cf-d98b36b1731c"
      },
      "outputs": [
        {
          "output_type": "stream",
          "name": "stdout",
          "text": [
            "Mounted at /content/drive\n"
          ]
        }
      ],
      "source": [
        "from google.colab import drive\n",
        "drive.mount('/content/drive')"
      ]
    },
    {
      "cell_type": "code",
      "source": [
        "# Definisikan path kaggle json\n",
        "# Sesuaikan dengan path anda\n",
        "import os\n",
        "os.environ['KAGGLE_CONFIG_DIR'] = \"/content/drive/My Drive/IR\""
      ],
      "metadata": {
        "id": "pPSqCfoDCSx2"
      },
      "execution_count": null,
      "outputs": []
    },
    {
      "cell_type": "code",
      "source": [
        "# Ubah lokasi direktori kerja\n",
        "# Sesuaikan dengan path anda\n",
        "%cd /content/drive/My Drive/IR"
      ],
      "metadata": {
        "colab": {
          "base_uri": "https://localhost:8080/"
        },
        "id": "llTtua3eCrJP",
        "outputId": "dd7cf9d3-260d-4a3a-f492-fd0ef7a424b3"
      },
      "execution_count": null,
      "outputs": [
        {
          "output_type": "stream",
          "name": "stdout",
          "text": [
            "/content/drive/My Drive/IR\n"
          ]
        }
      ]
    },
    {
      "cell_type": "code",
      "source": [
        "# Cek apakah api sudah terbaca oleh sistem\n",
        "!ls"
      ],
      "metadata": {
        "colab": {
          "base_uri": "https://localhost:8080/"
        },
        "id": "rzwFpvrkCrrW",
        "outputId": "5ec09233-4017-4ada-a4e9-7828d905bd1c"
      },
      "execution_count": null,
      "outputs": [
        {
          "output_type": "stream",
          "name": "stdout",
          "text": [
            "kaggle.json\n"
          ]
        }
      ]
    },
    {
      "cell_type": "code",
      "source": [
        "!kaggle datasets download -d navoneel/brain-mri-images-for-brain-tumor-detection"
      ],
      "metadata": {
        "colab": {
          "base_uri": "https://localhost:8080/"
        },
        "id": "F_xeBwLhCuCN",
        "outputId": "77da7a58-9364-49ed-ec7b-a941b7ebcbcd"
      },
      "execution_count": null,
      "outputs": [
        {
          "output_type": "stream",
          "name": "stdout",
          "text": [
            "Downloading brain-mri-images-for-brain-tumor-detection.zip to /content/drive/My Drive/IR\n",
            " 60% 9.00M/15.1M [00:01<00:00, 8.55MB/s]\n",
            "100% 15.1M/15.1M [00:01<00:00, 10.8MB/s]\n"
          ]
        }
      ]
    },
    {
      "cell_type": "code",
      "source": [
        "# Cek apakah api sudah terbaca oleh sistem\n",
        "!ls"
      ],
      "metadata": {
        "colab": {
          "base_uri": "https://localhost:8080/"
        },
        "id": "36ohN0rwDxID",
        "outputId": "57398028-8b53-4f68-e6ad-1a8e3072ecfb"
      },
      "execution_count": null,
      "outputs": [
        {
          "output_type": "stream",
          "name": "stdout",
          "text": [
            "brain-mri-images-for-brain-tumor-detection.zip\tkaggle.json\n"
          ]
        }
      ]
    },
    {
      "cell_type": "code",
      "source": [
        "# Ekstrak file dataset dan hapus file zip dataset agar tidak memakan banyak tempat.\n",
        "!unzip \\*.zip &> /dev/null && rm *.zip"
      ],
      "metadata": {
        "id": "Hze2IUwhDblt"
      },
      "execution_count": null,
      "outputs": []
    },
    {
      "cell_type": "code",
      "source": [
        "# Cek isi direktori kerja untuk memastikan dataset telah berhasil diekstrak.\n",
        "!ls"
      ],
      "metadata": {
        "colab": {
          "base_uri": "https://localhost:8080/"
        },
        "id": "uSWbGa-nDeVy",
        "outputId": "d0e3b0da-f646-48ce-e79b-5e30a383be3f"
      },
      "execution_count": null,
      "outputs": [
        {
          "output_type": "stream",
          "name": "stdout",
          "text": [
            "brain_tumor_dataset  kaggle.json  no  yes\n"
          ]
        }
      ]
    },
    {
      "cell_type": "code",
      "source": [
        "from os import mkdir\n",
        "\n",
        "mkdir('dataset')"
      ],
      "metadata": {
        "id": "GVG5403tGgjm"
      },
      "execution_count": null,
      "outputs": []
    },
    {
      "cell_type": "code",
      "source": [
        "!ls"
      ],
      "metadata": {
        "colab": {
          "base_uri": "https://localhost:8080/"
        },
        "id": "a5tfZ0ufGhBf",
        "outputId": "47f21d35-75c0-4c6a-cd2f-ec44067cd031"
      },
      "execution_count": null,
      "outputs": [
        {
          "output_type": "stream",
          "name": "stdout",
          "text": [
            "brain_tumor_dataset  dataset  kaggle.json  no  yes\n"
          ]
        }
      ]
    },
    {
      "cell_type": "code",
      "source": [
        "import shutil, sys\n",
        "\n",
        "shutil.move(\"/content/drive/MyDrive/IR/brain_tumor_dataset/yes\", \"/content/drive/My Drive/IR/dataset\") \n",
        "shutil.move(\"/content/drive/MyDrive/IR/brain_tumor_dataset/no\", \"/content/drive/My Drive/IR/dataset\")"
      ],
      "metadata": {
        "colab": {
          "base_uri": "https://localhost:8080/",
          "height": 35
        },
        "id": "RbATsvpGCxgl",
        "outputId": "ac98ead7-c50e-448e-b376-1ce7b337c4a8"
      },
      "execution_count": null,
      "outputs": [
        {
          "output_type": "execute_result",
          "data": {
            "application/vnd.google.colaboratory.intrinsic+json": {
              "type": "string"
            },
            "text/plain": [
              "'/content/drive/My Drive/IR/dataset/no'"
            ]
          },
          "metadata": {},
          "execution_count": 17
        }
      ]
    },
    {
      "cell_type": "code",
      "source": [
        "import numpy as np\n",
        "import pandas as pd\n",
        "import os\n",
        "from shutil import copyfile\n",
        "\n",
        "TRAIN_DIR = \"/content/drive/My Drive/IR/train/\"\n",
        "TEST_DIR =\"/content/drive/My Drive/IR/test/\"\n",
        "\n",
        "os.mkdir(TRAIN_DIR)\n",
        "os.mkdir(TEST_DIR)\n",
        "\n",
        "for label in ['no', 'yes']:\n",
        "    os.mkdir(TRAIN_DIR+label)\n",
        "    os.mkdir(TEST_DIR+label)"
      ],
      "metadata": {
        "id": "xs05o8fCGmfo"
      },
      "execution_count": null,
      "outputs": []
    },
    {
      "cell_type": "code",
      "source": [
        "import random\n",
        "\n",
        "def train_valid_test_split(source, train_dir, test_dir,train_size, test_size):\n",
        "    # get files\n",
        "    files = []\n",
        "    for filename in os.listdir(source):\n",
        "        file = source + filename\n",
        "        if os.path.getsize(file) > 0:\n",
        "            files.append(filename)\n",
        "    \n",
        "    # train valid split\n",
        "    train_size = int(len(files) * (1-train_size))\n",
        "    test_size = int(len(files) * (train_size))\n",
        "  \n",
        "    # shuffle the dataset\n",
        "    shuffled_files = random.sample(files, len(files))\n",
        "    \n",
        "    train_set = shuffled_files[train_size:]\n",
        "    test_set = shuffled_files[:train_size]\n",
        "    \n",
        "    for filename in train_set:\n",
        "        filepath = source + filename\n",
        "        destination = train_dir + filename\n",
        "        copyfile(filepath, destination)    \n",
        "    \n",
        "    for filename in test_set:\n",
        "        filepath = source + filename\n",
        "        destination = test_dir + filename\n",
        "        copyfile(filepath, destination)\n",
        "\n",
        "SOURCE = \"/content/drive/My Drive/IR/dataset/\"\n",
        "\n",
        "for label in ['no', 'yes']:\n",
        "    print(label)\n",
        "    train_valid_test_split(SOURCE+label+'/', TRAIN_DIR +label+'/', TEST_DIR +label+'/', train_size=0.8, test_size=0.2)\n",
        "    print(len(os.listdir(TRAIN_DIR +label+'/')))\n",
        "    print(len(os.listdir(TEST_DIR +label+'/')))"
      ],
      "metadata": {
        "colab": {
          "base_uri": "https://localhost:8080/"
        },
        "id": "MkQWwWjAGv_8",
        "outputId": "0a18d57e-47ec-4448-e989-00276f398162"
      },
      "execution_count": null,
      "outputs": [
        {
          "output_type": "stream",
          "name": "stdout",
          "text": [
            "no\n",
            "79\n",
            "19\n",
            "yes\n",
            "125\n",
            "30\n"
          ]
        }
      ]
    },
    {
      "cell_type": "code",
      "source": [
        "%rm -rf test/\n",
        "%rm -rf train/"
      ],
      "metadata": {
        "id": "f6xlnpLdEbQk"
      },
      "execution_count": null,
      "outputs": []
    },
    {
      "cell_type": "code",
      "source": [
        "from keras.applications.vgg16 import VGG16\n",
        "from tensorflow.keras.applications.resnet50 import ResNet50\n",
        "from keras.applications.vgg19 import VGG19\n",
        "from keras.models import Model\n",
        "from keras.preprocessing import image\n",
        "from tensorflow.keras.layers import Input, Lambda ,Dense ,Flatten ,Dropout, BatchNormalization\n",
        "import numpy as np\n",
        "import tensorflow as tf\n",
        "import matplotlib.pyplot as plt\n",
        "%matplotlib inline\n",
        "import os\n",
        "import cv2"
      ],
      "metadata": {
        "id": "yi1KqOC-IEIU"
      },
      "execution_count": null,
      "outputs": []
    },
    {
      "cell_type": "code",
      "source": [
        "from tensorflow.keras.preprocessing.image import ImageDataGenerator\n",
        "train_generator = ImageDataGenerator(\n",
        "    rescale = 1./255,\n",
        "    horizontal_flip = True,\n",
        "    vertical_flip = True,\n",
        "    rotation_range = 90,\n",
        "    height_shift_range = 0.2,\n",
        "    width_shift_range = 0.2,\n",
        "    zoom_range = 0.2\n",
        ")\n",
        "\n",
        "test_generator = ImageDataGenerator(\n",
        "    rescale = 1./255,\n",
        "    validation_split = 0.7\n",
        ")"
      ],
      "metadata": {
        "id": "SiPdwPaPIN1g"
      },
      "execution_count": null,
      "outputs": []
    },
    {
      "cell_type": "code",
      "source": [
        "train_images = train_generator.flow_from_directory(\n",
        "    TRAIN_DIR,\n",
        "    target_size=(64, 64),\n",
        "    color_mode='rgb',\n",
        "    class_mode='categorical',\n",
        "    batch_size=32,\n",
        "    shuffle=True,\n",
        "    seed=42\n",
        ")\n",
        "\n",
        "test_images = test_generator.flow_from_directory(\n",
        "    TEST_DIR,\n",
        "    target_size=(64, 64),\n",
        "    color_mode='rgb',\n",
        "    class_mode='categorical',\n",
        "    batch_size=32,\n",
        "    shuffle=False,\n",
        "    seed=42,\n",
        "    subset = 'validation'\n",
        ")"
      ],
      "metadata": {
        "colab": {
          "base_uri": "https://localhost:8080/"
        },
        "id": "LHjV5SXHIUFc",
        "outputId": "0d720b5f-2143-4d7f-e13d-6a737b908467"
      },
      "execution_count": null,
      "outputs": [
        {
          "output_type": "stream",
          "name": "stdout",
          "text": [
            "Found 204 images belonging to 2 classes.\n",
            "Found 34 images belonging to 2 classes.\n"
          ]
        }
      ]
    },
    {
      "cell_type": "code",
      "source": [
        "from tensorflow.keras.callbacks import ModelCheckpoint, ReduceLROnPlateau"
      ],
      "metadata": {
        "id": "wP_V9QMjKEVc"
      },
      "execution_count": null,
      "outputs": []
    },
    {
      "cell_type": "code",
      "source": [
        "learning_rate_reduction = ReduceLROnPlateau(monitor='val_accuracy'\n",
        "                                            , patience = 2\n",
        "                                            , verbose=1\n",
        "                                            ,factor=0.5\n",
        "                                            , min_lr=0.0001\n",
        "                                            , decay=0.001/32 )"
      ],
      "metadata": {
        "id": "nmAj7ZHPJCPa"
      },
      "execution_count": null,
      "outputs": []
    },
    {
      "cell_type": "code",
      "source": [
        "from tensorflow.keras.models import Model\n",
        "from tensorflow.keras.layers import Dense, Flatten, Dropout, Input, GlobalMaxPooling2D, concatenate\n",
        "from tensorflow.keras.applications import Xception, ResNet50V2, EfficientNetB5, VGG16\n",
        "from tensorflow.keras.optimizers import Adam"
      ],
      "metadata": {
        "id": "PDGt2oN4JDJe"
      },
      "execution_count": null,
      "outputs": []
    },
    {
      "cell_type": "code",
      "source": [
        "inputan = (64,64,3)\n",
        "input_model = Input(shape=inputan)\n",
        "\n",
        "vgg_model = VGG16(include_top=False, weights=\"imagenet\", input_shape=inputan)(input_model)\n",
        "\n",
        "def pemodelan(m1):\n",
        "  model = concatenate([m1])\n",
        "  model = GlobalMaxPooling2D()(model)\n",
        "  model = Flatten(name=\"flatten\")(model)\n",
        "  model = Dense(2048, activation=\"relu\")(model)\n",
        "  model = Dropout(0.35)(model)\n",
        "  model = Dense(1024, activation=\"relu\")(model)\n",
        "  model = Dropout(0.35)(model)\n",
        "  model = Dense(2, activation=\"softmax\")(model)\n",
        "\n",
        "  return model"
      ],
      "metadata": {
        "colab": {
          "base_uri": "https://localhost:8080/"
        },
        "id": "Tpuz3qxFJFk8",
        "outputId": "091743e4-804e-41fe-ef3a-95ae62b615dc"
      },
      "execution_count": null,
      "outputs": [
        {
          "output_type": "stream",
          "name": "stdout",
          "text": [
            "Downloading data from https://storage.googleapis.com/tensorflow/keras-applications/vgg16/vgg16_weights_tf_dim_ordering_tf_kernels_notop.h5\n",
            "58892288/58889256 [==============================] - 2s 0us/step\n",
            "58900480/58889256 [==============================] - 2s 0us/step\n"
          ]
        }
      ]
    },
    {
      "cell_type": "code",
      "source": [
        "model1= pemodelan(vgg_model)\n",
        "pemodelan_1 = Model(inputs=input_model, outputs=model1)\n",
        "pemodelan_1.summary()"
      ],
      "metadata": {
        "colab": {
          "base_uri": "https://localhost:8080/"
        },
        "id": "CRzh-thnJJxa",
        "outputId": "e6ed284d-2961-46c2-b607-24a9905b5fa2"
      },
      "execution_count": null,
      "outputs": [
        {
          "output_type": "stream",
          "name": "stdout",
          "text": [
            "Model: \"model\"\n",
            "_________________________________________________________________\n",
            " Layer (type)                Output Shape              Param #   \n",
            "=================================================================\n",
            " input_1 (InputLayer)        [(None, 64, 64, 3)]       0         \n",
            "                                                                 \n",
            " vgg16 (Functional)          (None, 2, 2, 512)         14714688  \n",
            "                                                                 \n",
            " concatenate (Concatenate)   (None, 2, 2, 512)         0         \n",
            "                                                                 \n",
            " global_max_pooling2d (Globa  (None, 512)              0         \n",
            " lMaxPooling2D)                                                  \n",
            "                                                                 \n",
            " flatten (Flatten)           (None, 512)               0         \n",
            "                                                                 \n",
            " dense (Dense)               (None, 2048)              1050624   \n",
            "                                                                 \n",
            " dropout (Dropout)           (None, 2048)              0         \n",
            "                                                                 \n",
            " dense_1 (Dense)             (None, 1024)              2098176   \n",
            "                                                                 \n",
            " dropout_1 (Dropout)         (None, 1024)              0         \n",
            "                                                                 \n",
            " dense_2 (Dense)             (None, 2)                 2050      \n",
            "                                                                 \n",
            "=================================================================\n",
            "Total params: 17,865,538\n",
            "Trainable params: 17,865,538\n",
            "Non-trainable params: 0\n",
            "_________________________________________________________________\n"
          ]
        }
      ]
    },
    {
      "cell_type": "code",
      "source": [
        "vgg_model.trainable = False"
      ],
      "metadata": {
        "id": "-w5X-SttJNRs"
      },
      "execution_count": null,
      "outputs": []
    },
    {
      "cell_type": "code",
      "source": [
        "import tensorflow as tf\n",
        "tensorboard=tf.keras.callbacks.TensorBoard(log_dir='./logs/aug')"
      ],
      "metadata": {
        "id": "4vYUvAUbJpMr"
      },
      "execution_count": null,
      "outputs": []
    },
    {
      "cell_type": "code",
      "source": [
        "%load_ext tensorboard"
      ],
      "metadata": {
        "id": "KQFtvoDPJp4b"
      },
      "execution_count": null,
      "outputs": []
    },
    {
      "cell_type": "code",
      "source": [
        "!rm -rf ./logs/aug"
      ],
      "metadata": {
        "id": "xOD4JD0VJwfG"
      },
      "execution_count": null,
      "outputs": []
    },
    {
      "cell_type": "code",
      "source": [
        "from tensorflow.keras.callbacks import ModelCheckpoint, ReduceLROnPlateau\n",
        "def callback(path):\n",
        "  checkpoint_callback = ModelCheckpoint(path,\n",
        "                                      monitor='val_accuracy',\n",
        "                                      save_best_only=True,\n",
        "                                      verbose=1)\n",
        "  reduce_callback = ReduceLROnPlateau(monitor='val_accuracy', patience=3, factor=0.5, min_lr=0.0001, verbose=1)\n",
        "  callbacks_list = [checkpoint_callback, reduce_callback]\n",
        "  return callbacks_list"
      ],
      "metadata": {
        "id": "rXSR2oETJQGl"
      },
      "execution_count": null,
      "outputs": []
    },
    {
      "cell_type": "code",
      "source": [
        "best_model_path = 'model1.h5'\n",
        "cb=callback(best_model_path)"
      ],
      "metadata": {
        "id": "1uBB4FWYJWdb"
      },
      "execution_count": null,
      "outputs": []
    },
    {
      "cell_type": "code",
      "source": [
        "from tensorflow import keras"
      ],
      "metadata": {
        "id": "XHG-1TVCKX72"
      },
      "execution_count": null,
      "outputs": []
    },
    {
      "cell_type": "code",
      "source": [
        "learning_rate=0.0001\n",
        "pemodelan_1.compile(optimizer=Adam(lr=learning_rate), \n",
        "                    loss = keras.losses.CategoricalCrossentropy(),\n",
        "                    metrics = ['accuracy'])"
      ],
      "metadata": {
        "colab": {
          "base_uri": "https://localhost:8080/"
        },
        "id": "NjXT-4E7JYMo",
        "outputId": "e3106c4b-84d0-4b93-b17a-525b113720ae"
      },
      "execution_count": null,
      "outputs": [
        {
          "output_type": "stream",
          "name": "stderr",
          "text": [
            "/usr/local/lib/python3.7/dist-packages/keras/optimizer_v2/adam.py:105: UserWarning: The `lr` argument is deprecated, use `learning_rate` instead.\n",
            "  super(Adam, self).__init__(name, **kwargs)\n"
          ]
        }
      ]
    },
    {
      "cell_type": "code",
      "source": [
        "history = pemodelan_1.fit(train_images,\n",
        "                    epochs=100,\n",
        "                    batch_size=128,\n",
        "                    validation_data=test_images,\n",
        "                    callbacks=[tensorboard,cb])"
      ],
      "metadata": {
        "colab": {
          "base_uri": "https://localhost:8080/"
        },
        "id": "wMOtjHjFKtkQ",
        "outputId": "a45dd58e-b744-4d4f-8ba0-7af181e229cc"
      },
      "execution_count": null,
      "outputs": [
        {
          "output_type": "stream",
          "name": "stdout",
          "text": [
            "Epoch 1/100\n",
            "7/7 [==============================] - ETA: 0s - loss: 0.2077 - accuracy: 0.9167\n",
            "Epoch 00001: val_accuracy did not improve from 1.00000\n",
            "7/7 [==============================] - 2s 262ms/step - loss: 0.2077 - accuracy: 0.9167 - val_loss: 0.1055 - val_accuracy: 0.9706 - lr: 1.0000e-04\n",
            "Epoch 2/100\n",
            "7/7 [==============================] - ETA: 0s - loss: 0.1982 - accuracy: 0.9167\n",
            "Epoch 00002: val_accuracy did not improve from 1.00000\n",
            "7/7 [==============================] - 2s 237ms/step - loss: 0.1982 - accuracy: 0.9167 - val_loss: 0.4036 - val_accuracy: 0.8235 - lr: 1.0000e-04\n",
            "Epoch 3/100\n",
            "7/7 [==============================] - ETA: 0s - loss: 0.2182 - accuracy: 0.9167\n",
            "Epoch 00003: val_accuracy did not improve from 1.00000\n",
            "7/7 [==============================] - 2s 236ms/step - loss: 0.2182 - accuracy: 0.9167 - val_loss: 0.1649 - val_accuracy: 0.9412 - lr: 1.0000e-04\n",
            "Epoch 4/100\n",
            "7/7 [==============================] - ETA: 0s - loss: 0.3587 - accuracy: 0.8431\n",
            "Epoch 00004: val_accuracy did not improve from 1.00000\n",
            "7/7 [==============================] - 2s 238ms/step - loss: 0.3587 - accuracy: 0.8431 - val_loss: 0.5367 - val_accuracy: 0.7353 - lr: 1.0000e-04\n",
            "Epoch 5/100\n",
            "7/7 [==============================] - ETA: 0s - loss: 0.2564 - accuracy: 0.8922\n",
            "Epoch 00005: val_accuracy did not improve from 1.00000\n",
            "7/7 [==============================] - 2s 266ms/step - loss: 0.2564 - accuracy: 0.8922 - val_loss: 0.1548 - val_accuracy: 0.9706 - lr: 1.0000e-04\n",
            "Epoch 6/100\n",
            "7/7 [==============================] - ETA: 0s - loss: 0.1798 - accuracy: 0.9363\n",
            "Epoch 00006: val_accuracy did not improve from 1.00000\n",
            "7/7 [==============================] - 2s 238ms/step - loss: 0.1798 - accuracy: 0.9363 - val_loss: 0.1290 - val_accuracy: 0.9412 - lr: 1.0000e-04\n",
            "Epoch 7/100\n",
            "7/7 [==============================] - ETA: 0s - loss: 0.1657 - accuracy: 0.9510\n",
            "Epoch 00007: val_accuracy did not improve from 1.00000\n",
            "7/7 [==============================] - 2s 234ms/step - loss: 0.1657 - accuracy: 0.9510 - val_loss: 0.1582 - val_accuracy: 0.9412 - lr: 1.0000e-04\n",
            "Epoch 8/100\n",
            "7/7 [==============================] - ETA: 0s - loss: 0.1723 - accuracy: 0.9412\n",
            "Epoch 00008: val_accuracy did not improve from 1.00000\n",
            "7/7 [==============================] - 2s 243ms/step - loss: 0.1723 - accuracy: 0.9412 - val_loss: 0.1734 - val_accuracy: 0.9412 - lr: 1.0000e-04\n",
            "Epoch 9/100\n",
            "7/7 [==============================] - ETA: 0s - loss: 0.1558 - accuracy: 0.9412\n",
            "Epoch 00009: val_accuracy did not improve from 1.00000\n",
            "7/7 [==============================] - 2s 237ms/step - loss: 0.1558 - accuracy: 0.9412 - val_loss: 0.0472 - val_accuracy: 1.0000 - lr: 1.0000e-04\n",
            "Epoch 10/100\n",
            "7/7 [==============================] - ETA: 0s - loss: 0.1800 - accuracy: 0.9265\n",
            "Epoch 00010: val_accuracy did not improve from 1.00000\n",
            "7/7 [==============================] - 2s 261ms/step - loss: 0.1800 - accuracy: 0.9265 - val_loss: 0.4830 - val_accuracy: 0.7941 - lr: 1.0000e-04\n",
            "Epoch 11/100\n",
            "7/7 [==============================] - ETA: 0s - loss: 0.2002 - accuracy: 0.9167\n",
            "Epoch 00011: val_accuracy did not improve from 1.00000\n",
            "7/7 [==============================] - 2s 242ms/step - loss: 0.2002 - accuracy: 0.9167 - val_loss: 0.0951 - val_accuracy: 0.9706 - lr: 1.0000e-04\n",
            "Epoch 12/100\n",
            "7/7 [==============================] - ETA: 0s - loss: 0.1328 - accuracy: 0.9510\n",
            "Epoch 00012: val_accuracy did not improve from 1.00000\n",
            "7/7 [==============================] - 2s 231ms/step - loss: 0.1328 - accuracy: 0.9510 - val_loss: 0.0544 - val_accuracy: 1.0000 - lr: 1.0000e-04\n",
            "Epoch 13/100\n",
            "7/7 [==============================] - ETA: 0s - loss: 0.2272 - accuracy: 0.9167\n",
            "Epoch 00013: val_accuracy did not improve from 1.00000\n",
            "7/7 [==============================] - 2s 232ms/step - loss: 0.2272 - accuracy: 0.9167 - val_loss: 0.1614 - val_accuracy: 0.9118 - lr: 1.0000e-04\n",
            "Epoch 14/100\n",
            "7/7 [==============================] - ETA: 0s - loss: 0.2199 - accuracy: 0.9069\n",
            "Epoch 00014: val_accuracy did not improve from 1.00000\n",
            "7/7 [==============================] - 2s 241ms/step - loss: 0.2199 - accuracy: 0.9069 - val_loss: 0.4397 - val_accuracy: 0.8235 - lr: 1.0000e-04\n",
            "Epoch 15/100\n",
            "7/7 [==============================] - ETA: 0s - loss: 0.1820 - accuracy: 0.9265\n",
            "Epoch 00015: val_accuracy did not improve from 1.00000\n",
            "7/7 [==============================] - 2s 231ms/step - loss: 0.1820 - accuracy: 0.9265 - val_loss: 0.1446 - val_accuracy: 0.9412 - lr: 1.0000e-04\n",
            "Epoch 16/100\n",
            "7/7 [==============================] - ETA: 0s - loss: 0.2591 - accuracy: 0.9069\n",
            "Epoch 00016: val_accuracy did not improve from 1.00000\n",
            "7/7 [==============================] - 2s 234ms/step - loss: 0.2591 - accuracy: 0.9069 - val_loss: 0.2680 - val_accuracy: 0.9118 - lr: 1.0000e-04\n",
            "Epoch 17/100\n",
            "7/7 [==============================] - ETA: 0s - loss: 0.1738 - accuracy: 0.9265\n",
            "Epoch 00017: val_accuracy did not improve from 1.00000\n",
            "7/7 [==============================] - 2s 242ms/step - loss: 0.1738 - accuracy: 0.9265 - val_loss: 0.0785 - val_accuracy: 1.0000 - lr: 1.0000e-04\n",
            "Epoch 18/100\n",
            "7/7 [==============================] - ETA: 0s - loss: 0.1698 - accuracy: 0.9412\n",
            "Epoch 00018: val_accuracy did not improve from 1.00000\n",
            "7/7 [==============================] - 2s 239ms/step - loss: 0.1698 - accuracy: 0.9412 - val_loss: 0.1273 - val_accuracy: 0.9412 - lr: 1.0000e-04\n",
            "Epoch 19/100\n",
            "7/7 [==============================] - ETA: 0s - loss: 0.1011 - accuracy: 0.9608\n",
            "Epoch 00019: val_accuracy did not improve from 1.00000\n",
            "7/7 [==============================] - 2s 229ms/step - loss: 0.1011 - accuracy: 0.9608 - val_loss: 0.2387 - val_accuracy: 0.9118 - lr: 1.0000e-04\n",
            "Epoch 20/100\n",
            "7/7 [==============================] - ETA: 0s - loss: 0.1674 - accuracy: 0.9461\n",
            "Epoch 00020: val_accuracy did not improve from 1.00000\n",
            "7/7 [==============================] - 2s 231ms/step - loss: 0.1674 - accuracy: 0.9461 - val_loss: 0.0559 - val_accuracy: 1.0000 - lr: 1.0000e-04\n",
            "Epoch 21/100\n",
            "7/7 [==============================] - ETA: 0s - loss: 0.1239 - accuracy: 0.9657\n",
            "Epoch 00021: val_accuracy did not improve from 1.00000\n",
            "7/7 [==============================] - 2s 238ms/step - loss: 0.1239 - accuracy: 0.9657 - val_loss: 0.2402 - val_accuracy: 0.9412 - lr: 1.0000e-04\n",
            "Epoch 22/100\n",
            "7/7 [==============================] - ETA: 0s - loss: 0.1083 - accuracy: 0.9510\n",
            "Epoch 00022: val_accuracy did not improve from 1.00000\n",
            "7/7 [==============================] - 2s 242ms/step - loss: 0.1083 - accuracy: 0.9510 - val_loss: 0.2014 - val_accuracy: 0.9118 - lr: 1.0000e-04\n",
            "Epoch 23/100\n",
            "7/7 [==============================] - ETA: 0s - loss: 0.2372 - accuracy: 0.9069\n",
            "Epoch 00023: val_accuracy did not improve from 1.00000\n",
            "7/7 [==============================] - 2s 256ms/step - loss: 0.2372 - accuracy: 0.9069 - val_loss: 0.1422 - val_accuracy: 0.9412 - lr: 1.0000e-04\n",
            "Epoch 24/100\n",
            "7/7 [==============================] - ETA: 0s - loss: 0.1437 - accuracy: 0.9510\n",
            "Epoch 00024: val_accuracy did not improve from 1.00000\n",
            "7/7 [==============================] - 2s 241ms/step - loss: 0.1437 - accuracy: 0.9510 - val_loss: 0.2621 - val_accuracy: 0.8824 - lr: 1.0000e-04\n",
            "Epoch 25/100\n",
            "7/7 [==============================] - ETA: 0s - loss: 0.1558 - accuracy: 0.9314\n",
            "Epoch 00025: val_accuracy did not improve from 1.00000\n",
            "7/7 [==============================] - 2s 233ms/step - loss: 0.1558 - accuracy: 0.9314 - val_loss: 0.0585 - val_accuracy: 1.0000 - lr: 1.0000e-04\n",
            "Epoch 26/100\n",
            "7/7 [==============================] - ETA: 0s - loss: 0.1140 - accuracy: 0.9559\n",
            "Epoch 00026: val_accuracy did not improve from 1.00000\n",
            "7/7 [==============================] - 2s 227ms/step - loss: 0.1140 - accuracy: 0.9559 - val_loss: 0.0752 - val_accuracy: 1.0000 - lr: 1.0000e-04\n",
            "Epoch 27/100\n",
            "7/7 [==============================] - ETA: 0s - loss: 0.0687 - accuracy: 0.9804\n",
            "Epoch 00027: val_accuracy did not improve from 1.00000\n",
            "7/7 [==============================] - 2s 265ms/step - loss: 0.0687 - accuracy: 0.9804 - val_loss: 0.0703 - val_accuracy: 1.0000 - lr: 1.0000e-04\n",
            "Epoch 28/100\n",
            "7/7 [==============================] - ETA: 0s - loss: 0.0512 - accuracy: 0.9853\n",
            "Epoch 00028: val_accuracy did not improve from 1.00000\n",
            "7/7 [==============================] - 2s 233ms/step - loss: 0.0512 - accuracy: 0.9853 - val_loss: 0.2352 - val_accuracy: 0.9412 - lr: 1.0000e-04\n",
            "Epoch 29/100\n",
            "7/7 [==============================] - ETA: 0s - loss: 0.1164 - accuracy: 0.9608\n",
            "Epoch 00029: val_accuracy did not improve from 1.00000\n",
            "7/7 [==============================] - 2s 260ms/step - loss: 0.1164 - accuracy: 0.9608 - val_loss: 0.2053 - val_accuracy: 0.9118 - lr: 1.0000e-04\n",
            "Epoch 30/100\n",
            "7/7 [==============================] - ETA: 0s - loss: 0.1034 - accuracy: 0.9608\n",
            "Epoch 00030: val_accuracy did not improve from 1.00000\n",
            "7/7 [==============================] - 2s 237ms/step - loss: 0.1034 - accuracy: 0.9608 - val_loss: 0.0261 - val_accuracy: 1.0000 - lr: 1.0000e-04\n",
            "Epoch 31/100\n",
            "7/7 [==============================] - ETA: 0s - loss: 0.1016 - accuracy: 0.9559\n",
            "Epoch 00031: val_accuracy did not improve from 1.00000\n",
            "7/7 [==============================] - 2s 240ms/step - loss: 0.1016 - accuracy: 0.9559 - val_loss: 0.2621 - val_accuracy: 0.8824 - lr: 1.0000e-04\n",
            "Epoch 32/100\n",
            "7/7 [==============================] - ETA: 0s - loss: 0.1137 - accuracy: 0.9559\n",
            "Epoch 00032: val_accuracy did not improve from 1.00000\n",
            "7/7 [==============================] - 2s 269ms/step - loss: 0.1137 - accuracy: 0.9559 - val_loss: 0.1704 - val_accuracy: 0.8824 - lr: 1.0000e-04\n",
            "Epoch 33/100\n",
            "7/7 [==============================] - ETA: 0s - loss: 0.1024 - accuracy: 0.9412\n",
            "Epoch 00033: val_accuracy did not improve from 1.00000\n",
            "7/7 [==============================] - 2s 243ms/step - loss: 0.1024 - accuracy: 0.9412 - val_loss: 0.2580 - val_accuracy: 0.9118 - lr: 1.0000e-04\n",
            "Epoch 34/100\n",
            "7/7 [==============================] - ETA: 0s - loss: 0.0884 - accuracy: 0.9608\n",
            "Epoch 00034: val_accuracy did not improve from 1.00000\n",
            "7/7 [==============================] - 2s 245ms/step - loss: 0.0884 - accuracy: 0.9608 - val_loss: 0.2211 - val_accuracy: 0.8824 - lr: 1.0000e-04\n",
            "Epoch 35/100\n",
            "7/7 [==============================] - ETA: 0s - loss: 0.1053 - accuracy: 0.9559\n",
            "Epoch 00035: val_accuracy did not improve from 1.00000\n",
            "7/7 [==============================] - 2s 237ms/step - loss: 0.1053 - accuracy: 0.9559 - val_loss: 0.1235 - val_accuracy: 0.9412 - lr: 1.0000e-04\n",
            "Epoch 36/100\n",
            "7/7 [==============================] - ETA: 0s - loss: 0.1095 - accuracy: 0.9657\n",
            "Epoch 00036: val_accuracy did not improve from 1.00000\n",
            "7/7 [==============================] - 2s 264ms/step - loss: 0.1095 - accuracy: 0.9657 - val_loss: 0.1966 - val_accuracy: 0.9118 - lr: 1.0000e-04\n",
            "Epoch 37/100\n",
            "7/7 [==============================] - ETA: 0s - loss: 0.1364 - accuracy: 0.9559\n",
            "Epoch 00037: val_accuracy did not improve from 1.00000\n",
            "7/7 [==============================] - 2s 242ms/step - loss: 0.1364 - accuracy: 0.9559 - val_loss: 0.1705 - val_accuracy: 0.9706 - lr: 1.0000e-04\n",
            "Epoch 38/100\n",
            "7/7 [==============================] - ETA: 0s - loss: 0.0497 - accuracy: 0.9853\n",
            "Epoch 00038: val_accuracy did not improve from 1.00000\n",
            "7/7 [==============================] - 2s 244ms/step - loss: 0.0497 - accuracy: 0.9853 - val_loss: 0.2345 - val_accuracy: 0.9412 - lr: 1.0000e-04\n",
            "Epoch 39/100\n",
            "7/7 [==============================] - ETA: 0s - loss: 0.0624 - accuracy: 0.9804\n",
            "Epoch 00039: val_accuracy did not improve from 1.00000\n",
            "7/7 [==============================] - 2s 238ms/step - loss: 0.0624 - accuracy: 0.9804 - val_loss: 0.1075 - val_accuracy: 0.9412 - lr: 1.0000e-04\n",
            "Epoch 40/100\n",
            "7/7 [==============================] - ETA: 0s - loss: 0.1318 - accuracy: 0.9461\n",
            "Epoch 00040: val_accuracy did not improve from 1.00000\n",
            "7/7 [==============================] - 2s 241ms/step - loss: 0.1318 - accuracy: 0.9461 - val_loss: 0.0293 - val_accuracy: 1.0000 - lr: 1.0000e-04\n",
            "Epoch 41/100\n",
            "7/7 [==============================] - ETA: 0s - loss: 0.0876 - accuracy: 0.9657\n",
            "Epoch 00041: val_accuracy did not improve from 1.00000\n",
            "7/7 [==============================] - 2s 238ms/step - loss: 0.0876 - accuracy: 0.9657 - val_loss: 0.1969 - val_accuracy: 0.9412 - lr: 1.0000e-04\n",
            "Epoch 42/100\n",
            "7/7 [==============================] - ETA: 0s - loss: 0.0658 - accuracy: 0.9804\n",
            "Epoch 00042: val_accuracy did not improve from 1.00000\n",
            "7/7 [==============================] - 2s 238ms/step - loss: 0.0658 - accuracy: 0.9804 - val_loss: 0.1923 - val_accuracy: 0.9118 - lr: 1.0000e-04\n",
            "Epoch 43/100\n",
            "7/7 [==============================] - ETA: 0s - loss: 0.0484 - accuracy: 0.9804\n",
            "Epoch 00043: val_accuracy did not improve from 1.00000\n",
            "7/7 [==============================] - 2s 232ms/step - loss: 0.0484 - accuracy: 0.9804 - val_loss: 0.0695 - val_accuracy: 0.9706 - lr: 1.0000e-04\n",
            "Epoch 44/100\n",
            "7/7 [==============================] - ETA: 0s - loss: 0.0493 - accuracy: 0.9755\n",
            "Epoch 00044: val_accuracy did not improve from 1.00000\n",
            "7/7 [==============================] - 2s 236ms/step - loss: 0.0493 - accuracy: 0.9755 - val_loss: 0.5067 - val_accuracy: 0.8529 - lr: 1.0000e-04\n",
            "Epoch 45/100\n",
            "7/7 [==============================] - ETA: 0s - loss: 0.0620 - accuracy: 0.9755\n",
            "Epoch 00045: val_accuracy did not improve from 1.00000\n",
            "7/7 [==============================] - 2s 241ms/step - loss: 0.0620 - accuracy: 0.9755 - val_loss: 0.2505 - val_accuracy: 0.8824 - lr: 1.0000e-04\n",
            "Epoch 46/100\n",
            "7/7 [==============================] - ETA: 0s - loss: 0.1047 - accuracy: 0.9510\n",
            "Epoch 00046: val_accuracy did not improve from 1.00000\n",
            "7/7 [==============================] - 2s 237ms/step - loss: 0.1047 - accuracy: 0.9510 - val_loss: 0.1092 - val_accuracy: 0.9412 - lr: 1.0000e-04\n",
            "Epoch 47/100\n",
            "7/7 [==============================] - ETA: 0s - loss: 0.0717 - accuracy: 0.9657\n",
            "Epoch 00047: val_accuracy did not improve from 1.00000\n",
            "7/7 [==============================] - 2s 262ms/step - loss: 0.0717 - accuracy: 0.9657 - val_loss: 0.5487 - val_accuracy: 0.8529 - lr: 1.0000e-04\n",
            "Epoch 48/100\n",
            "7/7 [==============================] - ETA: 0s - loss: 0.1279 - accuracy: 0.9461\n",
            "Epoch 00048: val_accuracy did not improve from 1.00000\n",
            "7/7 [==============================] - 2s 244ms/step - loss: 0.1279 - accuracy: 0.9461 - val_loss: 0.0444 - val_accuracy: 1.0000 - lr: 1.0000e-04\n",
            "Epoch 49/100\n",
            "7/7 [==============================] - ETA: 0s - loss: 0.0552 - accuracy: 0.9706\n",
            "Epoch 00049: val_accuracy did not improve from 1.00000\n",
            "7/7 [==============================] - 2s 238ms/step - loss: 0.0552 - accuracy: 0.9706 - val_loss: 0.0763 - val_accuracy: 0.9706 - lr: 1.0000e-04\n",
            "Epoch 50/100\n",
            "7/7 [==============================] - ETA: 0s - loss: 0.0909 - accuracy: 0.9706\n",
            "Epoch 00050: val_accuracy did not improve from 1.00000\n",
            "7/7 [==============================] - 2s 239ms/step - loss: 0.0909 - accuracy: 0.9706 - val_loss: 0.2285 - val_accuracy: 0.8824 - lr: 1.0000e-04\n",
            "Epoch 51/100\n",
            "7/7 [==============================] - ETA: 0s - loss: 0.0884 - accuracy: 0.9706\n",
            "Epoch 00051: val_accuracy did not improve from 1.00000\n",
            "7/7 [==============================] - 2s 242ms/step - loss: 0.0884 - accuracy: 0.9706 - val_loss: 0.1561 - val_accuracy: 0.9412 - lr: 1.0000e-04\n",
            "Epoch 52/100\n",
            "7/7 [==============================] - ETA: 0s - loss: 0.0559 - accuracy: 0.9853\n",
            "Epoch 00052: val_accuracy did not improve from 1.00000\n",
            "7/7 [==============================] - 2s 228ms/step - loss: 0.0559 - accuracy: 0.9853 - val_loss: 0.2049 - val_accuracy: 0.9118 - lr: 1.0000e-04\n",
            "Epoch 53/100\n",
            "7/7 [==============================] - ETA: 0s - loss: 0.0996 - accuracy: 0.9804\n",
            "Epoch 00053: val_accuracy did not improve from 1.00000\n",
            "7/7 [==============================] - 2s 227ms/step - loss: 0.0996 - accuracy: 0.9804 - val_loss: 0.0352 - val_accuracy: 1.0000 - lr: 1.0000e-04\n",
            "Epoch 54/100\n",
            "7/7 [==============================] - ETA: 0s - loss: 0.0812 - accuracy: 0.9804\n",
            "Epoch 00054: val_accuracy did not improve from 1.00000\n",
            "7/7 [==============================] - 2s 241ms/step - loss: 0.0812 - accuracy: 0.9804 - val_loss: 0.1222 - val_accuracy: 0.9412 - lr: 1.0000e-04\n",
            "Epoch 55/100\n",
            "7/7 [==============================] - ETA: 0s - loss: 0.0684 - accuracy: 0.9804\n",
            "Epoch 00055: val_accuracy did not improve from 1.00000\n",
            "7/7 [==============================] - 2s 238ms/step - loss: 0.0684 - accuracy: 0.9804 - val_loss: 0.1579 - val_accuracy: 0.9412 - lr: 1.0000e-04\n",
            "Epoch 56/100\n",
            "7/7 [==============================] - ETA: 0s - loss: 0.0300 - accuracy: 0.9804\n",
            "Epoch 00056: val_accuracy did not improve from 1.00000\n",
            "7/7 [==============================] - 2s 234ms/step - loss: 0.0300 - accuracy: 0.9804 - val_loss: 0.0310 - val_accuracy: 1.0000 - lr: 1.0000e-04\n",
            "Epoch 57/100\n",
            "7/7 [==============================] - ETA: 0s - loss: 0.0732 - accuracy: 0.9755\n",
            "Epoch 00057: val_accuracy did not improve from 1.00000\n",
            "7/7 [==============================] - 2s 239ms/step - loss: 0.0732 - accuracy: 0.9755 - val_loss: 0.0575 - val_accuracy: 1.0000 - lr: 1.0000e-04\n",
            "Epoch 58/100\n",
            "7/7 [==============================] - ETA: 0s - loss: 0.0664 - accuracy: 0.9755\n",
            "Epoch 00058: val_accuracy did not improve from 1.00000\n",
            "7/7 [==============================] - 2s 229ms/step - loss: 0.0664 - accuracy: 0.9755 - val_loss: 0.1225 - val_accuracy: 0.9118 - lr: 1.0000e-04\n",
            "Epoch 59/100\n",
            "7/7 [==============================] - ETA: 0s - loss: 0.0730 - accuracy: 0.9657\n",
            "Epoch 00059: val_accuracy did not improve from 1.00000\n",
            "7/7 [==============================] - 2s 238ms/step - loss: 0.0730 - accuracy: 0.9657 - val_loss: 0.1819 - val_accuracy: 0.9412 - lr: 1.0000e-04\n",
            "Epoch 60/100\n",
            "7/7 [==============================] - ETA: 0s - loss: 0.0454 - accuracy: 0.9902\n",
            "Epoch 00060: val_accuracy did not improve from 1.00000\n",
            "7/7 [==============================] - 2s 244ms/step - loss: 0.0454 - accuracy: 0.9902 - val_loss: 0.0954 - val_accuracy: 0.9412 - lr: 1.0000e-04\n",
            "Epoch 61/100\n",
            "7/7 [==============================] - ETA: 0s - loss: 0.0858 - accuracy: 0.9559\n",
            "Epoch 00061: val_accuracy did not improve from 1.00000\n",
            "7/7 [==============================] - 2s 236ms/step - loss: 0.0858 - accuracy: 0.9559 - val_loss: 0.0178 - val_accuracy: 1.0000 - lr: 1.0000e-04\n",
            "Epoch 62/100\n",
            "7/7 [==============================] - ETA: 0s - loss: 0.0601 - accuracy: 0.9804\n",
            "Epoch 00062: val_accuracy did not improve from 1.00000\n",
            "7/7 [==============================] - 2s 237ms/step - loss: 0.0601 - accuracy: 0.9804 - val_loss: 0.0595 - val_accuracy: 0.9706 - lr: 1.0000e-04\n",
            "Epoch 63/100\n",
            "7/7 [==============================] - ETA: 0s - loss: 0.0565 - accuracy: 0.9853\n",
            "Epoch 00063: val_accuracy did not improve from 1.00000\n",
            "7/7 [==============================] - 2s 260ms/step - loss: 0.0565 - accuracy: 0.9853 - val_loss: 0.0853 - val_accuracy: 0.9706 - lr: 1.0000e-04\n",
            "Epoch 64/100\n",
            "7/7 [==============================] - ETA: 0s - loss: 0.0507 - accuracy: 0.9804\n",
            "Epoch 00064: val_accuracy did not improve from 1.00000\n",
            "7/7 [==============================] - 2s 235ms/step - loss: 0.0507 - accuracy: 0.9804 - val_loss: 0.0815 - val_accuracy: 0.9412 - lr: 1.0000e-04\n",
            "Epoch 65/100\n",
            "7/7 [==============================] - ETA: 0s - loss: 0.0343 - accuracy: 0.9853\n",
            "Epoch 00065: val_accuracy did not improve from 1.00000\n",
            "7/7 [==============================] - 2s 244ms/step - loss: 0.0343 - accuracy: 0.9853 - val_loss: 0.2939 - val_accuracy: 0.8824 - lr: 1.0000e-04\n",
            "Epoch 66/100\n",
            "7/7 [==============================] - ETA: 0s - loss: 0.0380 - accuracy: 0.9902\n",
            "Epoch 00066: val_accuracy did not improve from 1.00000\n",
            "7/7 [==============================] - 2s 242ms/step - loss: 0.0380 - accuracy: 0.9902 - val_loss: 0.0685 - val_accuracy: 0.9706 - lr: 1.0000e-04\n",
            "Epoch 67/100\n",
            "7/7 [==============================] - ETA: 0s - loss: 0.0454 - accuracy: 0.9804\n",
            "Epoch 00067: val_accuracy did not improve from 1.00000\n",
            "7/7 [==============================] - 2s 265ms/step - loss: 0.0454 - accuracy: 0.9804 - val_loss: 0.0353 - val_accuracy: 1.0000 - lr: 1.0000e-04\n",
            "Epoch 68/100\n",
            "7/7 [==============================] - ETA: 0s - loss: 0.0331 - accuracy: 0.9902\n",
            "Epoch 00068: val_accuracy did not improve from 1.00000\n",
            "7/7 [==============================] - 2s 238ms/step - loss: 0.0331 - accuracy: 0.9902 - val_loss: 0.1789 - val_accuracy: 0.9118 - lr: 1.0000e-04\n",
            "Epoch 69/100\n",
            "7/7 [==============================] - ETA: 0s - loss: 0.0694 - accuracy: 0.9853\n",
            "Epoch 00069: val_accuracy did not improve from 1.00000\n",
            "7/7 [==============================] - 2s 242ms/step - loss: 0.0694 - accuracy: 0.9853 - val_loss: 0.0426 - val_accuracy: 1.0000 - lr: 1.0000e-04\n",
            "Epoch 70/100\n",
            "7/7 [==============================] - ETA: 0s - loss: 0.1132 - accuracy: 0.9608\n",
            "Epoch 00070: val_accuracy did not improve from 1.00000\n",
            "7/7 [==============================] - 2s 236ms/step - loss: 0.1132 - accuracy: 0.9608 - val_loss: 0.3443 - val_accuracy: 0.9118 - lr: 1.0000e-04\n",
            "Epoch 71/100\n",
            "7/7 [==============================] - ETA: 0s - loss: 0.0618 - accuracy: 0.9804\n",
            "Epoch 00071: val_accuracy did not improve from 1.00000\n",
            "7/7 [==============================] - 2s 242ms/step - loss: 0.0618 - accuracy: 0.9804 - val_loss: 0.2746 - val_accuracy: 0.8529 - lr: 1.0000e-04\n",
            "Epoch 72/100\n",
            "7/7 [==============================] - ETA: 0s - loss: 0.0916 - accuracy: 0.9657\n",
            "Epoch 00072: val_accuracy did not improve from 1.00000\n",
            "7/7 [==============================] - 2s 264ms/step - loss: 0.0916 - accuracy: 0.9657 - val_loss: 0.1888 - val_accuracy: 0.9118 - lr: 1.0000e-04\n",
            "Epoch 73/100\n",
            "7/7 [==============================] - ETA: 0s - loss: 0.0298 - accuracy: 0.9902\n",
            "Epoch 00073: val_accuracy did not improve from 1.00000\n",
            "7/7 [==============================] - 2s 240ms/step - loss: 0.0298 - accuracy: 0.9902 - val_loss: 0.1595 - val_accuracy: 0.8824 - lr: 1.0000e-04\n",
            "Epoch 74/100\n",
            "7/7 [==============================] - ETA: 0s - loss: 0.0172 - accuracy: 0.9951\n",
            "Epoch 00074: val_accuracy did not improve from 1.00000\n",
            "7/7 [==============================] - 2s 241ms/step - loss: 0.0172 - accuracy: 0.9951 - val_loss: 0.0964 - val_accuracy: 0.9706 - lr: 1.0000e-04\n",
            "Epoch 75/100\n",
            "7/7 [==============================] - ETA: 0s - loss: 0.0174 - accuracy: 0.9951\n",
            "Epoch 00075: val_accuracy did not improve from 1.00000\n",
            "7/7 [==============================] - 2s 231ms/step - loss: 0.0174 - accuracy: 0.9951 - val_loss: 0.0214 - val_accuracy: 1.0000 - lr: 1.0000e-04\n",
            "Epoch 76/100\n",
            "7/7 [==============================] - ETA: 0s - loss: 0.0475 - accuracy: 0.9853\n",
            "Epoch 00076: val_accuracy did not improve from 1.00000\n",
            "7/7 [==============================] - 2s 235ms/step - loss: 0.0475 - accuracy: 0.9853 - val_loss: 0.1443 - val_accuracy: 0.9118 - lr: 1.0000e-04\n",
            "Epoch 77/100\n",
            "7/7 [==============================] - ETA: 0s - loss: 0.0630 - accuracy: 0.9755\n",
            "Epoch 00077: val_accuracy did not improve from 1.00000\n",
            "7/7 [==============================] - 2s 245ms/step - loss: 0.0630 - accuracy: 0.9755 - val_loss: 0.2427 - val_accuracy: 0.9118 - lr: 1.0000e-04\n",
            "Epoch 78/100\n",
            "7/7 [==============================] - ETA: 0s - loss: 0.0448 - accuracy: 0.9853\n",
            "Epoch 00078: val_accuracy did not improve from 1.00000\n",
            "7/7 [==============================] - 2s 239ms/step - loss: 0.0448 - accuracy: 0.9853 - val_loss: 0.2371 - val_accuracy: 0.9412 - lr: 1.0000e-04\n",
            "Epoch 79/100\n",
            "7/7 [==============================] - ETA: 0s - loss: 0.1476 - accuracy: 0.9412\n",
            "Epoch 00079: val_accuracy did not improve from 1.00000\n",
            "7/7 [==============================] - 2s 233ms/step - loss: 0.1476 - accuracy: 0.9412 - val_loss: 0.2841 - val_accuracy: 0.8529 - lr: 1.0000e-04\n",
            "Epoch 80/100\n",
            "7/7 [==============================] - ETA: 0s - loss: 0.1786 - accuracy: 0.9265\n",
            "Epoch 00080: val_accuracy did not improve from 1.00000\n",
            "7/7 [==============================] - 2s 239ms/step - loss: 0.1786 - accuracy: 0.9265 - val_loss: 0.3225 - val_accuracy: 0.8824 - lr: 1.0000e-04\n",
            "Epoch 81/100\n",
            "7/7 [==============================] - ETA: 0s - loss: 0.1278 - accuracy: 0.9657\n",
            "Epoch 00081: val_accuracy did not improve from 1.00000\n",
            "7/7 [==============================] - 2s 237ms/step - loss: 0.1278 - accuracy: 0.9657 - val_loss: 0.2120 - val_accuracy: 0.9412 - lr: 1.0000e-04\n",
            "Epoch 82/100\n",
            "7/7 [==============================] - ETA: 0s - loss: 0.0913 - accuracy: 0.9608\n",
            "Epoch 00082: val_accuracy did not improve from 1.00000\n",
            "7/7 [==============================] - 2s 234ms/step - loss: 0.0913 - accuracy: 0.9608 - val_loss: 0.1045 - val_accuracy: 0.9706 - lr: 1.0000e-04\n",
            "Epoch 83/100\n",
            "7/7 [==============================] - ETA: 0s - loss: 0.0769 - accuracy: 0.9657\n",
            "Epoch 00083: val_accuracy did not improve from 1.00000\n",
            "7/7 [==============================] - 2s 248ms/step - loss: 0.0769 - accuracy: 0.9657 - val_loss: 0.4331 - val_accuracy: 0.9118 - lr: 1.0000e-04\n",
            "Epoch 84/100\n",
            "7/7 [==============================] - ETA: 0s - loss: 0.2334 - accuracy: 0.9167\n",
            "Epoch 00084: val_accuracy did not improve from 1.00000\n",
            "7/7 [==============================] - 2s 285ms/step - loss: 0.2334 - accuracy: 0.9167 - val_loss: 0.4272 - val_accuracy: 0.7647 - lr: 1.0000e-04\n",
            "Epoch 85/100\n",
            "7/7 [==============================] - ETA: 0s - loss: 0.1438 - accuracy: 0.9608\n",
            "Epoch 00085: val_accuracy did not improve from 1.00000\n",
            "7/7 [==============================] - 2s 240ms/step - loss: 0.1438 - accuracy: 0.9608 - val_loss: 0.2594 - val_accuracy: 0.9118 - lr: 1.0000e-04\n",
            "Epoch 86/100\n",
            "7/7 [==============================] - ETA: 0s - loss: 0.1617 - accuracy: 0.9265\n",
            "Epoch 00086: val_accuracy did not improve from 1.00000\n",
            "7/7 [==============================] - 2s 229ms/step - loss: 0.1617 - accuracy: 0.9265 - val_loss: 0.1249 - val_accuracy: 0.9118 - lr: 1.0000e-04\n",
            "Epoch 87/100\n",
            "7/7 [==============================] - ETA: 0s - loss: 0.1018 - accuracy: 0.9559\n",
            "Epoch 00087: val_accuracy did not improve from 1.00000\n",
            "7/7 [==============================] - 2s 239ms/step - loss: 0.1018 - accuracy: 0.9559 - val_loss: 0.0470 - val_accuracy: 0.9706 - lr: 1.0000e-04\n",
            "Epoch 88/100\n",
            "7/7 [==============================] - ETA: 0s - loss: 0.1081 - accuracy: 0.9608\n",
            "Epoch 00088: val_accuracy did not improve from 1.00000\n",
            "7/7 [==============================] - 2s 246ms/step - loss: 0.1081 - accuracy: 0.9608 - val_loss: 0.1791 - val_accuracy: 0.9706 - lr: 1.0000e-04\n",
            "Epoch 89/100\n",
            "7/7 [==============================] - ETA: 0s - loss: 0.0606 - accuracy: 0.9608\n",
            "Epoch 00089: val_accuracy did not improve from 1.00000\n",
            "7/7 [==============================] - 2s 240ms/step - loss: 0.0606 - accuracy: 0.9608 - val_loss: 0.1100 - val_accuracy: 0.9412 - lr: 1.0000e-04\n",
            "Epoch 90/100\n",
            "7/7 [==============================] - ETA: 0s - loss: 0.0691 - accuracy: 0.9755\n",
            "Epoch 00090: val_accuracy did not improve from 1.00000\n",
            "7/7 [==============================] - 2s 239ms/step - loss: 0.0691 - accuracy: 0.9755 - val_loss: 0.1828 - val_accuracy: 0.9706 - lr: 1.0000e-04\n",
            "Epoch 91/100\n",
            "7/7 [==============================] - ETA: 0s - loss: 0.0360 - accuracy: 0.9902\n",
            "Epoch 00091: val_accuracy did not improve from 1.00000\n",
            "7/7 [==============================] - 2s 245ms/step - loss: 0.0360 - accuracy: 0.9902 - val_loss: 0.0663 - val_accuracy: 0.9706 - lr: 1.0000e-04\n",
            "Epoch 92/100\n",
            "7/7 [==============================] - ETA: 0s - loss: 0.0512 - accuracy: 0.9804\n",
            "Epoch 00092: val_accuracy did not improve from 1.00000\n",
            "7/7 [==============================] - 2s 238ms/step - loss: 0.0512 - accuracy: 0.9804 - val_loss: 0.5412 - val_accuracy: 0.8235 - lr: 1.0000e-04\n",
            "Epoch 93/100\n",
            "7/7 [==============================] - ETA: 0s - loss: 0.1187 - accuracy: 0.9608\n",
            "Epoch 00093: val_accuracy did not improve from 1.00000\n",
            "7/7 [==============================] - 2s 241ms/step - loss: 0.1187 - accuracy: 0.9608 - val_loss: 0.0249 - val_accuracy: 1.0000 - lr: 1.0000e-04\n",
            "Epoch 94/100\n",
            "7/7 [==============================] - ETA: 0s - loss: 0.0231 - accuracy: 0.9951\n",
            "Epoch 00094: val_accuracy did not improve from 1.00000\n",
            "7/7 [==============================] - 2s 240ms/step - loss: 0.0231 - accuracy: 0.9951 - val_loss: 0.1563 - val_accuracy: 0.9706 - lr: 1.0000e-04\n",
            "Epoch 95/100\n",
            "7/7 [==============================] - ETA: 0s - loss: 0.0504 - accuracy: 0.9853\n",
            "Epoch 00095: val_accuracy did not improve from 1.00000\n",
            "7/7 [==============================] - 2s 265ms/step - loss: 0.0504 - accuracy: 0.9853 - val_loss: 0.0725 - val_accuracy: 0.9706 - lr: 1.0000e-04\n",
            "Epoch 96/100\n",
            "7/7 [==============================] - ETA: 0s - loss: 0.0332 - accuracy: 0.9853\n",
            "Epoch 00096: val_accuracy did not improve from 1.00000\n",
            "7/7 [==============================] - 2s 239ms/step - loss: 0.0332 - accuracy: 0.9853 - val_loss: 0.0177 - val_accuracy: 1.0000 - lr: 1.0000e-04\n",
            "Epoch 97/100\n",
            "7/7 [==============================] - ETA: 0s - loss: 0.0466 - accuracy: 0.9853\n",
            "Epoch 00097: val_accuracy did not improve from 1.00000\n",
            "7/7 [==============================] - 2s 255ms/step - loss: 0.0466 - accuracy: 0.9853 - val_loss: 0.0897 - val_accuracy: 0.9706 - lr: 1.0000e-04\n",
            "Epoch 98/100\n",
            "7/7 [==============================] - ETA: 0s - loss: 0.0429 - accuracy: 0.9853\n",
            "Epoch 00098: val_accuracy did not improve from 1.00000\n",
            "7/7 [==============================] - 2s 236ms/step - loss: 0.0429 - accuracy: 0.9853 - val_loss: 0.0239 - val_accuracy: 1.0000 - lr: 1.0000e-04\n",
            "Epoch 99/100\n",
            "7/7 [==============================] - ETA: 0s - loss: 0.0530 - accuracy: 0.9853\n",
            "Epoch 00099: val_accuracy did not improve from 1.00000\n",
            "7/7 [==============================] - 2s 262ms/step - loss: 0.0530 - accuracy: 0.9853 - val_loss: 0.5410 - val_accuracy: 0.8824 - lr: 1.0000e-04\n",
            "Epoch 100/100\n",
            "7/7 [==============================] - ETA: 0s - loss: 0.0473 - accuracy: 0.9804\n",
            "Epoch 00100: val_accuracy did not improve from 1.00000\n",
            "7/7 [==============================] - 2s 242ms/step - loss: 0.0473 - accuracy: 0.9804 - val_loss: 0.1669 - val_accuracy: 0.9706 - lr: 1.0000e-04\n"
          ]
        }
      ]
    },
    {
      "cell_type": "code",
      "source": [
        "pemodelan_1.evaluate(test_images)"
      ],
      "metadata": {
        "colab": {
          "base_uri": "https://localhost:8080/"
        },
        "id": "OtLIbY1eE0NA",
        "outputId": "916d1c02-df6b-4dad-c6bd-26c4176c22da"
      },
      "execution_count": null,
      "outputs": [
        {
          "output_type": "stream",
          "name": "stdout",
          "text": [
            "2/2 [==============================] - 0s 17ms/step - loss: 0.1669 - accuracy: 0.9706\n"
          ]
        },
        {
          "output_type": "execute_result",
          "data": {
            "text/plain": [
              "[0.166908398270607, 0.970588207244873]"
            ]
          },
          "metadata": {},
          "execution_count": 46
        }
      ]
    },
    {
      "cell_type": "code",
      "source": [
        "plt.plot(history.history[\"accuracy\"] , 'ro-' , label = \"Training Accuracy\")\n",
        "plt.plot(history.history[\"val_accuracy\"] , 'go-' , label = \"Testing Accuracy\")\n",
        "plt.legend()\n",
        "plt.show()"
      ],
      "metadata": {
        "colab": {
          "base_uri": "https://localhost:8080/",
          "height": 265
        },
        "id": "snyDexDaLU-8",
        "outputId": "d6ea23ea-59f6-4b8c-bd8c-03e170c4ea5f"
      },
      "execution_count": null,
      "outputs": [
        {
          "output_type": "display_data",
          "data": {
            "image/png": "[encoded data removed]",
            "text/plain": [
              "<Figure size 432x288 with 1 Axes>"
            ]
          },
          "metadata": {
            "needs_background": "light"
          }
        }
      ]
    },
    {
      "cell_type": "code",
      "source": [
        "plt.plot(history.history[\"loss\"] , 'ro-' , label = \"Training Loss\")\n",
        "plt.plot(history.history[\"val_loss\"] , 'go-' , label = \"Testing Loss\")\n",
        "plt.legend()\n",
        "plt.show()"
      ],
      "metadata": {
        "colab": {
          "base_uri": "https://localhost:8080/",
          "height": 265
        },
        "id": "oIbS2YeWLZ_z",
        "outputId": "b6a4f86f-0615-4b18-ed94-3804d3ba7335"
      },
      "execution_count": null,
      "outputs": [
        {
          "output_type": "display_data",
          "data": {
            "image/png": "[encoded data removed]",
            "text/plain": [
              "<Figure size 432x288 with 1 Axes>"
            ]
          },
          "metadata": {
            "needs_background": "light"
          }
        }
      ]
    },
    {
      "cell_type": "code",
      "source": [
        "from sklearn.metrics import classification_report, confusion_matrix\n",
        "import seaborn as sns\n",
        "\n",
        "def evaluate(pemodelan_1):\n",
        "  valid_generator = train_generator.flow_from_directory(\n",
        "      TRAIN_DIR, \n",
        "      target_size=(64,64), \n",
        "      batch_size=32, \n",
        "      class_mode='categorical',\n",
        "      shuffle = False)\n",
        "\n",
        "  batch_size = 32\n",
        "  num_of_test_samples = len(valid_generator.filenames)\n",
        "\n",
        "  Y_pred = pemodelan_1.predict_generator(valid_generator, num_of_test_samples // batch_size+1)\n",
        "  y_pred = np.argmax(Y_pred, axis=1)\n",
        "\n",
        "  print('\\nConfusion Matrix\\n')\n",
        "  cm = confusion_matrix(valid_generator.classes, y_pred)\n",
        "  plt.figure(figsize=(8, 8))\n",
        "  sns.heatmap(cm, annot=True, fmt='g', vmin=0, cmap='Blues', cbar=False)\n",
        "  plt.xticks(ticks=[0.5, 1.5], labels=['no', 'yes'])\n",
        "  plt.yticks(ticks=[0.5, 1.5], labels=['no', 'yes'])\n",
        "  plt.xlabel(\"Predicted\")\n",
        "  plt.ylabel(\"Actual\")\n",
        "  plt.title(\"Confusion Matrix\")\n",
        "  plt.show()\n",
        "\n",
        "  print('\\n\\nClassification Report\\n')\n",
        "  target_names = ['no', 'yes']\n",
        "  print(classification_report(valid_generator.classes, y_pred, target_names=target_names))"
      ],
      "metadata": {
        "id": "aBvR9gGALswe"
      },
      "execution_count": null,
      "outputs": []
    },
    {
      "cell_type": "code",
      "source": [
        "evaluate(pemodelan_1)"
      ],
      "metadata": {
        "colab": {
          "base_uri": "https://localhost:8080/",
          "height": 863
        },
        "id": "a7DjkL4gNQRS",
        "outputId": "6bc96068-f62e-4f62-a9e3-b9f171ff592c"
      },
      "execution_count": null,
      "outputs": [
        {
          "output_type": "stream",
          "name": "stdout",
          "text": [
            "Found 204 images belonging to 2 classes.\n"
          ]
        },
        {
          "output_type": "stream",
          "name": "stderr",
          "text": [
            "/usr/local/lib/python3.7/dist-packages/ipykernel_launcher.py:15: UserWarning: `Model.predict_generator` is deprecated and will be removed in a future version. Please use `Model.predict`, which supports generators.\n",
            "  from ipykernel import kernelapp as app\n"
          ]
        },
        {
          "output_type": "stream",
          "name": "stdout",
          "text": [
            "\n",
            "Confusion Matrix\n",
            "\n"
          ]
        },
        {
          "output_type": "display_data",
          "data": {
            "image/png": "[encoded data removed]",
            "text/plain": [
              "<Figure size 576x576 with 1 Axes>"
            ]
          },
          "metadata": {
            "needs_background": "light"
          }
        },
        {
          "output_type": "stream",
          "name": "stdout",
          "text": [
            "\n",
            "\n",
            "Classification Report\n",
            "\n",
            "              precision    recall  f1-score   support\n",
            "\n",
            "          no       1.00      0.97      0.99        79\n",
            "         yes       0.98      1.00      0.99       125\n",
            "\n",
            "    accuracy                           0.99       204\n",
            "   macro avg       0.99      0.99      0.99       204\n",
            "weighted avg       0.99      0.99      0.99       204\n",
            "\n"
          ]
        }
      ]
    },
    {
      "cell_type": "code",
      "source": [
        "from os import mkdir\n",
        "\n",
        "mkdir('data')"
      ],
      "metadata": {
        "id": "jVDR4h1hTBKv"
      },
      "execution_count": null,
      "outputs": []
    },
    {
      "cell_type": "code",
      "source": [
        "train_dir = \"/content/drive/My Drive/IR/data/train/\"\n",
        "test_dir =\"/content/drive/My Drive/IR/data/test/\"\n",
        "\n",
        "os.mkdir(train_dir)\n",
        "os.mkdir(test_dir)"
      ],
      "metadata": {
        "id": "g3u5dDCube4r"
      },
      "execution_count": null,
      "outputs": []
    },
    {
      "cell_type": "code",
      "source": [
        "import glob\n",
        "import shutil\n",
        "import os\n",
        "\n",
        "src_dir = \"/content/drive/MyDrive/IR/train/yes\"\n",
        "dst_dir = \"/content/drive/My Drive/IR/data/train\"\n",
        "for jpgfile in glob.iglob(os.path.join(src_dir, \"*.jpg\")):\n",
        "    shutil.copy(jpgfile, dst_dir)"
      ],
      "metadata": {
        "id": "sXfpBxWImWvq"
      },
      "execution_count": null,
      "outputs": []
    },
    {
      "cell_type": "code",
      "source": [
        "src_dir = \"/content/drive/MyDrive/IR/train/no\"\n",
        "dst_dir = \"/content/drive/My Drive/IR/data/train\"\n",
        "for jpgfile in glob.iglob(os.path.join(src_dir, \"*.jpg\")):\n",
        "    shutil.copy(jpgfile, dst_dir)"
      ],
      "metadata": {
        "id": "OMnGrHuamiKD"
      },
      "execution_count": null,
      "outputs": []
    },
    {
      "cell_type": "code",
      "source": [
        "src_dir = \"/content/drive/MyDrive/IR/test/yes\"\n",
        "dst_dir = \"/content/drive/My Drive/IR/data/test\"\n",
        "for jpgfile in glob.iglob(os.path.join(src_dir, \"*.jpg\")):\n",
        "    shutil.copy(jpgfile, dst_dir)"
      ],
      "metadata": {
        "id": "RmNKGcdCZqli"
      },
      "execution_count": null,
      "outputs": []
    },
    {
      "cell_type": "code",
      "source": [
        "src_dir = \"/content/drive/MyDrive/IR/test/no\"\n",
        "dst_dir = \"/content/drive/My Drive/IR/data/test\"\n",
        "for jpgfile in glob.iglob(os.path.join(src_dir, \"*.jpg\")):\n",
        "    shutil.copy(jpgfile, dst_dir)"
      ],
      "metadata": {
        "id": "V4Ddpvm8myuY"
      },
      "execution_count": null,
      "outputs": []
    },
    {
      "cell_type": "code",
      "source": [
        "dataset_dir = \"/content/drive/My Drive/IR/data/dataset/\"\n",
        "\n",
        "os.mkdir(dataset_dir)"
      ],
      "metadata": {
        "id": "jgCnb0nBO07o"
      },
      "execution_count": null,
      "outputs": []
    },
    {
      "cell_type": "code",
      "source": [
        "src_dir = \"/content/drive/My Drive/IR/data/test\"\n",
        "dst_dir = \"/content/drive/My Drive/IR/data/dataset\"\n",
        "for jpgfile in glob.iglob(os.path.join(src_dir, \"*.jpg\")):\n",
        "    shutil.copy(jpgfile, dst_dir)"
      ],
      "metadata": {
        "id": "CBTTbkkvOp7x"
      },
      "execution_count": null,
      "outputs": []
    },
    {
      "cell_type": "code",
      "source": [
        "src_dir = \"/content/drive/My Drive/IR/data/train\"\n",
        "dst_dir = \"/content/drive/My Drive/IR/data/dataset\"\n",
        "for jpgfile in glob.iglob(os.path.join(src_dir, \"*.jpg\")):\n",
        "    shutil.copy(jpgfile, dst_dir)"
      ],
      "metadata": {
        "id": "4GpUuJoyPGoc"
      },
      "execution_count": null,
      "outputs": []
    },
    {
      "cell_type": "code",
      "source": [
        "import os\n",
        "\n",
        "from tensorflow.keras.preprocessing import image\n",
        "from tensorflow.keras.applications.vgg16 import VGG16, preprocess_input\n",
        "from tensorflow.keras.models import  Model\n",
        "\n",
        "from PIL import Image\n",
        "import pickle\n",
        "import numpy as np\n",
        "\n",
        "def image_preprocess(img):\n",
        "    img = img.resize((64,64))\n",
        "    img = img.convert(\"RGB\")\n",
        "    x = image.img_to_array(img)\n",
        "    x = np.expand_dims(x, axis=0)\n",
        "    x = preprocess_input(x)\n",
        "    return x\n",
        "\n",
        "def extract_vector(model, image_path):\n",
        "    print(\"Path : \", image_path)\n",
        "    img = Image.open(image_path)\n",
        "    img_tensor = image_preprocess(img)\n",
        "\n",
        "    vector = model.predict(img_tensor)[0]\n",
        "    vector = vector / np.linalg.norm(vector)\n",
        "    return vector\n",
        "\n",
        "data_folder = \"/content/drive/My Drive/IR/data/dataset\"\n",
        "\n",
        "model = pemodelan_1\n",
        "\n",
        "vectors = []\n",
        "paths = []\n",
        "\n",
        "for image_path in os.listdir(data_folder):\n",
        "    image_path_full = os.path.join(data_folder, image_path)\n",
        "    image_vector = extract_vector(model,image_path_full)\n",
        "    vectors.append(image_vector)\n",
        "    paths.append(image_path_full)\n",
        "\n",
        "vector_file = \"vectors.pkl\"\n",
        "path_file = \"paths.pkl\"\n",
        "\n",
        "pickle.dump(vectors, open(vector_file, \"wb\"))\n",
        "pickle.dump(paths, open(path_file, \"wb\"))"
      ],
      "metadata": {
        "colab": {
          "base_uri": "https://localhost:8080/"
        },
        "id": "V-Q7Q0EYL1Wx",
        "outputId": "b9915b53-80ff-45da-d39b-8a0a5845ba68"
      },
      "execution_count": null,
      "outputs": [
        {
          "output_type": "stream",
          "name": "stdout",
          "text": [
            "Path :  /content/drive/My Drive/IR/data/dataset/Y74.jpg\n",
            "Path :  /content/drive/My Drive/IR/data/dataset/Y154.jpg\n",
            "Path :  /content/drive/My Drive/IR/data/dataset/Y54.jpg\n",
            "Path :  /content/drive/My Drive/IR/data/dataset/Y106.jpg\n",
            "Path :  /content/drive/My Drive/IR/data/dataset/Y107.jpg\n",
            "Path :  /content/drive/My Drive/IR/data/dataset/Y250.jpg\n",
            "Path :  /content/drive/My Drive/IR/data/dataset/Y3.jpg\n",
            "Path :  /content/drive/My Drive/IR/data/dataset/Y69.jpg\n",
            "Path :  /content/drive/My Drive/IR/data/dataset/Y31.jpg\n",
            "Path :  /content/drive/My Drive/IR/data/dataset/Y102.jpg\n",
            "Path :  /content/drive/My Drive/IR/data/dataset/Y95.jpg\n",
            "Path :  /content/drive/My Drive/IR/data/dataset/Y8.jpg\n",
            "Path :  /content/drive/My Drive/IR/data/dataset/Y28.jpg\n",
            "Path :  /content/drive/My Drive/IR/data/dataset/Y39.jpg\n",
            "Path :  /content/drive/My Drive/IR/data/dataset/10 no.jpg\n",
            "Path :  /content/drive/My Drive/IR/data/dataset/29 no.jpg\n",
            "Path :  /content/drive/My Drive/IR/data/dataset/No13.jpg\n",
            "Path :  /content/drive/My Drive/IR/data/dataset/50 no.jpg\n",
            "Path :  /content/drive/My Drive/IR/data/dataset/no 90.jpg\n",
            "Path :  /content/drive/My Drive/IR/data/dataset/8 no.jpg\n",
            "Path :  /content/drive/My Drive/IR/data/dataset/no 92.jpg\n",
            "Path :  /content/drive/My Drive/IR/data/dataset/no.jpg\n",
            "Path :  /content/drive/My Drive/IR/data/dataset/No15.jpg\n",
            "Path :  /content/drive/My Drive/IR/data/dataset/43 no.jpg\n",
            "Path :  /content/drive/My Drive/IR/data/dataset/no 99.jpg\n",
            "Path :  /content/drive/My Drive/IR/data/dataset/no 96.jpg\n",
            "Path :  /content/drive/My Drive/IR/data/dataset/36 no.jpg\n",
            "Path :  /content/drive/My Drive/IR/data/dataset/No19.jpg\n",
            "Path :  /content/drive/My Drive/IR/data/dataset/No17.jpg\n",
            "Path :  /content/drive/My Drive/IR/data/dataset/no 923.jpg\n",
            "Path :  /content/drive/My Drive/IR/data/dataset/22 no.jpg\n",
            "Path :  /content/drive/My Drive/IR/data/dataset/no 10.jpg\n",
            "Path :  /content/drive/My Drive/IR/data/dataset/Y73.jpg\n",
            "Path :  /content/drive/My Drive/IR/data/dataset/Y81.jpg\n",
            "Path :  /content/drive/My Drive/IR/data/dataset/Y61.jpg\n",
            "Path :  /content/drive/My Drive/IR/data/dataset/Y4.jpg\n",
            "Path :  /content/drive/My Drive/IR/data/dataset/Y13.jpg\n",
            "Path :  /content/drive/My Drive/IR/data/dataset/Y70.jpg\n",
            "Path :  /content/drive/My Drive/IR/data/dataset/Y10.jpg\n",
            "Path :  /content/drive/My Drive/IR/data/dataset/Y168.jpg\n",
            "Path :  /content/drive/My Drive/IR/data/dataset/Y162.jpg\n",
            "Path :  /content/drive/My Drive/IR/data/dataset/Y187.jpg\n",
            "Path :  /content/drive/My Drive/IR/data/dataset/Y17.jpg\n",
            "Path :  /content/drive/My Drive/IR/data/dataset/Y245.jpg\n",
            "Path :  /content/drive/My Drive/IR/data/dataset/Y38.jpg\n",
            "Path :  /content/drive/My Drive/IR/data/dataset/Y104.jpg\n",
            "Path :  /content/drive/My Drive/IR/data/dataset/Y26.jpg\n",
            "Path :  /content/drive/My Drive/IR/data/dataset/Y22.jpg\n",
            "Path :  /content/drive/My Drive/IR/data/dataset/Y33.jpg\n",
            "Path :  /content/drive/My Drive/IR/data/dataset/Y105.jpg\n",
            "Path :  /content/drive/My Drive/IR/data/dataset/Y6.jpg\n",
            "Path :  /content/drive/My Drive/IR/data/dataset/Y56.jpg\n",
            "Path :  /content/drive/My Drive/IR/data/dataset/Y183.jpg\n",
            "Path :  /content/drive/My Drive/IR/data/dataset/Y14.jpg\n",
            "Path :  /content/drive/My Drive/IR/data/dataset/Y77.jpg\n",
            "Path :  /content/drive/My Drive/IR/data/dataset/Y32.jpg\n",
            "Path :  /content/drive/My Drive/IR/data/dataset/Y194.jpg\n",
            "Path :  /content/drive/My Drive/IR/data/dataset/Y180.jpg\n",
            "Path :  /content/drive/My Drive/IR/data/dataset/Y185.jpg\n",
            "Path :  /content/drive/My Drive/IR/data/dataset/Y42.jpg\n",
            "Path :  /content/drive/My Drive/IR/data/dataset/Y2.jpg\n",
            "Path :  /content/drive/My Drive/IR/data/dataset/Y27.jpg\n",
            "Path :  /content/drive/My Drive/IR/data/dataset/Y12.jpg\n",
            "Path :  /content/drive/My Drive/IR/data/dataset/Y101.jpg\n",
            "Path :  /content/drive/My Drive/IR/data/dataset/Y52.jpg\n",
            "Path :  /content/drive/My Drive/IR/data/dataset/Y254.jpg\n",
            "Path :  /content/drive/My Drive/IR/data/dataset/Y1.jpg\n",
            "Path :  /content/drive/My Drive/IR/data/dataset/Y153.jpg\n",
            "Path :  /content/drive/My Drive/IR/data/dataset/Y15.jpg\n",
            "Path :  /content/drive/My Drive/IR/data/dataset/Y35.jpg\n",
            "Path :  /content/drive/My Drive/IR/data/dataset/Y55.jpg\n",
            "Path :  /content/drive/My Drive/IR/data/dataset/Y78.jpg\n",
            "Path :  /content/drive/My Drive/IR/data/dataset/Y20.jpg\n",
            "Path :  /content/drive/My Drive/IR/data/dataset/Y37.jpg\n",
            "Path :  /content/drive/My Drive/IR/data/dataset/Y252.jpg\n",
            "Path :  /content/drive/My Drive/IR/data/dataset/Y7.jpg\n",
            "Path :  /content/drive/My Drive/IR/data/dataset/Y53.jpg\n",
            "Path :  /content/drive/My Drive/IR/data/dataset/Y30.jpg\n",
            "Path :  /content/drive/My Drive/IR/data/dataset/Y60.jpg\n",
            "Path :  /content/drive/My Drive/IR/data/dataset/Y11.jpg\n",
            "Path :  /content/drive/My Drive/IR/data/dataset/Y169.jpg\n",
            "Path :  /content/drive/My Drive/IR/data/dataset/Y21.jpg\n",
            "Path :  /content/drive/My Drive/IR/data/dataset/Y91.jpg\n",
            "Path :  /content/drive/My Drive/IR/data/dataset/Y25.jpg\n",
            "Path :  /content/drive/My Drive/IR/data/dataset/Y29.jpg\n",
            "Path :  /content/drive/My Drive/IR/data/dataset/Y188.jpg\n",
            "Path :  /content/drive/My Drive/IR/data/dataset/Y51.jpg\n",
            "Path :  /content/drive/My Drive/IR/data/dataset/Y92.jpg\n",
            "Path :  /content/drive/My Drive/IR/data/dataset/Y34.jpg\n",
            "Path :  /content/drive/My Drive/IR/data/dataset/Y90.jpg\n",
            "Path :  /content/drive/My Drive/IR/data/dataset/Y24.jpg\n",
            "Path :  /content/drive/My Drive/IR/data/dataset/Y46.jpg\n",
            "Path :  /content/drive/My Drive/IR/data/dataset/Y62.jpg\n",
            "Path :  /content/drive/My Drive/IR/data/dataset/Y257.jpg\n",
            "Path :  /content/drive/My Drive/IR/data/dataset/Y79.jpg\n",
            "Path :  /content/drive/My Drive/IR/data/dataset/Y41.jpg\n",
            "Path :  /content/drive/My Drive/IR/data/dataset/Y96.jpg\n",
            "Path :  /content/drive/My Drive/IR/data/dataset/Y181.jpg\n",
            "Path :  /content/drive/My Drive/IR/data/dataset/Y76.jpg\n",
            "Path :  /content/drive/My Drive/IR/data/dataset/Y186.jpg\n",
            "Path :  /content/drive/My Drive/IR/data/dataset/Y108.jpg\n",
            "Path :  /content/drive/My Drive/IR/data/dataset/Y82.jpg\n",
            "Path :  /content/drive/My Drive/IR/data/dataset/Y103.jpg\n",
            "Path :  /content/drive/My Drive/IR/data/dataset/Y9.jpg\n",
            "Path :  /content/drive/My Drive/IR/data/dataset/46 no.jpg\n",
            "Path :  /content/drive/My Drive/IR/data/dataset/N5.jpg\n",
            "Path :  /content/drive/My Drive/IR/data/dataset/33 no.jpg\n",
            "Path :  /content/drive/My Drive/IR/data/dataset/26 no.jpg\n",
            "Path :  /content/drive/My Drive/IR/data/dataset/N17.jpg\n",
            "Path :  /content/drive/My Drive/IR/data/dataset/N6.jpg\n",
            "Path :  /content/drive/My Drive/IR/data/dataset/no 98.jpg\n",
            "Path :  /content/drive/My Drive/IR/data/dataset/no 4.jpg\n",
            "Path :  /content/drive/My Drive/IR/data/dataset/no 97.jpg\n",
            "Path :  /content/drive/My Drive/IR/data/dataset/N16.jpg\n",
            "Path :  /content/drive/My Drive/IR/data/dataset/no 89.jpg\n",
            "Path :  /content/drive/My Drive/IR/data/dataset/No14.jpg\n",
            "Path :  /content/drive/My Drive/IR/data/dataset/24 no.jpg\n",
            "Path :  /content/drive/My Drive/IR/data/dataset/12 no.jpg\n",
            "Path :  /content/drive/My Drive/IR/data/dataset/N21.jpg\n",
            "Path :  /content/drive/My Drive/IR/data/dataset/no 8.jpg\n",
            "Path :  /content/drive/My Drive/IR/data/dataset/4 no.jpg\n",
            "Path :  /content/drive/My Drive/IR/data/dataset/45 no.jpg\n",
            "Path :  /content/drive/My Drive/IR/data/dataset/No22.jpg\n",
            "Path :  /content/drive/My Drive/IR/data/dataset/18 no.jpg\n",
            "Path :  /content/drive/My Drive/IR/data/dataset/37 no.jpg\n",
            "Path :  /content/drive/My Drive/IR/data/dataset/N11.jpg\n",
            "Path :  /content/drive/My Drive/IR/data/dataset/15 no.jpg\n",
            "Path :  /content/drive/My Drive/IR/data/dataset/31 no.jpg\n",
            "Path :  /content/drive/My Drive/IR/data/dataset/49 no.jpg\n",
            "Path :  /content/drive/My Drive/IR/data/dataset/no 94.jpg\n",
            "Path :  /content/drive/My Drive/IR/data/dataset/no 2.jpg\n",
            "Path :  /content/drive/My Drive/IR/data/dataset/23 no.jpg\n",
            "Path :  /content/drive/My Drive/IR/data/dataset/32 no.jpg\n",
            "Path :  /content/drive/My Drive/IR/data/dataset/38 no.jpg\n",
            "Path :  /content/drive/My Drive/IR/data/dataset/no 1.jpg\n",
            "Path :  /content/drive/My Drive/IR/data/dataset/17 no.jpg\n",
            "Path :  /content/drive/My Drive/IR/data/dataset/44no.jpg\n",
            "Path :  /content/drive/My Drive/IR/data/dataset/No16.jpg\n",
            "Path :  /content/drive/My Drive/IR/data/dataset/No12.jpg\n",
            "Path :  /content/drive/My Drive/IR/data/dataset/39 no.jpg\n",
            "Path :  /content/drive/My Drive/IR/data/dataset/N3.jpg\n",
            "Path :  /content/drive/My Drive/IR/data/dataset/No20.jpg\n",
            "Path :  /content/drive/My Drive/IR/data/dataset/27 no.jpg\n",
            "Path :  /content/drive/My Drive/IR/data/dataset/28 no.jpg\n",
            "Path :  /content/drive/My Drive/IR/data/dataset/6 no.jpg\n",
            "Path :  /content/drive/My Drive/IR/data/dataset/40 no.jpg\n",
            "Path :  /content/drive/My Drive/IR/data/dataset/35 no.jpg\n",
            "Path :  /content/drive/My Drive/IR/data/dataset/9 no.jpg\n",
            "Path :  /content/drive/My Drive/IR/data/dataset/47 no.jpg\n",
            "Path :  /content/drive/My Drive/IR/data/dataset/7 no.jpg\n",
            "Path :  /content/drive/My Drive/IR/data/dataset/11 no.jpg\n",
            "Path :  /content/drive/My Drive/IR/data/dataset/no 3.jpg\n",
            "Path :  /content/drive/My Drive/IR/data/dataset/5 no.jpg\n",
            "Path :  /content/drive/My Drive/IR/data/dataset/14 no.jpg\n",
            "Path :  /content/drive/My Drive/IR/data/dataset/20 no.jpg\n",
            "Path :  /content/drive/My Drive/IR/data/dataset/41 no.jpg\n",
            "Path :  /content/drive/My Drive/IR/data/dataset/30 no.jpg\n",
            "Path :  /content/drive/My Drive/IR/data/dataset/No21.jpg\n",
            "Path :  /content/drive/My Drive/IR/data/dataset/No18.jpg\n",
            "Path :  /content/drive/My Drive/IR/data/dataset/no 6.jpg\n",
            "Path :  /content/drive/My Drive/IR/data/dataset/21 no.jpg\n",
            "Path :  /content/drive/My Drive/IR/data/dataset/13 no.jpg\n",
            "Path :  /content/drive/My Drive/IR/data/dataset/19 no.jpg\n",
            "Path :  /content/drive/My Drive/IR/data/dataset/3 no.jpg\n",
            "Path :  /content/drive/My Drive/IR/data/dataset/25 no.jpg\n",
            "Path :  /content/drive/My Drive/IR/data/dataset/No11.jpg\n",
            "Path :  /content/drive/My Drive/IR/data/dataset/34 no.jpg\n",
            "Path :  /content/drive/My Drive/IR/data/dataset/42 no.jpg\n",
            "Path :  /content/drive/My Drive/IR/data/dataset/no 100.jpg\n",
            "Path :  /content/drive/My Drive/IR/data/dataset/N15.jpg\n",
            "Path :  /content/drive/My Drive/IR/data/dataset/no 95.jpg\n"
          ]
        }
      ]
    },
    {
      "cell_type": "code",
      "source": [
        "import math\n",
        "import os\n",
        "\n",
        "from tensorflow.keras.preprocessing import image\n",
        "from tensorflow.keras.applications.vgg16 import VGG16, preprocess_input\n",
        "from tensorflow.keras.models import  Model\n",
        "\n",
        "from PIL import Image\n",
        "import pickle\n",
        "import numpy as np\n",
        "\n",
        "def image_preprocess(img):\n",
        "    img = img.resize((64,64))\n",
        "    img = img.convert(\"RGB\")\n",
        "    x = image.img_to_array(img)\n",
        "    x = np.expand_dims(x, axis=0)\n",
        "    x = preprocess_input(x)\n",
        "    return x\n",
        "\n",
        "def extract_vector(model, image_path):\n",
        "    print(\"Dataset : \", image_path)\n",
        "    img = Image.open(image_path)\n",
        "    img_tensor = image_preprocess(img)\n",
        "\n",
        "    vector = model.predict(img_tensor)[0]\n",
        "    vector = vector / np.linalg.norm(vector)\n",
        "    return vector\n",
        "\n",
        "search_image = \"/content/drive/My Drive/IR/data/test/no 10.jpg\"\n",
        "\n",
        "model = pemodelan_1\n",
        "\n",
        "search_vector = extract_vector(model, search_image)\n",
        "\n",
        "vectors = pickle.load(open(\"vectors.pkl\",\"rb\"))\n",
        "paths = pickle.load(open(\"paths.pkl\",\"rb\"))\n",
        "\n",
        "distance = np.linalg.norm(vectors - search_vector, axis=1)\n",
        "\n",
        "K = 16\n",
        "ids = np.argsort(distance)[:K]\n",
        "\n",
        "nearest_image = [(paths[id], distance[id]) for id in ids]\n",
        "\n",
        "import matplotlib.pyplot as plt\n",
        "\n",
        "axes = []\n",
        "grid_size = int(math.sqrt(K))\n",
        "fig = plt.figure(figsize=(10,5))\n",
        "\n",
        "\n",
        "for id in range(K):\n",
        "    draw_image = nearest_image[id]\n",
        "    axes.append(fig.add_subplot(grid_size, grid_size, id+1))\n",
        "\n",
        "    axes[-1].set_title(draw_image[1])\n",
        "    plt.imshow(Image.open(draw_image[0]))\n",
        "\n",
        "fig.tight_layout()\n",
        "plt.show()"
      ],
      "metadata": {
        "colab": {
          "base_uri": "https://localhost:8080/",
          "height": 387
        },
        "id": "mExVLnd0I0Py",
        "outputId": "d2946367-718e-48ac-f4d8-986c7e8105c4"
      },
      "execution_count": null,
      "outputs": [
        {
          "output_type": "stream",
          "name": "stdout",
          "text": [
            "Dataset :  /content/drive/My Drive/IR/data/test/no 10.jpg\n"
          ]
        },
        {
          "output_type": "display_data",
          "data": {
            "image/png": "[encoded data removed]",
            "text/plain": [
              "<Figure size 720x360 with 16 Axes>"
            ]
          },
          "metadata": {
            "needs_background": "light"
          }
        }
      ]
    },
    {
      "cell_type": "markdown",
      "source": [
        "Model 2"
      ],
      "metadata": {
        "id": "MNB-G-b9Ql1D"
      }
    },
    {
      "cell_type": "code",
      "source": [
        "from tensorflow.keras.models import Model\n",
        "from tensorflow.keras.layers import Dense, Flatten, Dropout, Input, GlobalAveragePooling2D, concatenate, BatchNormalization\n",
        "from tensorflow.keras.applications import Xception, ResNet50V2, EfficientNetB5, VGG16\n",
        "from tensorflow.keras.optimizers import Adam"
      ],
      "metadata": {
        "id": "fx9rrSCKQ0Ak"
      },
      "execution_count": null,
      "outputs": []
    },
    {
      "cell_type": "code",
      "source": [
        "inputan = (64,64,3)\n",
        "input_model = Input(shape=inputan)\n",
        "\n",
        "rn50v2 = ResNet50V2(include_top=False, weights=\"imagenet\", input_shape=inputan)(input_model)\n",
        "\n",
        "def pemodelan2(m1):\n",
        "  model2 = concatenate([m1])\n",
        "  model2 = GlobalAveragePooling2D()(model2)\n",
        "  model2 = Flatten(name=\"flatten\")(model2)\n",
        "  model2 = Dense(2048, activation=\"relu\")(model2)\n",
        "  model2 = Dropout(0.25)(model2)\n",
        "  model2 = BatchNormalization()(model2)\n",
        "  model2 = Dense(1024, activation=\"relu\")(model2)\n",
        "  model2 = Dropout(0.25)(model2)\n",
        "  model2 = BatchNormalization()(model2)\n",
        "  model2 = Dense(2, activation=\"softmax\")(model2)\n",
        "\n",
        "  return model2"
      ],
      "metadata": {
        "id": "HWL_tpLNQnAC"
      },
      "execution_count": null,
      "outputs": []
    },
    {
      "cell_type": "code",
      "source": [
        "model_2= pemodelan2(rn50v2)\n",
        "pemodelan_2 = Model(inputs=input_model, outputs=model_2)\n",
        "pemodelan_2.summary()"
      ],
      "metadata": {
        "colab": {
          "base_uri": "https://localhost:8080/"
        },
        "id": "x8qjrLU0QuXn",
        "outputId": "5d6ae08a-3412-4d56-b2ef-6a698fa21615"
      },
      "execution_count": null,
      "outputs": [
        {
          "output_type": "stream",
          "name": "stdout",
          "text": [
            "Model: \"model_1\"\n",
            "_________________________________________________________________\n",
            " Layer (type)                Output Shape              Param #   \n",
            "=================================================================\n",
            " input_5 (InputLayer)        [(None, 64, 64, 3)]       0         \n",
            "                                                                 \n",
            " resnet50v2 (Functional)     (None, 2, 2, 2048)        23564800  \n",
            "                                                                 \n",
            " concatenate_2 (Concatenate)  (None, 2, 2, 2048)       0         \n",
            "                                                                 \n",
            " global_average_pooling2d (G  (None, 2048)             0         \n",
            " lobalAveragePooling2D)                                          \n",
            "                                                                 \n",
            " flatten (Flatten)           (None, 2048)              0         \n",
            "                                                                 \n",
            " dense_3 (Dense)             (None, 2048)              4196352   \n",
            "                                                                 \n",
            " dropout_2 (Dropout)         (None, 2048)              0         \n",
            "                                                                 \n",
            " batch_normalization (BatchN  (None, 2048)             8192      \n",
            " ormalization)                                                   \n",
            "                                                                 \n",
            " dense_4 (Dense)             (None, 1024)              2098176   \n",
            "                                                                 \n",
            " dropout_3 (Dropout)         (None, 1024)              0         \n",
            "                                                                 \n",
            " batch_normalization_1 (Batc  (None, 1024)             4096      \n",
            " hNormalization)                                                 \n",
            "                                                                 \n",
            " dense_5 (Dense)             (None, 2)                 2050      \n",
            "                                                                 \n",
            "=================================================================\n",
            "Total params: 29,873,666\n",
            "Trainable params: 29,822,082\n",
            "Non-trainable params: 51,584\n",
            "_________________________________________________________________\n"
          ]
        }
      ]
    },
    {
      "cell_type": "code",
      "source": [
        "rn50v2.trainable = False"
      ],
      "metadata": {
        "id": "aCDmdH57Q4bI"
      },
      "execution_count": null,
      "outputs": []
    },
    {
      "cell_type": "code",
      "source": [
        "import tensorflow as tf\n",
        "tensorboard=tf.keras.callbacks.TensorBoard(log_dir='./logs/aug')"
      ],
      "metadata": {
        "id": "GPGYdqDJQ7w5"
      },
      "execution_count": null,
      "outputs": []
    },
    {
      "cell_type": "code",
      "source": [
        "%load_ext tensorboard"
      ],
      "metadata": {
        "colab": {
          "base_uri": "https://localhost:8080/"
        },
        "id": "vVYkt_I6Q-CC",
        "outputId": "4303c467-3cdf-4d25-bb8a-c2de019fd50f"
      },
      "execution_count": null,
      "outputs": [
        {
          "output_type": "stream",
          "name": "stdout",
          "text": [
            "The tensorboard extension is already loaded. To reload it, use:\n",
            "  %reload_ext tensorboard\n"
          ]
        }
      ]
    },
    {
      "cell_type": "code",
      "source": [
        "!rm -rf ./logs/aug"
      ],
      "metadata": {
        "id": "Pev3t4CwRGlp"
      },
      "execution_count": null,
      "outputs": []
    },
    {
      "cell_type": "code",
      "source": [
        "from tensorflow.keras.callbacks import ModelCheckpoint, ReduceLROnPlateau\n",
        "def callback(path):\n",
        "  checkpoint_callback = ModelCheckpoint(path,\n",
        "                                      monitor='val_accuracy',\n",
        "                                      save_best_only=True,\n",
        "                                      verbose=1)\n",
        "  reduce_callback = ReduceLROnPlateau(monitor='val_accuracy', patience=3, factor=0.5, min_lr=0.0001, verbose=1)\n",
        "  callbacks_list = [checkpoint_callback, reduce_callback]\n",
        "  return callbacks_list"
      ],
      "metadata": {
        "id": "3jzyOEdJRJiV"
      },
      "execution_count": null,
      "outputs": []
    },
    {
      "cell_type": "code",
      "source": [
        "best_model_path = 'model2.h5'\n",
        "cb=callback(best_model_path)"
      ],
      "metadata": {
        "id": "MYqetsE9ROBc"
      },
      "execution_count": null,
      "outputs": []
    },
    {
      "cell_type": "code",
      "source": [
        "learning_rate=0.0001\n",
        "pemodelan_2.compile(optimizer=Adam(lr=learning_rate), \n",
        "                    loss = keras.losses.CategoricalCrossentropy(),\n",
        "                    metrics = ['accuracy'])"
      ],
      "metadata": {
        "colab": {
          "base_uri": "https://localhost:8080/"
        },
        "id": "MkHfGTvFRO-q",
        "outputId": "eee3aac3-1571-43f9-ca31-c20588ecbb68"
      },
      "execution_count": null,
      "outputs": [
        {
          "output_type": "stream",
          "name": "stderr",
          "text": [
            "/usr/local/lib/python3.7/dist-packages/keras/optimizer_v2/adam.py:105: UserWarning: The `lr` argument is deprecated, use `learning_rate` instead.\n",
            "  super(Adam, self).__init__(name, **kwargs)\n"
          ]
        }
      ]
    },
    {
      "cell_type": "code",
      "source": [
        "history2 = pemodelan_2.fit(train_images,\n",
        "                    epochs=100,\n",
        "                    batch_size=128,\n",
        "                    validation_data=test_images,\n",
        "                    callbacks=[tensorboard,cb])"
      ],
      "metadata": {
        "colab": {
          "base_uri": "https://localhost:8080/"
        },
        "id": "cu1tr35gRW5J",
        "outputId": "2d7ac840-f3d0-4711-8b93-c57bf7698641"
      },
      "execution_count": null,
      "outputs": [
        {
          "output_type": "stream",
          "name": "stderr",
          "text": [
            "/usr/local/lib/python3.7/dist-packages/keras/engine/functional.py:1410: CustomMaskWarning: Custom mask layers require a config and must override get_config. When loading, the custom mask layer must be passed to the custom_objects argument.\n",
            "  layer_config = serialize_layer_fn(layer)\n"
          ]
        },
        {
          "output_type": "stream",
          "name": "stdout",
          "text": [
            "Epoch 1/100\n",
            "7/7 [==============================] - ETA: 0s - loss: 0.1380 - accuracy: 0.9461\n",
            "Epoch 00001: val_accuracy did not improve from 0.97059\n",
            "7/7 [==============================] - 10s 458ms/step - loss: 0.1380 - accuracy: 0.9461 - val_loss: 0.3179 - val_accuracy: 0.8824 - lr: 1.0000e-04\n",
            "Epoch 2/100\n",
            "7/7 [==============================] - ETA: 0s - loss: 0.1186 - accuracy: 0.9657\n",
            "Epoch 00002: val_accuracy did not improve from 0.97059\n",
            "7/7 [==============================] - 2s 246ms/step - loss: 0.1186 - accuracy: 0.9657 - val_loss: 0.3074 - val_accuracy: 0.9118 - lr: 1.0000e-04\n",
            "Epoch 3/100\n",
            "7/7 [==============================] - ETA: 0s - loss: 0.0882 - accuracy: 0.9657\n",
            "Epoch 00003: val_accuracy did not improve from 0.97059\n",
            "7/7 [==============================] - 2s 242ms/step - loss: 0.0882 - accuracy: 0.9657 - val_loss: 0.3982 - val_accuracy: 0.9118 - lr: 1.0000e-04\n",
            "Epoch 4/100\n",
            "7/7 [==============================] - ETA: 0s - loss: 0.1093 - accuracy: 0.9510\n",
            "Epoch 00004: val_accuracy did not improve from 0.97059\n",
            "7/7 [==============================] - 2s 242ms/step - loss: 0.1093 - accuracy: 0.9510 - val_loss: 0.3012 - val_accuracy: 0.9118 - lr: 1.0000e-04\n",
            "Epoch 5/100\n",
            "7/7 [==============================] - ETA: 0s - loss: 0.2045 - accuracy: 0.9461\n",
            "Epoch 00005: val_accuracy did not improve from 0.97059\n",
            "7/7 [==============================] - 2s 269ms/step - loss: 0.2045 - accuracy: 0.9461 - val_loss: 0.4088 - val_accuracy: 0.8824 - lr: 1.0000e-04\n",
            "Epoch 6/100\n",
            "7/7 [==============================] - ETA: 0s - loss: 0.0960 - accuracy: 0.9559\n",
            "Epoch 00006: val_accuracy did not improve from 0.97059\n",
            "7/7 [==============================] - 2s 243ms/step - loss: 0.0960 - accuracy: 0.9559 - val_loss: 0.5532 - val_accuracy: 0.8529 - lr: 1.0000e-04\n",
            "Epoch 7/100\n",
            "7/7 [==============================] - ETA: 0s - loss: 0.1677 - accuracy: 0.9461\n",
            "Epoch 00007: val_accuracy did not improve from 0.97059\n",
            "7/7 [==============================] - 2s 244ms/step - loss: 0.1677 - accuracy: 0.9461 - val_loss: 0.5652 - val_accuracy: 0.9118 - lr: 1.0000e-04\n",
            "Epoch 8/100\n",
            "7/7 [==============================] - ETA: 0s - loss: 0.2387 - accuracy: 0.9412\n",
            "Epoch 00008: val_accuracy did not improve from 0.97059\n",
            "7/7 [==============================] - 2s 266ms/step - loss: 0.2387 - accuracy: 0.9412 - val_loss: 0.4888 - val_accuracy: 0.9118 - lr: 1.0000e-04\n",
            "Epoch 9/100\n",
            "7/7 [==============================] - ETA: 0s - loss: 0.2320 - accuracy: 0.9167\n",
            "Epoch 00009: val_accuracy did not improve from 0.97059\n",
            "7/7 [==============================] - 2s 245ms/step - loss: 0.2320 - accuracy: 0.9167 - val_loss: 0.4722 - val_accuracy: 0.9118 - lr: 1.0000e-04\n",
            "Epoch 10/100\n",
            "7/7 [==============================] - ETA: 0s - loss: 0.1968 - accuracy: 0.9363\n",
            "Epoch 00010: val_accuracy did not improve from 0.97059\n",
            "7/7 [==============================] - 2s 272ms/step - loss: 0.1968 - accuracy: 0.9363 - val_loss: 0.8735 - val_accuracy: 0.8529 - lr: 1.0000e-04\n",
            "Epoch 11/100\n",
            "7/7 [==============================] - ETA: 0s - loss: 0.1890 - accuracy: 0.9265\n",
            "Epoch 00011: val_accuracy did not improve from 0.97059\n",
            "7/7 [==============================] - 2s 247ms/step - loss: 0.1890 - accuracy: 0.9265 - val_loss: 1.4591 - val_accuracy: 0.8529 - lr: 1.0000e-04\n",
            "Epoch 12/100\n",
            "7/7 [==============================] - ETA: 0s - loss: 0.1310 - accuracy: 0.9461\n",
            "Epoch 00012: val_accuracy did not improve from 0.97059\n",
            "7/7 [==============================] - 2s 251ms/step - loss: 0.1310 - accuracy: 0.9461 - val_loss: 1.1027 - val_accuracy: 0.8824 - lr: 1.0000e-04\n",
            "Epoch 13/100\n",
            "7/7 [==============================] - ETA: 0s - loss: 0.1427 - accuracy: 0.9461\n",
            "Epoch 00013: val_accuracy did not improve from 0.97059\n",
            "7/7 [==============================] - 2s 241ms/step - loss: 0.1427 - accuracy: 0.9461 - val_loss: 0.7651 - val_accuracy: 0.8824 - lr: 1.0000e-04\n",
            "Epoch 14/100\n",
            "7/7 [==============================] - ETA: 0s - loss: 0.0629 - accuracy: 0.9755\n",
            "Epoch 00014: val_accuracy did not improve from 0.97059\n",
            "7/7 [==============================] - 2s 253ms/step - loss: 0.0629 - accuracy: 0.9755 - val_loss: 0.5864 - val_accuracy: 0.9118 - lr: 1.0000e-04\n",
            "Epoch 15/100\n",
            "7/7 [==============================] - ETA: 0s - loss: 0.1327 - accuracy: 0.9510\n",
            "Epoch 00015: val_accuracy did not improve from 0.97059\n",
            "7/7 [==============================] - 2s 251ms/step - loss: 0.1327 - accuracy: 0.9510 - val_loss: 0.3880 - val_accuracy: 0.9412 - lr: 1.0000e-04\n",
            "Epoch 16/100\n",
            "7/7 [==============================] - ETA: 0s - loss: 0.2220 - accuracy: 0.9559\n",
            "Epoch 00016: val_accuracy did not improve from 0.97059\n",
            "7/7 [==============================] - 2s 267ms/step - loss: 0.2220 - accuracy: 0.9559 - val_loss: 0.3417 - val_accuracy: 0.9412 - lr: 1.0000e-04\n",
            "Epoch 17/100\n",
            "7/7 [==============================] - ETA: 0s - loss: 0.0916 - accuracy: 0.9559\n",
            "Epoch 00017: val_accuracy did not improve from 0.97059\n",
            "7/7 [==============================] - 2s 250ms/step - loss: 0.0916 - accuracy: 0.9559 - val_loss: 0.4217 - val_accuracy: 0.8529 - lr: 1.0000e-04\n",
            "Epoch 18/100\n",
            "7/7 [==============================] - ETA: 0s - loss: 0.0834 - accuracy: 0.9608\n",
            "Epoch 00018: val_accuracy did not improve from 0.97059\n",
            "7/7 [==============================] - 2s 248ms/step - loss: 0.0834 - accuracy: 0.9608 - val_loss: 0.4492 - val_accuracy: 0.8529 - lr: 1.0000e-04\n",
            "Epoch 19/100\n",
            "7/7 [==============================] - ETA: 0s - loss: 0.1190 - accuracy: 0.9706\n",
            "Epoch 00019: val_accuracy did not improve from 0.97059\n",
            "7/7 [==============================] - 2s 244ms/step - loss: 0.1190 - accuracy: 0.9706 - val_loss: 0.2803 - val_accuracy: 0.8824 - lr: 1.0000e-04\n",
            "Epoch 20/100\n",
            "7/7 [==============================] - ETA: 0s - loss: 0.1483 - accuracy: 0.9559\n",
            "Epoch 00020: val_accuracy did not improve from 0.97059\n",
            "7/7 [==============================] - 2s 251ms/step - loss: 0.1483 - accuracy: 0.9559 - val_loss: 0.1770 - val_accuracy: 0.9118 - lr: 1.0000e-04\n",
            "Epoch 21/100\n",
            "7/7 [==============================] - ETA: 0s - loss: 0.1609 - accuracy: 0.9461\n",
            "Epoch 00021: val_accuracy did not improve from 0.97059\n",
            "7/7 [==============================] - 2s 256ms/step - loss: 0.1609 - accuracy: 0.9461 - val_loss: 0.1303 - val_accuracy: 0.9118 - lr: 1.0000e-04\n",
            "Epoch 22/100\n",
            "7/7 [==============================] - ETA: 0s - loss: 0.2014 - accuracy: 0.9412\n",
            "Epoch 00022: val_accuracy did not improve from 0.97059\n",
            "7/7 [==============================] - 2s 268ms/step - loss: 0.2014 - accuracy: 0.9412 - val_loss: 0.2231 - val_accuracy: 0.9118 - lr: 1.0000e-04\n",
            "Epoch 23/100\n",
            "7/7 [==============================] - ETA: 0s - loss: 0.1674 - accuracy: 0.9216\n",
            "Epoch 00023: val_accuracy did not improve from 0.97059\n",
            "7/7 [==============================] - 2s 250ms/step - loss: 0.1674 - accuracy: 0.9216 - val_loss: 0.3739 - val_accuracy: 0.8529 - lr: 1.0000e-04\n",
            "Epoch 24/100\n",
            "7/7 [==============================] - ETA: 0s - loss: 0.1758 - accuracy: 0.9412\n",
            "Epoch 00024: val_accuracy did not improve from 0.97059\n",
            "7/7 [==============================] - 2s 268ms/step - loss: 0.1758 - accuracy: 0.9412 - val_loss: 0.6237 - val_accuracy: 0.8824 - lr: 1.0000e-04\n",
            "Epoch 25/100\n",
            "7/7 [==============================] - ETA: 0s - loss: 0.1859 - accuracy: 0.9167\n",
            "Epoch 00025: val_accuracy did not improve from 0.97059\n",
            "7/7 [==============================] - 2s 240ms/step - loss: 0.1859 - accuracy: 0.9167 - val_loss: 0.5233 - val_accuracy: 0.8824 - lr: 1.0000e-04\n",
            "Epoch 26/100\n",
            "7/7 [==============================] - ETA: 0s - loss: 0.1694 - accuracy: 0.9363\n",
            "Epoch 00026: val_accuracy did not improve from 0.97059\n",
            "7/7 [==============================] - 2s 242ms/step - loss: 0.1694 - accuracy: 0.9363 - val_loss: 0.3851 - val_accuracy: 0.8529 - lr: 1.0000e-04\n",
            "Epoch 27/100\n",
            "7/7 [==============================] - ETA: 0s - loss: 0.1693 - accuracy: 0.9412\n",
            "Epoch 00027: val_accuracy did not improve from 0.97059\n",
            "7/7 [==============================] - 2s 246ms/step - loss: 0.1693 - accuracy: 0.9412 - val_loss: 0.3888 - val_accuracy: 0.8824 - lr: 1.0000e-04\n",
            "Epoch 28/100\n",
            "7/7 [==============================] - ETA: 0s - loss: 0.0894 - accuracy: 0.9657\n",
            "Epoch 00028: val_accuracy did not improve from 0.97059\n",
            "7/7 [==============================] - 2s 247ms/step - loss: 0.0894 - accuracy: 0.9657 - val_loss: 0.4643 - val_accuracy: 0.8824 - lr: 1.0000e-04\n",
            "Epoch 29/100\n",
            "7/7 [==============================] - ETA: 0s - loss: 0.1613 - accuracy: 0.9510\n",
            "Epoch 00029: val_accuracy did not improve from 0.97059\n",
            "7/7 [==============================] - 2s 248ms/step - loss: 0.1613 - accuracy: 0.9510 - val_loss: 0.2638 - val_accuracy: 0.9412 - lr: 1.0000e-04\n",
            "Epoch 30/100\n",
            "7/7 [==============================] - ETA: 0s - loss: 0.0704 - accuracy: 0.9755\n",
            "Epoch 00030: val_accuracy did not improve from 0.97059\n",
            "7/7 [==============================] - 2s 256ms/step - loss: 0.0704 - accuracy: 0.9755 - val_loss: 0.1676 - val_accuracy: 0.9706 - lr: 1.0000e-04\n",
            "Epoch 31/100\n",
            "7/7 [==============================] - ETA: 0s - loss: 0.0948 - accuracy: 0.9608\n",
            "Epoch 00031: val_accuracy did not improve from 0.97059\n",
            "7/7 [==============================] - 2s 272ms/step - loss: 0.0948 - accuracy: 0.9608 - val_loss: 0.1797 - val_accuracy: 0.9412 - lr: 1.0000e-04\n",
            "Epoch 32/100\n",
            "7/7 [==============================] - ETA: 0s - loss: 0.1059 - accuracy: 0.9657\n",
            "Epoch 00032: val_accuracy did not improve from 0.97059\n",
            "7/7 [==============================] - 2s 254ms/step - loss: 0.1059 - accuracy: 0.9657 - val_loss: 0.1482 - val_accuracy: 0.9706 - lr: 1.0000e-04\n",
            "Epoch 33/100\n",
            "7/7 [==============================] - ETA: 0s - loss: 0.1455 - accuracy: 0.9559\n",
            "Epoch 00033: val_accuracy did not improve from 0.97059\n",
            "7/7 [==============================] - 2s 247ms/step - loss: 0.1455 - accuracy: 0.9559 - val_loss: 0.1391 - val_accuracy: 0.9412 - lr: 1.0000e-04\n",
            "Epoch 34/100\n",
            "7/7 [==============================] - ETA: 0s - loss: 0.0586 - accuracy: 0.9755\n",
            "Epoch 00034: val_accuracy did not improve from 0.97059\n",
            "7/7 [==============================] - 2s 246ms/step - loss: 0.0586 - accuracy: 0.9755 - val_loss: 0.3154 - val_accuracy: 0.9412 - lr: 1.0000e-04\n",
            "Epoch 35/100\n",
            "7/7 [==============================] - ETA: 0s - loss: 0.0941 - accuracy: 0.9755\n",
            "Epoch 00035: val_accuracy did not improve from 0.97059\n",
            "7/7 [==============================] - 2s 251ms/step - loss: 0.0941 - accuracy: 0.9755 - val_loss: 0.1407 - val_accuracy: 0.9412 - lr: 1.0000e-04\n",
            "Epoch 36/100\n",
            "7/7 [==============================] - ETA: 0s - loss: 0.0897 - accuracy: 0.9755\n",
            "Epoch 00036: val_accuracy did not improve from 0.97059\n",
            "7/7 [==============================] - 2s 243ms/step - loss: 0.0897 - accuracy: 0.9755 - val_loss: 0.0873 - val_accuracy: 0.9706 - lr: 1.0000e-04\n",
            "Epoch 37/100\n",
            "7/7 [==============================] - ETA: 0s - loss: 0.0712 - accuracy: 0.9657\n",
            "Epoch 00037: val_accuracy did not improve from 0.97059\n",
            "7/7 [==============================] - 2s 246ms/step - loss: 0.0712 - accuracy: 0.9657 - val_loss: 0.0621 - val_accuracy: 0.9706 - lr: 1.0000e-04\n",
            "Epoch 38/100\n",
            "7/7 [==============================] - ETA: 0s - loss: 0.0749 - accuracy: 0.9804\n",
            "Epoch 00038: val_accuracy did not improve from 0.97059\n",
            "7/7 [==============================] - 2s 245ms/step - loss: 0.0749 - accuracy: 0.9804 - val_loss: 0.0503 - val_accuracy: 0.9706 - lr: 1.0000e-04\n",
            "Epoch 39/100\n",
            "7/7 [==============================] - ETA: 0s - loss: 0.0279 - accuracy: 0.9853\n",
            "Epoch 00039: val_accuracy did not improve from 0.97059\n",
            "7/7 [==============================] - 2s 246ms/step - loss: 0.0279 - accuracy: 0.9853 - val_loss: 0.0510 - val_accuracy: 0.9706 - lr: 1.0000e-04\n",
            "Epoch 40/100\n",
            "7/7 [==============================] - ETA: 0s - loss: 0.0876 - accuracy: 0.9755\n",
            "Epoch 00040: val_accuracy did not improve from 0.97059\n",
            "7/7 [==============================] - 2s 246ms/step - loss: 0.0876 - accuracy: 0.9755 - val_loss: 0.0972 - val_accuracy: 0.9706 - lr: 1.0000e-04\n",
            "Epoch 41/100\n",
            "7/7 [==============================] - ETA: 0s - loss: 0.0989 - accuracy: 0.9608\n",
            "Epoch 00041: val_accuracy did not improve from 0.97059\n",
            "7/7 [==============================] - 2s 269ms/step - loss: 0.0989 - accuracy: 0.9608 - val_loss: 0.1303 - val_accuracy: 0.9706 - lr: 1.0000e-04\n",
            "Epoch 42/100\n",
            "7/7 [==============================] - ETA: 0s - loss: 0.0796 - accuracy: 0.9755\n",
            "Epoch 00042: val_accuracy did not improve from 0.97059\n",
            "7/7 [==============================] - 2s 243ms/step - loss: 0.0796 - accuracy: 0.9755 - val_loss: 0.1392 - val_accuracy: 0.9706 - lr: 1.0000e-04\n",
            "Epoch 43/100\n",
            "7/7 [==============================] - ETA: 0s - loss: 0.0647 - accuracy: 0.9853\n",
            "Epoch 00043: val_accuracy did not improve from 0.97059\n",
            "7/7 [==============================] - 2s 245ms/step - loss: 0.0647 - accuracy: 0.9853 - val_loss: 0.1238 - val_accuracy: 0.9706 - lr: 1.0000e-04\n",
            "Epoch 44/100\n",
            "7/7 [==============================] - ETA: 0s - loss: 0.0578 - accuracy: 0.9804\n",
            "Epoch 00044: val_accuracy did not improve from 0.97059\n",
            "7/7 [==============================] - 2s 253ms/step - loss: 0.0578 - accuracy: 0.9804 - val_loss: 0.1422 - val_accuracy: 0.9706 - lr: 1.0000e-04\n",
            "Epoch 45/100\n",
            "7/7 [==============================] - ETA: 0s - loss: 0.1084 - accuracy: 0.9657\n",
            "Epoch 00045: val_accuracy did not improve from 0.97059\n",
            "7/7 [==============================] - 2s 251ms/step - loss: 0.1084 - accuracy: 0.9657 - val_loss: 0.2367 - val_accuracy: 0.9706 - lr: 1.0000e-04\n",
            "Epoch 46/100\n",
            "7/7 [==============================] - ETA: 0s - loss: 0.1849 - accuracy: 0.9216\n",
            "Epoch 00046: val_accuracy did not improve from 0.97059\n",
            "7/7 [==============================] - 2s 250ms/step - loss: 0.1849 - accuracy: 0.9216 - val_loss: 0.1734 - val_accuracy: 0.9706 - lr: 1.0000e-04\n",
            "Epoch 47/100\n",
            "7/7 [==============================] - ETA: 0s - loss: 0.0975 - accuracy: 0.9510\n",
            "Epoch 00047: val_accuracy did not improve from 0.97059\n",
            "7/7 [==============================] - 2s 249ms/step - loss: 0.0975 - accuracy: 0.9510 - val_loss: 0.1407 - val_accuracy: 0.9706 - lr: 1.0000e-04\n",
            "Epoch 48/100\n",
            "7/7 [==============================] - ETA: 0s - loss: 0.0767 - accuracy: 0.9804\n",
            "Epoch 00048: val_accuracy did not improve from 0.97059\n",
            "7/7 [==============================] - 2s 236ms/step - loss: 0.0767 - accuracy: 0.9804 - val_loss: 0.1057 - val_accuracy: 0.9706 - lr: 1.0000e-04\n",
            "Epoch 49/100\n",
            "7/7 [==============================] - ETA: 0s - loss: 0.0429 - accuracy: 0.9902\n",
            "Epoch 00049: val_accuracy did not improve from 0.97059\n",
            "7/7 [==============================] - 2s 250ms/step - loss: 0.0429 - accuracy: 0.9902 - val_loss: 0.0935 - val_accuracy: 0.9412 - lr: 1.0000e-04\n",
            "Epoch 50/100\n",
            "7/7 [==============================] - ETA: 0s - loss: 0.1208 - accuracy: 0.9755\n",
            "Epoch 00050: val_accuracy did not improve from 0.97059\n",
            "7/7 [==============================] - 2s 253ms/step - loss: 0.1208 - accuracy: 0.9755 - val_loss: 0.1264 - val_accuracy: 0.9412 - lr: 1.0000e-04\n",
            "Epoch 51/100\n",
            "7/7 [==============================] - ETA: 0s - loss: 0.0813 - accuracy: 0.9755\n",
            "Epoch 00051: val_accuracy did not improve from 0.97059\n",
            "7/7 [==============================] - 2s 249ms/step - loss: 0.0813 - accuracy: 0.9755 - val_loss: 0.2624 - val_accuracy: 0.9118 - lr: 1.0000e-04\n",
            "Epoch 52/100\n",
            "7/7 [==============================] - ETA: 0s - loss: 0.0926 - accuracy: 0.9706\n",
            "Epoch 00052: val_accuracy did not improve from 0.97059\n",
            "7/7 [==============================] - 2s 267ms/step - loss: 0.0926 - accuracy: 0.9706 - val_loss: 0.2587 - val_accuracy: 0.8824 - lr: 1.0000e-04\n",
            "Epoch 53/100\n",
            "7/7 [==============================] - ETA: 0s - loss: 0.0786 - accuracy: 0.9706\n",
            "Epoch 00053: val_accuracy did not improve from 0.97059\n",
            "7/7 [==============================] - 2s 269ms/step - loss: 0.0786 - accuracy: 0.9706 - val_loss: 0.0688 - val_accuracy: 0.9706 - lr: 1.0000e-04\n",
            "Epoch 54/100\n",
            "7/7 [==============================] - ETA: 0s - loss: 0.0956 - accuracy: 0.9706\n",
            "Epoch 00054: val_accuracy improved from 0.97059 to 1.00000, saving model to model2.h5\n",
            "7/7 [==============================] - 5s 860ms/step - loss: 0.0956 - accuracy: 0.9706 - val_loss: 0.0623 - val_accuracy: 1.0000 - lr: 1.0000e-04\n",
            "Epoch 55/100\n",
            "7/7 [==============================] - ETA: 0s - loss: 0.0890 - accuracy: 0.9755\n",
            "Epoch 00055: val_accuracy did not improve from 1.00000\n",
            "7/7 [==============================] - 2s 258ms/step - loss: 0.0890 - accuracy: 0.9755 - val_loss: 0.2148 - val_accuracy: 0.9118 - lr: 1.0000e-04\n",
            "Epoch 56/100\n",
            "7/7 [==============================] - ETA: 0s - loss: 0.1547 - accuracy: 0.9363\n",
            "Epoch 00056: val_accuracy did not improve from 1.00000\n",
            "7/7 [==============================] - 2s 242ms/step - loss: 0.1547 - accuracy: 0.9363 - val_loss: 0.3603 - val_accuracy: 0.8824 - lr: 1.0000e-04\n",
            "Epoch 57/100\n",
            "7/7 [==============================] - ETA: 0s - loss: 0.0515 - accuracy: 0.9804\n",
            "Epoch 00057: val_accuracy did not improve from 1.00000\n",
            "7/7 [==============================] - 2s 257ms/step - loss: 0.0515 - accuracy: 0.9804 - val_loss: 0.3151 - val_accuracy: 0.8824 - lr: 1.0000e-04\n",
            "Epoch 58/100\n",
            "7/7 [==============================] - ETA: 0s - loss: 0.0910 - accuracy: 0.9706\n",
            "Epoch 00058: val_accuracy did not improve from 1.00000\n",
            "7/7 [==============================] - 2s 244ms/step - loss: 0.0910 - accuracy: 0.9706 - val_loss: 0.2289 - val_accuracy: 0.9118 - lr: 1.0000e-04\n",
            "Epoch 59/100\n",
            "7/7 [==============================] - ETA: 0s - loss: 0.1229 - accuracy: 0.9657\n",
            "Epoch 00059: val_accuracy did not improve from 1.00000\n",
            "7/7 [==============================] - 2s 245ms/step - loss: 0.1229 - accuracy: 0.9657 - val_loss: 0.1078 - val_accuracy: 0.9412 - lr: 1.0000e-04\n",
            "Epoch 60/100\n",
            "7/7 [==============================] - ETA: 0s - loss: 0.0761 - accuracy: 0.9755\n",
            "Epoch 00060: val_accuracy did not improve from 1.00000\n",
            "7/7 [==============================] - 2s 356ms/step - loss: 0.0761 - accuracy: 0.9755 - val_loss: 0.0595 - val_accuracy: 1.0000 - lr: 1.0000e-04\n",
            "Epoch 61/100\n",
            "7/7 [==============================] - ETA: 0s - loss: 0.0564 - accuracy: 0.9755\n",
            "Epoch 00061: val_accuracy did not improve from 1.00000\n",
            "7/7 [==============================] - 2s 304ms/step - loss: 0.0564 - accuracy: 0.9755 - val_loss: 0.0431 - val_accuracy: 1.0000 - lr: 1.0000e-04\n",
            "Epoch 62/100\n",
            "7/7 [==============================] - ETA: 0s - loss: 0.2631 - accuracy: 0.9461\n",
            "Epoch 00062: val_accuracy did not improve from 1.00000\n",
            "7/7 [==============================] - 2s 308ms/step - loss: 0.2631 - accuracy: 0.9461 - val_loss: 0.0792 - val_accuracy: 1.0000 - lr: 1.0000e-04\n",
            "Epoch 63/100\n",
            "7/7 [==============================] - ETA: 0s - loss: 0.2326 - accuracy: 0.9461\n",
            "Epoch 00063: val_accuracy did not improve from 1.00000\n",
            "7/7 [==============================] - 2s 261ms/step - loss: 0.2326 - accuracy: 0.9461 - val_loss: 0.1344 - val_accuracy: 0.9706 - lr: 1.0000e-04\n",
            "Epoch 64/100\n",
            "7/7 [==============================] - ETA: 0s - loss: 0.1310 - accuracy: 0.9412\n",
            "Epoch 00064: val_accuracy did not improve from 1.00000\n",
            "7/7 [==============================] - 2s 254ms/step - loss: 0.1310 - accuracy: 0.9412 - val_loss: 0.0824 - val_accuracy: 1.0000 - lr: 1.0000e-04\n",
            "Epoch 65/100\n",
            "7/7 [==============================] - ETA: 0s - loss: 0.2030 - accuracy: 0.9755\n",
            "Epoch 00065: val_accuracy did not improve from 1.00000\n",
            "7/7 [==============================] - 2s 267ms/step - loss: 0.2030 - accuracy: 0.9755 - val_loss: 0.1182 - val_accuracy: 0.9706 - lr: 1.0000e-04\n",
            "Epoch 66/100\n",
            "7/7 [==============================] - ETA: 0s - loss: 0.1491 - accuracy: 0.9412\n",
            "Epoch 00066: val_accuracy did not improve from 1.00000\n",
            "7/7 [==============================] - 2s 247ms/step - loss: 0.1491 - accuracy: 0.9412 - val_loss: 0.1303 - val_accuracy: 0.9412 - lr: 1.0000e-04\n",
            "Epoch 67/100\n",
            "7/7 [==============================] - ETA: 0s - loss: 0.1926 - accuracy: 0.9412\n",
            "Epoch 00067: val_accuracy did not improve from 1.00000\n",
            "7/7 [==============================] - 2s 270ms/step - loss: 0.1926 - accuracy: 0.9412 - val_loss: 0.2506 - val_accuracy: 0.9118 - lr: 1.0000e-04\n",
            "Epoch 68/100\n",
            "7/7 [==============================] - ETA: 0s - loss: 0.1405 - accuracy: 0.9657\n",
            "Epoch 00068: val_accuracy did not improve from 1.00000\n",
            "7/7 [==============================] - 2s 251ms/step - loss: 0.1405 - accuracy: 0.9657 - val_loss: 0.3049 - val_accuracy: 0.8235 - lr: 1.0000e-04\n",
            "Epoch 69/100\n",
            "7/7 [==============================] - ETA: 0s - loss: 0.0598 - accuracy: 0.9853\n",
            "Epoch 00069: val_accuracy did not improve from 1.00000\n",
            "7/7 [==============================] - 2s 236ms/step - loss: 0.0598 - accuracy: 0.9853 - val_loss: 0.2881 - val_accuracy: 0.8235 - lr: 1.0000e-04\n",
            "Epoch 70/100\n",
            "7/7 [==============================] - ETA: 0s - loss: 0.1417 - accuracy: 0.9559\n",
            "Epoch 00070: val_accuracy did not improve from 1.00000\n",
            "7/7 [==============================] - 2s 247ms/step - loss: 0.1417 - accuracy: 0.9559 - val_loss: 0.2312 - val_accuracy: 0.8529 - lr: 1.0000e-04\n",
            "Epoch 71/100\n",
            "7/7 [==============================] - ETA: 0s - loss: 0.1590 - accuracy: 0.9265\n",
            "Epoch 00071: val_accuracy did not improve from 1.00000\n",
            "7/7 [==============================] - 2s 252ms/step - loss: 0.1590 - accuracy: 0.9265 - val_loss: 0.1923 - val_accuracy: 0.9412 - lr: 1.0000e-04\n",
            "Epoch 72/100\n",
            "7/7 [==============================] - ETA: 0s - loss: 0.0781 - accuracy: 0.9706\n",
            "Epoch 00072: val_accuracy did not improve from 1.00000\n",
            "7/7 [==============================] - 2s 246ms/step - loss: 0.0781 - accuracy: 0.9706 - val_loss: 0.2186 - val_accuracy: 0.8824 - lr: 1.0000e-04\n",
            "Epoch 73/100\n",
            "7/7 [==============================] - ETA: 0s - loss: 0.1465 - accuracy: 0.9706\n",
            "Epoch 00073: val_accuracy did not improve from 1.00000\n",
            "7/7 [==============================] - 2s 252ms/step - loss: 0.1465 - accuracy: 0.9706 - val_loss: 0.2619 - val_accuracy: 0.8824 - lr: 1.0000e-04\n",
            "Epoch 74/100\n",
            "7/7 [==============================] - ETA: 0s - loss: 0.1393 - accuracy: 0.9657\n",
            "Epoch 00074: val_accuracy did not improve from 1.00000\n",
            "7/7 [==============================] - 2s 254ms/step - loss: 0.1393 - accuracy: 0.9657 - val_loss: 0.2594 - val_accuracy: 0.8529 - lr: 1.0000e-04\n",
            "Epoch 75/100\n",
            "7/7 [==============================] - ETA: 0s - loss: 0.0970 - accuracy: 0.9706\n",
            "Epoch 00075: val_accuracy did not improve from 1.00000\n",
            "7/7 [==============================] - 2s 253ms/step - loss: 0.0970 - accuracy: 0.9706 - val_loss: 0.2377 - val_accuracy: 0.8235 - lr: 1.0000e-04\n",
            "Epoch 76/100\n",
            "7/7 [==============================] - ETA: 0s - loss: 0.1206 - accuracy: 0.9657\n",
            "Epoch 00076: val_accuracy did not improve from 1.00000\n",
            "7/7 [==============================] - 2s 257ms/step - loss: 0.1206 - accuracy: 0.9657 - val_loss: 0.1565 - val_accuracy: 0.8529 - lr: 1.0000e-04\n",
            "Epoch 77/100\n",
            "7/7 [==============================] - ETA: 0s - loss: 0.0549 - accuracy: 0.9804\n",
            "Epoch 00077: val_accuracy did not improve from 1.00000\n",
            "7/7 [==============================] - 2s 252ms/step - loss: 0.0549 - accuracy: 0.9804 - val_loss: 0.1295 - val_accuracy: 0.9412 - lr: 1.0000e-04\n",
            "Epoch 78/100\n",
            "7/7 [==============================] - ETA: 0s - loss: 0.0765 - accuracy: 0.9804\n",
            "Epoch 00078: val_accuracy did not improve from 1.00000\n",
            "7/7 [==============================] - 2s 249ms/step - loss: 0.0765 - accuracy: 0.9804 - val_loss: 0.1486 - val_accuracy: 0.9118 - lr: 1.0000e-04\n",
            "Epoch 79/100\n",
            "7/7 [==============================] - ETA: 0s - loss: 0.0892 - accuracy: 0.9706\n",
            "Epoch 00079: val_accuracy did not improve from 1.00000\n",
            "7/7 [==============================] - 2s 270ms/step - loss: 0.0892 - accuracy: 0.9706 - val_loss: 0.1605 - val_accuracy: 0.8824 - lr: 1.0000e-04\n",
            "Epoch 80/100\n",
            "7/7 [==============================] - ETA: 0s - loss: 0.0697 - accuracy: 0.9853\n",
            "Epoch 00080: val_accuracy did not improve from 1.00000\n",
            "7/7 [==============================] - 2s 242ms/step - loss: 0.0697 - accuracy: 0.9853 - val_loss: 0.1501 - val_accuracy: 0.9412 - lr: 1.0000e-04\n",
            "Epoch 81/100\n",
            "7/7 [==============================] - ETA: 0s - loss: 0.0782 - accuracy: 0.9755\n",
            "Epoch 00081: val_accuracy did not improve from 1.00000\n",
            "7/7 [==============================] - 2s 247ms/step - loss: 0.0782 - accuracy: 0.9755 - val_loss: 0.1192 - val_accuracy: 0.9706 - lr: 1.0000e-04\n",
            "Epoch 82/100\n",
            "7/7 [==============================] - ETA: 0s - loss: 0.0745 - accuracy: 0.9853\n",
            "Epoch 00082: val_accuracy did not improve from 1.00000\n",
            "7/7 [==============================] - 2s 247ms/step - loss: 0.0745 - accuracy: 0.9853 - val_loss: 0.1301 - val_accuracy: 0.9706 - lr: 1.0000e-04\n",
            "Epoch 83/100\n",
            "7/7 [==============================] - ETA: 0s - loss: 0.0461 - accuracy: 0.9804\n",
            "Epoch 00083: val_accuracy did not improve from 1.00000\n",
            "7/7 [==============================] - 2s 257ms/step - loss: 0.0461 - accuracy: 0.9804 - val_loss: 0.1404 - val_accuracy: 0.9118 - lr: 1.0000e-04\n",
            "Epoch 84/100\n",
            "7/7 [==============================] - ETA: 0s - loss: 0.0475 - accuracy: 0.9951\n",
            "Epoch 00084: val_accuracy did not improve from 1.00000\n",
            "7/7 [==============================] - 2s 250ms/step - loss: 0.0475 - accuracy: 0.9951 - val_loss: 0.1681 - val_accuracy: 0.9118 - lr: 1.0000e-04\n",
            "Epoch 85/100\n",
            "7/7 [==============================] - ETA: 0s - loss: 0.0235 - accuracy: 0.9902\n",
            "Epoch 00085: val_accuracy did not improve from 1.00000\n",
            "7/7 [==============================] - 2s 251ms/step - loss: 0.0235 - accuracy: 0.9902 - val_loss: 0.1774 - val_accuracy: 0.8824 - lr: 1.0000e-04\n",
            "Epoch 86/100\n",
            "7/7 [==============================] - ETA: 0s - loss: 0.0665 - accuracy: 0.9902\n",
            "Epoch 00086: val_accuracy did not improve from 1.00000\n",
            "7/7 [==============================] - 2s 247ms/step - loss: 0.0665 - accuracy: 0.9902 - val_loss: 0.1670 - val_accuracy: 0.9118 - lr: 1.0000e-04\n",
            "Epoch 87/100\n",
            "7/7 [==============================] - ETA: 0s - loss: 0.1984 - accuracy: 0.9559\n",
            "Epoch 00087: val_accuracy did not improve from 1.00000\n",
            "7/7 [==============================] - 2s 254ms/step - loss: 0.1984 - accuracy: 0.9559 - val_loss: 0.1975 - val_accuracy: 0.9118 - lr: 1.0000e-04\n",
            "Epoch 88/100\n",
            "7/7 [==============================] - ETA: 0s - loss: 0.1463 - accuracy: 0.9461\n",
            "Epoch 00088: val_accuracy did not improve from 1.00000\n",
            "7/7 [==============================] - 2s 245ms/step - loss: 0.1463 - accuracy: 0.9461 - val_loss: 0.1031 - val_accuracy: 0.9706 - lr: 1.0000e-04\n",
            "Epoch 89/100\n",
            "7/7 [==============================] - ETA: 0s - loss: 0.1068 - accuracy: 0.9657\n",
            "Epoch 00089: val_accuracy did not improve from 1.00000\n",
            "7/7 [==============================] - 2s 252ms/step - loss: 0.1068 - accuracy: 0.9657 - val_loss: 0.0852 - val_accuracy: 0.9706 - lr: 1.0000e-04\n",
            "Epoch 90/100\n",
            "7/7 [==============================] - ETA: 0s - loss: 0.0683 - accuracy: 0.9559\n",
            "Epoch 00090: val_accuracy did not improve from 1.00000\n",
            "7/7 [==============================] - 2s 247ms/step - loss: 0.0683 - accuracy: 0.9559 - val_loss: 0.0930 - val_accuracy: 0.9706 - lr: 1.0000e-04\n",
            "Epoch 91/100\n",
            "7/7 [==============================] - ETA: 0s - loss: 0.1101 - accuracy: 0.9608\n",
            "Epoch 00091: val_accuracy did not improve from 1.00000\n",
            "7/7 [==============================] - 2s 261ms/step - loss: 0.1101 - accuracy: 0.9608 - val_loss: 0.0873 - val_accuracy: 0.9706 - lr: 1.0000e-04\n",
            "Epoch 92/100\n",
            "7/7 [==============================] - ETA: 0s - loss: 0.0453 - accuracy: 0.9804\n",
            "Epoch 00092: val_accuracy did not improve from 1.00000\n",
            "7/7 [==============================] - 2s 256ms/step - loss: 0.0453 - accuracy: 0.9804 - val_loss: 0.0997 - val_accuracy: 0.9706 - lr: 1.0000e-04\n",
            "Epoch 93/100\n",
            "7/7 [==============================] - ETA: 0s - loss: 0.0729 - accuracy: 0.9755\n",
            "Epoch 00093: val_accuracy did not improve from 1.00000\n",
            "7/7 [==============================] - 2s 247ms/step - loss: 0.0729 - accuracy: 0.9755 - val_loss: 0.1322 - val_accuracy: 0.9706 - lr: 1.0000e-04\n",
            "Epoch 94/100\n",
            "7/7 [==============================] - ETA: 0s - loss: 0.0235 - accuracy: 0.9951\n",
            "Epoch 00094: val_accuracy did not improve from 1.00000\n",
            "7/7 [==============================] - 2s 252ms/step - loss: 0.0235 - accuracy: 0.9951 - val_loss: 0.1778 - val_accuracy: 0.9706 - lr: 1.0000e-04\n",
            "Epoch 95/100\n",
            "7/7 [==============================] - ETA: 0s - loss: 0.0151 - accuracy: 1.0000\n",
            "Epoch 00095: val_accuracy did not improve from 1.00000\n",
            "7/7 [==============================] - 2s 274ms/step - loss: 0.0151 - accuracy: 1.0000 - val_loss: 0.1756 - val_accuracy: 0.9412 - lr: 1.0000e-04\n",
            "Epoch 96/100\n",
            "7/7 [==============================] - ETA: 0s - loss: 0.0459 - accuracy: 0.9804\n",
            "Epoch 00096: val_accuracy did not improve from 1.00000\n",
            "7/7 [==============================] - 2s 253ms/step - loss: 0.0459 - accuracy: 0.9804 - val_loss: 0.1847 - val_accuracy: 0.9412 - lr: 1.0000e-04\n",
            "Epoch 97/100\n",
            "7/7 [==============================] - ETA: 0s - loss: 0.0527 - accuracy: 0.9706\n",
            "Epoch 00097: val_accuracy did not improve from 1.00000\n",
            "7/7 [==============================] - 2s 256ms/step - loss: 0.0527 - accuracy: 0.9706 - val_loss: 0.5183 - val_accuracy: 0.8235 - lr: 1.0000e-04\n",
            "Epoch 98/100\n",
            "7/7 [==============================] - ETA: 0s - loss: 0.0809 - accuracy: 0.9755\n",
            "Epoch 00098: val_accuracy did not improve from 1.00000\n",
            "7/7 [==============================] - 2s 249ms/step - loss: 0.0809 - accuracy: 0.9755 - val_loss: 0.5997 - val_accuracy: 0.7941 - lr: 1.0000e-04\n",
            "Epoch 99/100\n",
            "7/7 [==============================] - ETA: 0s - loss: 0.0937 - accuracy: 0.9657\n",
            "Epoch 00099: val_accuracy did not improve from 1.00000\n",
            "7/7 [==============================] - 2s 257ms/step - loss: 0.0937 - accuracy: 0.9657 - val_loss: 0.4994 - val_accuracy: 0.8235 - lr: 1.0000e-04\n",
            "Epoch 100/100\n",
            "7/7 [==============================] - ETA: 0s - loss: 0.0671 - accuracy: 0.9657\n",
            "Epoch 00100: val_accuracy did not improve from 1.00000\n",
            "7/7 [==============================] - 2s 268ms/step - loss: 0.0671 - accuracy: 0.9657 - val_loss: 0.5989 - val_accuracy: 0.8235 - lr: 1.0000e-04\n"
          ]
        }
      ]
    },
    {
      "cell_type": "code",
      "source": [
        "pemodelan_2.evaluate(test_images)"
      ],
      "metadata": {
        "colab": {
          "base_uri": "https://localhost:8080/"
        },
        "outputId": "f042bc97-7e6e-4e6d-cee8-fb1563f68b11",
        "id": "SJNWNy9YRlp5"
      },
      "execution_count": null,
      "outputs": [
        {
          "output_type": "stream",
          "name": "stdout",
          "text": [
            "2/2 [==============================] - 0s 32ms/step - loss: 0.5989 - accuracy: 0.8235\n"
          ]
        },
        {
          "output_type": "execute_result",
          "data": {
            "text/plain": [
              "[0.5989311933517456, 0.8235294222831726]"
            ]
          },
          "metadata": {},
          "execution_count": 106
        }
      ]
    },
    {
      "cell_type": "code",
      "source": [
        "plt.plot(history2.history[\"accuracy\"] , 'ro-' , label = \"Training Accuracy\")\n",
        "plt.plot(history2.history[\"val_accuracy\"] , 'go-' , label = \"Testing Accuracy\")\n",
        "plt.legend()\n",
        "plt.show()"
      ],
      "metadata": {
        "colab": {
          "base_uri": "https://localhost:8080/",
          "height": 265
        },
        "outputId": "f949f664-f483-4cf0-fad1-021965c38717",
        "id": "YMSumgKzRlp6"
      },
      "execution_count": null,
      "outputs": [
        {
          "output_type": "display_data",
          "data": {
            "image/png": "[encoded data removed]",
            "text/plain": [
              "<Figure size 432x288 with 1 Axes>"
            ]
          },
          "metadata": {
            "needs_background": "light"
          }
        }
      ]
    },
    {
      "cell_type": "code",
      "source": [
        "plt.plot(history2.history[\"loss\"] , 'ro-' , label = \"Training Loss\")\n",
        "plt.plot(history2.history[\"val_loss\"] , 'go-' , label = \"Testing Loss\")\n",
        "plt.legend()\n",
        "plt.show()"
      ],
      "metadata": {
        "colab": {
          "base_uri": "https://localhost:8080/",
          "height": 265
        },
        "outputId": "c8cd3407-f065-45d1-bdaa-ee7395a41efa",
        "id": "cUElIO9PRlp7"
      },
      "execution_count": null,
      "outputs": [
        {
          "output_type": "display_data",
          "data": {
            "image/png": "[encoded data removed]",
            "text/plain": [
              "<Figure size 432x288 with 1 Axes>"
            ]
          },
          "metadata": {
            "needs_background": "light"
          }
        }
      ]
    },
    {
      "cell_type": "code",
      "source": [
        "from sklearn.metrics import classification_report, confusion_matrix\n",
        "import seaborn as sns\n",
        "\n",
        "def evaluate(pemodelan_2):\n",
        "  valid_generator = train_generator.flow_from_directory(\n",
        "      TRAIN_DIR, \n",
        "      target_size=(64,64), \n",
        "      batch_size=32, \n",
        "      class_mode='categorical',\n",
        "      shuffle = False)\n",
        "\n",
        "  batch_size = 32\n",
        "  num_of_test_samples = len(valid_generator.filenames)\n",
        "\n",
        "  Y_pred = pemodelan_2.predict_generator(valid_generator, num_of_test_samples // batch_size+1)\n",
        "  y_pred = np.argmax(Y_pred, axis=1)\n",
        "\n",
        "  print('\\nConfusion Matrix\\n')\n",
        "  cm = confusion_matrix(valid_generator.classes, y_pred)\n",
        "  plt.figure(figsize=(8, 8))\n",
        "  sns.heatmap(cm, annot=True, fmt='g', vmin=0, cmap='Blues', cbar=False)\n",
        "  plt.xticks(ticks=[0.5, 1.5], labels=['no', 'yes'])\n",
        "  plt.yticks(ticks=[0.5, 1.5], labels=['no', 'yes'])\n",
        "  plt.xlabel(\"Predicted\")\n",
        "  plt.ylabel(\"Actual\")\n",
        "  plt.title(\"Confusion Matrix\")\n",
        "  plt.show()\n",
        "\n",
        "  print('\\n\\nClassification Report\\n')\n",
        "  target_names = ['no', 'yes']\n",
        "  print(classification_report(valid_generator.classes, y_pred, target_names=target_names))"
      ],
      "metadata": {
        "id": "y550MT3wRlp8"
      },
      "execution_count": null,
      "outputs": []
    },
    {
      "cell_type": "code",
      "source": [
        "evaluate(pemodelan_2)"
      ],
      "metadata": {
        "colab": {
          "base_uri": "https://localhost:8080/",
          "height": 863
        },
        "outputId": "ef83f85b-2fcb-4e43-9aab-a2c93520488c",
        "id": "A3kOCN1DRlp9"
      },
      "execution_count": null,
      "outputs": [
        {
          "output_type": "stream",
          "name": "stdout",
          "text": [
            "Found 204 images belonging to 2 classes.\n"
          ]
        },
        {
          "output_type": "stream",
          "name": "stderr",
          "text": [
            "/usr/local/lib/python3.7/dist-packages/ipykernel_launcher.py:15: UserWarning: `Model.predict_generator` is deprecated and will be removed in a future version. Please use `Model.predict`, which supports generators.\n",
            "  from ipykernel import kernelapp as app\n"
          ]
        },
        {
          "output_type": "stream",
          "name": "stdout",
          "text": [
            "\n",
            "Confusion Matrix\n",
            "\n"
          ]
        },
        {
          "output_type": "display_data",
          "data": {
            "image/png": "[encoded data removed]",
            "text/plain": [
              "<Figure size 576x576 with 1 Axes>"
            ]
          },
          "metadata": {
            "needs_background": "light"
          }
        },
        {
          "output_type": "stream",
          "name": "stdout",
          "text": [
            "\n",
            "\n",
            "Classification Report\n",
            "\n",
            "              precision    recall  f1-score   support\n",
            "\n",
            "          no       0.91      1.00      0.95        79\n",
            "         yes       1.00      0.94      0.97       125\n",
            "\n",
            "    accuracy                           0.96       204\n",
            "   macro avg       0.95      0.97      0.96       204\n",
            "weighted avg       0.96      0.96      0.96       204\n",
            "\n"
          ]
        }
      ]
    },
    {
      "cell_type": "code",
      "source": [
        "import os\n",
        "\n",
        "from tensorflow.keras.preprocessing import image\n",
        "from tensorflow.keras.applications.vgg16 import VGG16, preprocess_input\n",
        "from tensorflow.keras.models import  Model\n",
        "\n",
        "from PIL import Image\n",
        "import pickle\n",
        "import numpy as np\n",
        "\n",
        "def image_preprocess(img):\n",
        "    img = img.resize((64,64))\n",
        "    img = img.convert(\"RGB\")\n",
        "    x = image.img_to_array(img)\n",
        "    x = np.expand_dims(x, axis=0)\n",
        "    x = preprocess_input(x)\n",
        "    return x\n",
        "\n",
        "def extract_vector(model, image_path):\n",
        "    print(\"Path : \", image_path)\n",
        "    img = Image.open(image_path)\n",
        "    img_tensor = image_preprocess(img)\n",
        "\n",
        "    vector = model.predict(img_tensor)[0]\n",
        "    vector = vector / np.linalg.norm(vector)\n",
        "    return vector\n",
        "\n",
        "data_folder = \"/content/drive/My Drive/IR/data/dataset\"\n",
        "\n",
        "model = pemodelan_2\n",
        "\n",
        "vectors = []\n",
        "paths = []\n",
        "\n",
        "for image_path in os.listdir(data_folder):\n",
        "    image_path_full = os.path.join(data_folder, image_path)\n",
        "    image_vector = extract_vector(model,image_path_full)\n",
        "    vectors.append(image_vector)\n",
        "    paths.append(image_path_full)\n",
        "\n",
        "vector_file = \"vectors.pkl\"\n",
        "path_file = \"paths.pkl\"\n",
        "\n",
        "pickle.dump(vectors, open(vector_file, \"wb\"))\n",
        "pickle.dump(paths, open(path_file, \"wb\"))"
      ],
      "metadata": {
        "colab": {
          "base_uri": "https://localhost:8080/"
        },
        "outputId": "b99b8e35-7645-4327-c0e9-902b7e5dd55c",
        "id": "_nevosrVV0lC"
      },
      "execution_count": null,
      "outputs": [
        {
          "output_type": "stream",
          "name": "stdout",
          "text": [
            "Path :  /content/drive/My Drive/IR/data/dataset/Y74.jpg\n",
            "Path :  /content/drive/My Drive/IR/data/dataset/Y154.jpg\n",
            "Path :  /content/drive/My Drive/IR/data/dataset/Y54.jpg\n",
            "Path :  /content/drive/My Drive/IR/data/dataset/Y106.jpg\n",
            "Path :  /content/drive/My Drive/IR/data/dataset/Y107.jpg\n",
            "Path :  /content/drive/My Drive/IR/data/dataset/Y250.jpg\n",
            "Path :  /content/drive/My Drive/IR/data/dataset/Y3.jpg\n",
            "Path :  /content/drive/My Drive/IR/data/dataset/Y69.jpg\n",
            "Path :  /content/drive/My Drive/IR/data/dataset/Y31.jpg\n",
            "Path :  /content/drive/My Drive/IR/data/dataset/Y102.jpg\n",
            "Path :  /content/drive/My Drive/IR/data/dataset/Y95.jpg\n",
            "Path :  /content/drive/My Drive/IR/data/dataset/Y8.jpg\n",
            "Path :  /content/drive/My Drive/IR/data/dataset/Y28.jpg\n",
            "Path :  /content/drive/My Drive/IR/data/dataset/Y39.jpg\n",
            "Path :  /content/drive/My Drive/IR/data/dataset/10 no.jpg\n",
            "Path :  /content/drive/My Drive/IR/data/dataset/29 no.jpg\n",
            "Path :  /content/drive/My Drive/IR/data/dataset/No13.jpg\n",
            "Path :  /content/drive/My Drive/IR/data/dataset/50 no.jpg\n",
            "Path :  /content/drive/My Drive/IR/data/dataset/no 90.jpg\n",
            "Path :  /content/drive/My Drive/IR/data/dataset/8 no.jpg\n",
            "Path :  /content/drive/My Drive/IR/data/dataset/no 92.jpg\n",
            "Path :  /content/drive/My Drive/IR/data/dataset/no.jpg\n",
            "Path :  /content/drive/My Drive/IR/data/dataset/No15.jpg\n",
            "Path :  /content/drive/My Drive/IR/data/dataset/43 no.jpg\n",
            "Path :  /content/drive/My Drive/IR/data/dataset/no 99.jpg\n",
            "Path :  /content/drive/My Drive/IR/data/dataset/no 96.jpg\n",
            "Path :  /content/drive/My Drive/IR/data/dataset/36 no.jpg\n",
            "Path :  /content/drive/My Drive/IR/data/dataset/No19.jpg\n",
            "Path :  /content/drive/My Drive/IR/data/dataset/No17.jpg\n",
            "Path :  /content/drive/My Drive/IR/data/dataset/no 923.jpg\n",
            "Path :  /content/drive/My Drive/IR/data/dataset/22 no.jpg\n",
            "Path :  /content/drive/My Drive/IR/data/dataset/no 10.jpg\n",
            "Path :  /content/drive/My Drive/IR/data/dataset/Y73.jpg\n",
            "Path :  /content/drive/My Drive/IR/data/dataset/Y81.jpg\n",
            "Path :  /content/drive/My Drive/IR/data/dataset/Y61.jpg\n",
            "Path :  /content/drive/My Drive/IR/data/dataset/Y4.jpg\n",
            "Path :  /content/drive/My Drive/IR/data/dataset/Y13.jpg\n",
            "Path :  /content/drive/My Drive/IR/data/dataset/Y70.jpg\n",
            "Path :  /content/drive/My Drive/IR/data/dataset/Y10.jpg\n",
            "Path :  /content/drive/My Drive/IR/data/dataset/Y168.jpg\n",
            "Path :  /content/drive/My Drive/IR/data/dataset/Y162.jpg\n",
            "Path :  /content/drive/My Drive/IR/data/dataset/Y187.jpg\n",
            "Path :  /content/drive/My Drive/IR/data/dataset/Y17.jpg\n",
            "Path :  /content/drive/My Drive/IR/data/dataset/Y245.jpg\n",
            "Path :  /content/drive/My Drive/IR/data/dataset/Y38.jpg\n",
            "Path :  /content/drive/My Drive/IR/data/dataset/Y104.jpg\n",
            "Path :  /content/drive/My Drive/IR/data/dataset/Y26.jpg\n",
            "Path :  /content/drive/My Drive/IR/data/dataset/Y22.jpg\n",
            "Path :  /content/drive/My Drive/IR/data/dataset/Y33.jpg\n",
            "Path :  /content/drive/My Drive/IR/data/dataset/Y105.jpg\n",
            "Path :  /content/drive/My Drive/IR/data/dataset/Y6.jpg\n",
            "Path :  /content/drive/My Drive/IR/data/dataset/Y56.jpg\n",
            "Path :  /content/drive/My Drive/IR/data/dataset/Y183.jpg\n",
            "Path :  /content/drive/My Drive/IR/data/dataset/Y14.jpg\n",
            "Path :  /content/drive/My Drive/IR/data/dataset/Y77.jpg\n",
            "Path :  /content/drive/My Drive/IR/data/dataset/Y32.jpg\n",
            "Path :  /content/drive/My Drive/IR/data/dataset/Y194.jpg\n",
            "Path :  /content/drive/My Drive/IR/data/dataset/Y180.jpg\n",
            "Path :  /content/drive/My Drive/IR/data/dataset/Y185.jpg\n",
            "Path :  /content/drive/My Drive/IR/data/dataset/Y42.jpg\n",
            "Path :  /content/drive/My Drive/IR/data/dataset/Y2.jpg\n",
            "Path :  /content/drive/My Drive/IR/data/dataset/Y27.jpg\n",
            "Path :  /content/drive/My Drive/IR/data/dataset/Y12.jpg\n",
            "Path :  /content/drive/My Drive/IR/data/dataset/Y101.jpg\n",
            "Path :  /content/drive/My Drive/IR/data/dataset/Y52.jpg\n",
            "Path :  /content/drive/My Drive/IR/data/dataset/Y254.jpg\n",
            "Path :  /content/drive/My Drive/IR/data/dataset/Y1.jpg\n",
            "Path :  /content/drive/My Drive/IR/data/dataset/Y153.jpg\n",
            "Path :  /content/drive/My Drive/IR/data/dataset/Y15.jpg\n",
            "Path :  /content/drive/My Drive/IR/data/dataset/Y35.jpg\n",
            "Path :  /content/drive/My Drive/IR/data/dataset/Y55.jpg\n",
            "Path :  /content/drive/My Drive/IR/data/dataset/Y78.jpg\n",
            "Path :  /content/drive/My Drive/IR/data/dataset/Y20.jpg\n",
            "Path :  /content/drive/My Drive/IR/data/dataset/Y37.jpg\n",
            "Path :  /content/drive/My Drive/IR/data/dataset/Y252.jpg\n",
            "Path :  /content/drive/My Drive/IR/data/dataset/Y7.jpg\n",
            "Path :  /content/drive/My Drive/IR/data/dataset/Y53.jpg\n",
            "Path :  /content/drive/My Drive/IR/data/dataset/Y30.jpg\n",
            "Path :  /content/drive/My Drive/IR/data/dataset/Y60.jpg\n",
            "Path :  /content/drive/My Drive/IR/data/dataset/Y11.jpg\n",
            "Path :  /content/drive/My Drive/IR/data/dataset/Y169.jpg\n",
            "Path :  /content/drive/My Drive/IR/data/dataset/Y21.jpg\n",
            "Path :  /content/drive/My Drive/IR/data/dataset/Y91.jpg\n",
            "Path :  /content/drive/My Drive/IR/data/dataset/Y25.jpg\n",
            "Path :  /content/drive/My Drive/IR/data/dataset/Y29.jpg\n",
            "Path :  /content/drive/My Drive/IR/data/dataset/Y188.jpg\n",
            "Path :  /content/drive/My Drive/IR/data/dataset/Y51.jpg\n",
            "Path :  /content/drive/My Drive/IR/data/dataset/Y92.jpg\n",
            "Path :  /content/drive/My Drive/IR/data/dataset/Y34.jpg\n",
            "Path :  /content/drive/My Drive/IR/data/dataset/Y90.jpg\n",
            "Path :  /content/drive/My Drive/IR/data/dataset/Y24.jpg\n",
            "Path :  /content/drive/My Drive/IR/data/dataset/Y46.jpg\n",
            "Path :  /content/drive/My Drive/IR/data/dataset/Y62.jpg\n",
            "Path :  /content/drive/My Drive/IR/data/dataset/Y257.jpg\n",
            "Path :  /content/drive/My Drive/IR/data/dataset/Y79.jpg\n",
            "Path :  /content/drive/My Drive/IR/data/dataset/Y41.jpg\n",
            "Path :  /content/drive/My Drive/IR/data/dataset/Y96.jpg\n",
            "Path :  /content/drive/My Drive/IR/data/dataset/Y181.jpg\n",
            "Path :  /content/drive/My Drive/IR/data/dataset/Y76.jpg\n",
            "Path :  /content/drive/My Drive/IR/data/dataset/Y186.jpg\n",
            "Path :  /content/drive/My Drive/IR/data/dataset/Y108.jpg\n",
            "Path :  /content/drive/My Drive/IR/data/dataset/Y82.jpg\n",
            "Path :  /content/drive/My Drive/IR/data/dataset/Y103.jpg\n",
            "Path :  /content/drive/My Drive/IR/data/dataset/Y9.jpg\n",
            "Path :  /content/drive/My Drive/IR/data/dataset/46 no.jpg\n",
            "Path :  /content/drive/My Drive/IR/data/dataset/N5.jpg\n",
            "Path :  /content/drive/My Drive/IR/data/dataset/33 no.jpg\n",
            "Path :  /content/drive/My Drive/IR/data/dataset/26 no.jpg\n",
            "Path :  /content/drive/My Drive/IR/data/dataset/N17.jpg\n",
            "Path :  /content/drive/My Drive/IR/data/dataset/N6.jpg\n",
            "Path :  /content/drive/My Drive/IR/data/dataset/no 98.jpg\n",
            "Path :  /content/drive/My Drive/IR/data/dataset/no 4.jpg\n",
            "Path :  /content/drive/My Drive/IR/data/dataset/no 97.jpg\n",
            "Path :  /content/drive/My Drive/IR/data/dataset/N16.jpg\n",
            "Path :  /content/drive/My Drive/IR/data/dataset/no 89.jpg\n",
            "Path :  /content/drive/My Drive/IR/data/dataset/No14.jpg\n",
            "Path :  /content/drive/My Drive/IR/data/dataset/24 no.jpg\n",
            "Path :  /content/drive/My Drive/IR/data/dataset/12 no.jpg\n",
            "Path :  /content/drive/My Drive/IR/data/dataset/N21.jpg\n",
            "Path :  /content/drive/My Drive/IR/data/dataset/no 8.jpg\n",
            "Path :  /content/drive/My Drive/IR/data/dataset/4 no.jpg\n",
            "Path :  /content/drive/My Drive/IR/data/dataset/45 no.jpg\n",
            "Path :  /content/drive/My Drive/IR/data/dataset/No22.jpg\n",
            "Path :  /content/drive/My Drive/IR/data/dataset/18 no.jpg\n",
            "Path :  /content/drive/My Drive/IR/data/dataset/37 no.jpg\n",
            "Path :  /content/drive/My Drive/IR/data/dataset/N11.jpg\n",
            "Path :  /content/drive/My Drive/IR/data/dataset/15 no.jpg\n",
            "Path :  /content/drive/My Drive/IR/data/dataset/31 no.jpg\n",
            "Path :  /content/drive/My Drive/IR/data/dataset/49 no.jpg\n",
            "Path :  /content/drive/My Drive/IR/data/dataset/no 94.jpg\n",
            "Path :  /content/drive/My Drive/IR/data/dataset/no 2.jpg\n",
            "Path :  /content/drive/My Drive/IR/data/dataset/23 no.jpg\n",
            "Path :  /content/drive/My Drive/IR/data/dataset/32 no.jpg\n",
            "Path :  /content/drive/My Drive/IR/data/dataset/38 no.jpg\n",
            "Path :  /content/drive/My Drive/IR/data/dataset/no 1.jpg\n",
            "Path :  /content/drive/My Drive/IR/data/dataset/17 no.jpg\n",
            "Path :  /content/drive/My Drive/IR/data/dataset/44no.jpg\n",
            "Path :  /content/drive/My Drive/IR/data/dataset/No16.jpg\n",
            "Path :  /content/drive/My Drive/IR/data/dataset/No12.jpg\n",
            "Path :  /content/drive/My Drive/IR/data/dataset/39 no.jpg\n",
            "Path :  /content/drive/My Drive/IR/data/dataset/N3.jpg\n",
            "Path :  /content/drive/My Drive/IR/data/dataset/No20.jpg\n",
            "Path :  /content/drive/My Drive/IR/data/dataset/27 no.jpg\n",
            "Path :  /content/drive/My Drive/IR/data/dataset/28 no.jpg\n",
            "Path :  /content/drive/My Drive/IR/data/dataset/6 no.jpg\n",
            "Path :  /content/drive/My Drive/IR/data/dataset/40 no.jpg\n",
            "Path :  /content/drive/My Drive/IR/data/dataset/35 no.jpg\n",
            "Path :  /content/drive/My Drive/IR/data/dataset/9 no.jpg\n",
            "Path :  /content/drive/My Drive/IR/data/dataset/47 no.jpg\n",
            "Path :  /content/drive/My Drive/IR/data/dataset/7 no.jpg\n",
            "Path :  /content/drive/My Drive/IR/data/dataset/11 no.jpg\n",
            "Path :  /content/drive/My Drive/IR/data/dataset/no 3.jpg\n",
            "Path :  /content/drive/My Drive/IR/data/dataset/5 no.jpg\n",
            "Path :  /content/drive/My Drive/IR/data/dataset/14 no.jpg\n",
            "Path :  /content/drive/My Drive/IR/data/dataset/20 no.jpg\n",
            "Path :  /content/drive/My Drive/IR/data/dataset/41 no.jpg\n",
            "Path :  /content/drive/My Drive/IR/data/dataset/30 no.jpg\n",
            "Path :  /content/drive/My Drive/IR/data/dataset/No21.jpg\n",
            "Path :  /content/drive/My Drive/IR/data/dataset/No18.jpg\n",
            "Path :  /content/drive/My Drive/IR/data/dataset/no 6.jpg\n",
            "Path :  /content/drive/My Drive/IR/data/dataset/21 no.jpg\n",
            "Path :  /content/drive/My Drive/IR/data/dataset/13 no.jpg\n",
            "Path :  /content/drive/My Drive/IR/data/dataset/19 no.jpg\n",
            "Path :  /content/drive/My Drive/IR/data/dataset/3 no.jpg\n",
            "Path :  /content/drive/My Drive/IR/data/dataset/25 no.jpg\n",
            "Path :  /content/drive/My Drive/IR/data/dataset/No11.jpg\n",
            "Path :  /content/drive/My Drive/IR/data/dataset/34 no.jpg\n",
            "Path :  /content/drive/My Drive/IR/data/dataset/42 no.jpg\n",
            "Path :  /content/drive/My Drive/IR/data/dataset/no 100.jpg\n",
            "Path :  /content/drive/My Drive/IR/data/dataset/N15.jpg\n",
            "Path :  /content/drive/My Drive/IR/data/dataset/no 95.jpg\n"
          ]
        }
      ]
    },
    {
      "cell_type": "code",
      "source": [
        "import math\n",
        "import os\n",
        "\n",
        "from tensorflow.keras.preprocessing import image\n",
        "from tensorflow.keras.applications.vgg16 import VGG16, preprocess_input\n",
        "from tensorflow.keras.models import  Model\n",
        "\n",
        "from PIL import Image\n",
        "import pickle\n",
        "import numpy as np\n",
        "\n",
        "def image_preprocess(img):\n",
        "    img = img.resize((64,64))\n",
        "    img = img.convert(\"RGB\")\n",
        "    x = image.img_to_array(img)\n",
        "    x = np.expand_dims(x, axis=0)\n",
        "    x = preprocess_input(x)\n",
        "    return x\n",
        "\n",
        "def extract_vector(model, image_path):\n",
        "    print(\"Dataset : \", image_path)\n",
        "    img = Image.open(image_path)\n",
        "    img_tensor = image_preprocess(img)\n",
        "\n",
        "    vector = model.predict(img_tensor)[0]\n",
        "    vector = vector / np.linalg.norm(vector)\n",
        "    return vector\n",
        "\n",
        "search_image = \"/content/drive/My Drive/IR/data/test/no 10.jpg\"\n",
        "\n",
        "model = pemodelan_2\n",
        "\n",
        "search_vector = extract_vector(model, search_image)\n",
        "\n",
        "vectors = pickle.load(open(\"vectors.pkl\",\"rb\"))\n",
        "paths = pickle.load(open(\"paths.pkl\",\"rb\"))\n",
        "\n",
        "distance = np.linalg.norm(vectors - search_vector, axis=1)\n",
        "\n",
        "K = 16\n",
        "ids = np.argsort(distance)[:K]\n",
        "\n",
        "nearest_image = [(paths[id], distance[id]) for id in ids]\n",
        "\n",
        "import matplotlib.pyplot as plt\n",
        "\n",
        "axes = []\n",
        "grid_size = int(math.sqrt(K))\n",
        "fig = plt.figure(figsize=(10,5))\n",
        "\n",
        "\n",
        "for id in range(K):\n",
        "    draw_image = nearest_image[id]\n",
        "    axes.append(fig.add_subplot(grid_size, grid_size, id+1))\n",
        "\n",
        "    axes[-1].set_title(draw_image[1])\n",
        "    plt.imshow(Image.open(draw_image[0]))\n",
        "\n",
        "fig.tight_layout()\n",
        "plt.show()"
      ],
      "metadata": {
        "colab": {
          "base_uri": "https://localhost:8080/",
          "height": 387
        },
        "outputId": "5bd39234-a119-4b86-8566-2984aeca0f5c",
        "id": "4r4k-gdnV0lC"
      },
      "execution_count": null,
      "outputs": [
        {
          "output_type": "stream",
          "name": "stdout",
          "text": [
            "Dataset :  /content/drive/My Drive/IR/data/test/no 10.jpg\n"
          ]
        },
        {
          "output_type": "display_data",
          "data": {
            "image/png": "[encoded data removed]",
            "text/plain": [
              "<Figure size 720x360 with 16 Axes>"
            ]
          },
          "metadata": {
            "needs_background": "light"
          }
        }
      ]
    },
    {
      "cell_type": "markdown",
      "source": [
        "Model 3"
      ],
      "metadata": {
        "id": "B2ZiJlyKW0UZ"
      }
    },
    {
      "cell_type": "code",
      "source": [
        "from tensorflow.keras.models import Model\n",
        "from tensorflow.keras.layers import Dense, Flatten, Dropout, Input, GlobalAveragePooling2D, concatenate, BatchNormalization\n",
        "from tensorflow.keras.applications import MobileNetV2\n",
        "from tensorflow.keras.optimizers import Adam"
      ],
      "metadata": {
        "id": "u_loy3iZW2CI"
      },
      "execution_count": null,
      "outputs": []
    },
    {
      "cell_type": "code",
      "source": [
        "inputan = (64,64,3)\n",
        "input_model = Input(shape=inputan)\n",
        "\n",
        "mbn2= MobileNetV2(include_top=False, weights=\"imagenet\", input_shape=inputan)(input_model)\n",
        "\n",
        "def pemodelan3(m1):\n",
        "  model3 = concatenate([m1])\n",
        "  model3 = GlobalAveragePooling2D()(model3)\n",
        "  model3 = Flatten(name=\"flatten\")(model3)\n",
        "  model3 = Dense(2048, activation=\"relu\")(model3)\n",
        "  model3 = Dropout(0.25)(model3)\n",
        "  model3 = BatchNormalization()(model3)\n",
        "  model3 = Dense(1024, activation=\"relu\")(model3)\n",
        "  model3 = Dropout(0.25)(model3)\n",
        "  model3 = BatchNormalization()(model3)\n",
        "  model3 = Dense(2, activation=\"softmax\")(model3)\n",
        "\n",
        "  return model3"
      ],
      "metadata": {
        "colab": {
          "base_uri": "https://localhost:8080/"
        },
        "id": "RAsXvOgGW9Fo",
        "outputId": "65b2611b-08b2-4c36-9b20-417d765aa87f"
      },
      "execution_count": null,
      "outputs": [
        {
          "output_type": "stream",
          "name": "stdout",
          "text": [
            "WARNING:tensorflow:`input_shape` is undefined or non-square, or `rows` is not in [96, 128, 160, 192, 224]. Weights for input shape (224, 224) will be loaded as the default.\n",
            "Downloading data from https://storage.googleapis.com/tensorflow/keras-applications/mobilenet_v2/mobilenet_v2_weights_tf_dim_ordering_tf_kernels_1.0_224_no_top.h5\n",
            "9412608/9406464 [==============================] - 0s 0us/step\n",
            "9420800/9406464 [==============================] - 0s 0us/step\n"
          ]
        }
      ]
    },
    {
      "cell_type": "code",
      "source": [
        "model_3= pemodelan3(mbn2)\n",
        "pemodelan_3 = Model(inputs=input_model, outputs=model_3)\n",
        "pemodelan_3.summary()"
      ],
      "metadata": {
        "colab": {
          "base_uri": "https://localhost:8080/"
        },
        "id": "GsH-emIIZd-u",
        "outputId": "316c26a9-f843-443f-a70b-b1b225f243e6"
      },
      "execution_count": null,
      "outputs": [
        {
          "output_type": "stream",
          "name": "stdout",
          "text": [
            "Model: \"model_2\"\n",
            "_________________________________________________________________\n",
            " Layer (type)                Output Shape              Param #   \n",
            "=================================================================\n",
            " input_10 (InputLayer)       [(None, 64, 64, 3)]       0         \n",
            "                                                                 \n",
            " mobilenetv2_1.00_224 (Funct  (None, 2, 2, 1280)       2257984   \n",
            " ional)                                                          \n",
            "                                                                 \n",
            " concatenate_3 (Concatenate)  (None, 2, 2, 1280)       0         \n",
            "                                                                 \n",
            " global_average_pooling2d_1   (None, 1280)             0         \n",
            " (GlobalAveragePooling2D)                                        \n",
            "                                                                 \n",
            " flatten (Flatten)           (None, 1280)              0         \n",
            "                                                                 \n",
            " dense_6 (Dense)             (None, 2048)              2623488   \n",
            "                                                                 \n",
            " dropout_4 (Dropout)         (None, 2048)              0         \n",
            "                                                                 \n",
            " batch_normalization_2 (Batc  (None, 2048)             8192      \n",
            " hNormalization)                                                 \n",
            "                                                                 \n",
            " dense_7 (Dense)             (None, 1024)              2098176   \n",
            "                                                                 \n",
            " dropout_5 (Dropout)         (None, 1024)              0         \n",
            "                                                                 \n",
            " batch_normalization_3 (Batc  (None, 1024)             4096      \n",
            " hNormalization)                                                 \n",
            "                                                                 \n",
            " dense_8 (Dense)             (None, 2)                 2050      \n",
            "                                                                 \n",
            "=================================================================\n",
            "Total params: 6,993,986\n",
            "Trainable params: 6,953,730\n",
            "Non-trainable params: 40,256\n",
            "_________________________________________________________________\n"
          ]
        }
      ]
    },
    {
      "cell_type": "code",
      "source": [
        "mbn2.trainable = False"
      ],
      "metadata": {
        "id": "rIsfDza0YZVl"
      },
      "execution_count": null,
      "outputs": []
    },
    {
      "cell_type": "code",
      "source": [
        "import tensorflow as tf\n",
        "tensorboard=tf.keras.callbacks.TensorBoard(log_dir='./logs/aug')"
      ],
      "metadata": {
        "id": "07XIVEMaYckr"
      },
      "execution_count": null,
      "outputs": []
    },
    {
      "cell_type": "code",
      "source": [
        "%load_ext tensorboard"
      ],
      "metadata": {
        "colab": {
          "base_uri": "https://localhost:8080/"
        },
        "id": "eD2uGUJeYed7",
        "outputId": "69d0c70c-0dce-43bf-db38-c1b4927d7967"
      },
      "execution_count": null,
      "outputs": [
        {
          "output_type": "stream",
          "name": "stdout",
          "text": [
            "The tensorboard extension is already loaded. To reload it, use:\n",
            "  %reload_ext tensorboard\n"
          ]
        }
      ]
    },
    {
      "cell_type": "code",
      "source": [
        "!rm -rf ./logs/aug"
      ],
      "metadata": {
        "id": "lpwZsRwxYr0o"
      },
      "execution_count": null,
      "outputs": []
    },
    {
      "cell_type": "code",
      "source": [
        "from tensorflow.keras.callbacks import ModelCheckpoint, ReduceLROnPlateau\n",
        "def callback(path):\n",
        "  checkpoint_callback = ModelCheckpoint(path,\n",
        "                                      monitor='val_accuracy',\n",
        "                                      save_best_only=True,\n",
        "                                      verbose=1)\n",
        "  reduce_callback = ReduceLROnPlateau(monitor='val_accuracy', patience=3, factor=0.5, min_lr=0.0001, verbose=1)\n",
        "  callbacks_list = [checkpoint_callback, reduce_callback]\n",
        "  return callbacks_list"
      ],
      "metadata": {
        "id": "tcfUYomJYvCM"
      },
      "execution_count": null,
      "outputs": []
    },
    {
      "cell_type": "code",
      "source": [
        "best_model_path = 'model3.h5'\n",
        "cb=callback(best_model_path)"
      ],
      "metadata": {
        "id": "KS5JZObdYyF3"
      },
      "execution_count": null,
      "outputs": []
    },
    {
      "cell_type": "code",
      "source": [
        "learning_rate=0.0001\n",
        "pemodelan_3.compile(optimizer=Adam(lr=learning_rate), \n",
        "                    loss = keras.losses.CategoricalCrossentropy(),\n",
        "                    metrics = ['accuracy'])"
      ],
      "metadata": {
        "colab": {
          "base_uri": "https://localhost:8080/"
        },
        "id": "7mneK0LLY0rz",
        "outputId": "44136780-6907-4e08-f479-5ce66611c6f6"
      },
      "execution_count": null,
      "outputs": [
        {
          "output_type": "stream",
          "name": "stderr",
          "text": [
            "/usr/local/lib/python3.7/dist-packages/keras/optimizer_v2/adam.py:105: UserWarning: The `lr` argument is deprecated, use `learning_rate` instead.\n",
            "  super(Adam, self).__init__(name, **kwargs)\n"
          ]
        }
      ]
    },
    {
      "cell_type": "code",
      "source": [
        "history3 = pemodelan_3.fit(train_images,\n",
        "                    epochs=100,\n",
        "                    batch_size=128,\n",
        "                    validation_data=test_images,\n",
        "                    callbacks=[tensorboard,cb])"
      ],
      "metadata": {
        "colab": {
          "base_uri": "https://localhost:8080/"
        },
        "id": "Qvt4s5pCZpn7",
        "outputId": "efd04aa3-b8b5-45cb-d7ed-030c0c6b4e27"
      },
      "execution_count": null,
      "outputs": [
        {
          "output_type": "stream",
          "name": "stderr",
          "text": [
            "/usr/local/lib/python3.7/dist-packages/keras/engine/functional.py:1410: CustomMaskWarning: Custom mask layers require a config and must override get_config. When loading, the custom mask layer must be passed to the custom_objects argument.\n",
            "  layer_config = serialize_layer_fn(layer)\n"
          ]
        },
        {
          "output_type": "stream",
          "name": "stdout",
          "text": [
            "Epoch 1/100\n",
            "7/7 [==============================] - ETA: 0s - loss: 0.9597 - accuracy: 0.6029\n",
            "Epoch 00001: val_accuracy improved from -inf to 0.50000, saving model to model3.h5\n",
            "7/7 [==============================] - 11s 707ms/step - loss: 0.9597 - accuracy: 0.6029 - val_loss: 0.6686 - val_accuracy: 0.5000 - lr: 1.0000e-04\n",
            "Epoch 2/100\n",
            "7/7 [==============================] - ETA: 0s - loss: 0.7937 - accuracy: 0.6127\n",
            "Epoch 00002: val_accuracy did not improve from 0.50000\n",
            "7/7 [==============================] - 2s 227ms/step - loss: 0.7937 - accuracy: 0.6127 - val_loss: 0.8045 - val_accuracy: 0.5000 - lr: 1.0000e-04\n",
            "Epoch 3/100\n",
            "7/7 [==============================] - ETA: 0s - loss: 0.7348 - accuracy: 0.6373\n",
            "Epoch 00003: val_accuracy improved from 0.50000 to 0.52941, saving model to model3.h5\n",
            "7/7 [==============================] - 3s 424ms/step - loss: 0.7348 - accuracy: 0.6373 - val_loss: 0.7830 - val_accuracy: 0.5294 - lr: 1.0000e-04\n",
            "Epoch 4/100\n",
            "7/7 [==============================] - ETA: 0s - loss: 0.6924 - accuracy: 0.7108\n",
            "Epoch 00004: val_accuracy improved from 0.52941 to 0.55882, saving model to model3.h5\n",
            "7/7 [==============================] - 3s 429ms/step - loss: 0.6924 - accuracy: 0.7108 - val_loss: 0.6540 - val_accuracy: 0.5588 - lr: 1.0000e-04\n",
            "Epoch 5/100\n",
            "7/7 [==============================] - ETA: 0s - loss: 0.6374 - accuracy: 0.7206\n",
            "Epoch 00005: val_accuracy did not improve from 0.55882\n",
            "7/7 [==============================] - 2s 232ms/step - loss: 0.6374 - accuracy: 0.7206 - val_loss: 0.7027 - val_accuracy: 0.5000 - lr: 1.0000e-04\n",
            "Epoch 6/100\n",
            "7/7 [==============================] - ETA: 0s - loss: 0.8072 - accuracy: 0.6814\n",
            "Epoch 00006: val_accuracy did not improve from 0.55882\n",
            "7/7 [==============================] - 2s 220ms/step - loss: 0.8072 - accuracy: 0.6814 - val_loss: 0.8510 - val_accuracy: 0.5000 - lr: 1.0000e-04\n",
            "Epoch 7/100\n",
            "7/7 [==============================] - ETA: 0s - loss: 0.6360 - accuracy: 0.7059\n",
            "Epoch 00007: val_accuracy did not improve from 0.55882\n",
            "7/7 [==============================] - 2s 232ms/step - loss: 0.6360 - accuracy: 0.7059 - val_loss: 1.0623 - val_accuracy: 0.4706 - lr: 1.0000e-04\n",
            "Epoch 8/100\n",
            "7/7 [==============================] - ETA: 0s - loss: 0.6585 - accuracy: 0.7206\n",
            "Epoch 00008: val_accuracy did not improve from 0.55882\n",
            "7/7 [==============================] - 2s 226ms/step - loss: 0.6585 - accuracy: 0.7206 - val_loss: 1.1554 - val_accuracy: 0.4706 - lr: 1.0000e-04\n",
            "Epoch 9/100\n",
            "7/7 [==============================] - ETA: 0s - loss: 0.6396 - accuracy: 0.7451\n",
            "Epoch 00009: val_accuracy did not improve from 0.55882\n",
            "7/7 [==============================] - 2s 278ms/step - loss: 0.6396 - accuracy: 0.7451 - val_loss: 1.0441 - val_accuracy: 0.5000 - lr: 1.0000e-04\n",
            "Epoch 10/100\n",
            "7/7 [==============================] - ETA: 0s - loss: 0.5372 - accuracy: 0.7500\n",
            "Epoch 00010: val_accuracy did not improve from 0.55882\n",
            "7/7 [==============================] - 2s 281ms/step - loss: 0.5372 - accuracy: 0.7500 - val_loss: 1.0279 - val_accuracy: 0.5000 - lr: 1.0000e-04\n",
            "Epoch 11/100\n",
            "7/7 [==============================] - ETA: 0s - loss: 0.5064 - accuracy: 0.7647\n",
            "Epoch 00011: val_accuracy did not improve from 0.55882\n",
            "7/7 [==============================] - 2s 242ms/step - loss: 0.5064 - accuracy: 0.7647 - val_loss: 1.0045 - val_accuracy: 0.5000 - lr: 1.0000e-04\n",
            "Epoch 12/100\n",
            "7/7 [==============================] - ETA: 0s - loss: 0.6593 - accuracy: 0.7304\n",
            "Epoch 00012: val_accuracy did not improve from 0.55882\n",
            "7/7 [==============================] - 2s 229ms/step - loss: 0.6593 - accuracy: 0.7304 - val_loss: 0.9570 - val_accuracy: 0.5000 - lr: 1.0000e-04\n",
            "Epoch 13/100\n",
            "7/7 [==============================] - ETA: 0s - loss: 0.5986 - accuracy: 0.7402\n",
            "Epoch 00013: val_accuracy did not improve from 0.55882\n",
            "7/7 [==============================] - 2s 231ms/step - loss: 0.5986 - accuracy: 0.7402 - val_loss: 0.9315 - val_accuracy: 0.5000 - lr: 1.0000e-04\n",
            "Epoch 14/100\n",
            "7/7 [==============================] - ETA: 0s - loss: 0.6341 - accuracy: 0.7745\n",
            "Epoch 00014: val_accuracy did not improve from 0.55882\n",
            "7/7 [==============================] - 2s 254ms/step - loss: 0.6341 - accuracy: 0.7745 - val_loss: 0.8335 - val_accuracy: 0.5588 - lr: 1.0000e-04\n",
            "Epoch 15/100\n",
            "7/7 [==============================] - ETA: 0s - loss: 0.5332 - accuracy: 0.7990\n",
            "Epoch 00015: val_accuracy did not improve from 0.55882\n",
            "7/7 [==============================] - 2s 253ms/step - loss: 0.5332 - accuracy: 0.7990 - val_loss: 0.7635 - val_accuracy: 0.5588 - lr: 1.0000e-04\n",
            "Epoch 16/100\n",
            "7/7 [==============================] - ETA: 0s - loss: 0.4781 - accuracy: 0.8284\n",
            "Epoch 00016: val_accuracy improved from 0.55882 to 0.58824, saving model to model3.h5\n",
            "7/7 [==============================] - 4s 560ms/step - loss: 0.4781 - accuracy: 0.8284 - val_loss: 0.6467 - val_accuracy: 0.5882 - lr: 1.0000e-04\n",
            "Epoch 17/100\n",
            "7/7 [==============================] - ETA: 0s - loss: 0.5778 - accuracy: 0.7402\n",
            "Epoch 00017: val_accuracy improved from 0.58824 to 0.64706, saving model to model3.h5\n",
            "7/7 [==============================] - 3s 430ms/step - loss: 0.5778 - accuracy: 0.7402 - val_loss: 0.5817 - val_accuracy: 0.6471 - lr: 1.0000e-04\n",
            "Epoch 18/100\n",
            "7/7 [==============================] - ETA: 0s - loss: 0.6045 - accuracy: 0.7402\n",
            "Epoch 00018: val_accuracy improved from 0.64706 to 0.67647, saving model to model3.h5\n",
            "7/7 [==============================] - 3s 457ms/step - loss: 0.6045 - accuracy: 0.7402 - val_loss: 0.5538 - val_accuracy: 0.6765 - lr: 1.0000e-04\n",
            "Epoch 19/100\n",
            "7/7 [==============================] - ETA: 0s - loss: 0.3783 - accuracy: 0.8333\n",
            "Epoch 00019: val_accuracy did not improve from 0.67647\n",
            "7/7 [==============================] - 2s 264ms/step - loss: 0.3783 - accuracy: 0.8333 - val_loss: 0.5735 - val_accuracy: 0.6471 - lr: 1.0000e-04\n",
            "Epoch 20/100\n",
            "7/7 [==============================] - ETA: 0s - loss: 0.4808 - accuracy: 0.7794\n",
            "Epoch 00020: val_accuracy did not improve from 0.67647\n",
            "7/7 [==============================] - 2s 243ms/step - loss: 0.4808 - accuracy: 0.7794 - val_loss: 0.6182 - val_accuracy: 0.6765 - lr: 1.0000e-04\n",
            "Epoch 21/100\n",
            "7/7 [==============================] - ETA: 0s - loss: 0.5109 - accuracy: 0.7892\n",
            "Epoch 00021: val_accuracy did not improve from 0.67647\n",
            "7/7 [==============================] - 2s 235ms/step - loss: 0.5109 - accuracy: 0.7892 - val_loss: 0.7261 - val_accuracy: 0.5882 - lr: 1.0000e-04\n",
            "Epoch 22/100\n",
            "7/7 [==============================] - ETA: 0s - loss: 0.5187 - accuracy: 0.8137\n",
            "Epoch 00022: val_accuracy did not improve from 0.67647\n",
            "7/7 [==============================] - 2s 238ms/step - loss: 0.5187 - accuracy: 0.8137 - val_loss: 0.8123 - val_accuracy: 0.6176 - lr: 1.0000e-04\n",
            "Epoch 23/100\n",
            "7/7 [==============================] - ETA: 0s - loss: 0.4850 - accuracy: 0.7647\n",
            "Epoch 00023: val_accuracy did not improve from 0.67647\n",
            "7/7 [==============================] - 2s 290ms/step - loss: 0.4850 - accuracy: 0.7647 - val_loss: 0.8946 - val_accuracy: 0.6176 - lr: 1.0000e-04\n",
            "Epoch 24/100\n",
            "7/7 [==============================] - ETA: 0s - loss: 0.5431 - accuracy: 0.7990\n",
            "Epoch 00024: val_accuracy did not improve from 0.67647\n",
            "7/7 [==============================] - 2s 265ms/step - loss: 0.5431 - accuracy: 0.7990 - val_loss: 0.9599 - val_accuracy: 0.6176 - lr: 1.0000e-04\n",
            "Epoch 25/100\n",
            "7/7 [==============================] - ETA: 0s - loss: 0.4749 - accuracy: 0.8333\n",
            "Epoch 00025: val_accuracy did not improve from 0.67647\n",
            "7/7 [==============================] - 2s 236ms/step - loss: 0.4749 - accuracy: 0.8333 - val_loss: 1.1295 - val_accuracy: 0.6176 - lr: 1.0000e-04\n",
            "Epoch 26/100\n",
            "7/7 [==============================] - ETA: 0s - loss: 0.5904 - accuracy: 0.7500\n",
            "Epoch 00026: val_accuracy did not improve from 0.67647\n",
            "7/7 [==============================] - 2s 231ms/step - loss: 0.5904 - accuracy: 0.7500 - val_loss: 1.2980 - val_accuracy: 0.5882 - lr: 1.0000e-04\n",
            "Epoch 27/100\n",
            "7/7 [==============================] - ETA: 0s - loss: 0.4255 - accuracy: 0.8333\n",
            "Epoch 00027: val_accuracy did not improve from 0.67647\n",
            "7/7 [==============================] - 2s 254ms/step - loss: 0.4255 - accuracy: 0.8333 - val_loss: 1.3606 - val_accuracy: 0.5882 - lr: 1.0000e-04\n",
            "Epoch 28/100\n",
            "7/7 [==============================] - ETA: 0s - loss: 0.5846 - accuracy: 0.7892\n",
            "Epoch 00028: val_accuracy did not improve from 0.67647\n",
            "7/7 [==============================] - 2s 235ms/step - loss: 0.5846 - accuracy: 0.7892 - val_loss: 1.3076 - val_accuracy: 0.5882 - lr: 1.0000e-04\n",
            "Epoch 29/100\n",
            "7/7 [==============================] - ETA: 0s - loss: 0.3852 - accuracy: 0.8137\n",
            "Epoch 00029: val_accuracy did not improve from 0.67647\n",
            "7/7 [==============================] - 2s 232ms/step - loss: 0.3852 - accuracy: 0.8137 - val_loss: 1.4082 - val_accuracy: 0.5588 - lr: 1.0000e-04\n",
            "Epoch 30/100\n",
            "7/7 [==============================] - ETA: 0s - loss: 0.4095 - accuracy: 0.8480\n",
            "Epoch 00030: val_accuracy did not improve from 0.67647\n",
            "7/7 [==============================] - 2s 231ms/step - loss: 0.4095 - accuracy: 0.8480 - val_loss: 1.2761 - val_accuracy: 0.5588 - lr: 1.0000e-04\n",
            "Epoch 31/100\n",
            "7/7 [==============================] - ETA: 0s - loss: 0.5046 - accuracy: 0.8039\n",
            "Epoch 00031: val_accuracy did not improve from 0.67647\n",
            "7/7 [==============================] - 2s 238ms/step - loss: 0.5046 - accuracy: 0.8039 - val_loss: 1.0118 - val_accuracy: 0.6471 - lr: 1.0000e-04\n",
            "Epoch 32/100\n",
            "7/7 [==============================] - ETA: 0s - loss: 0.4827 - accuracy: 0.7941\n",
            "Epoch 00032: val_accuracy improved from 0.67647 to 0.70588, saving model to model3.h5\n",
            "7/7 [==============================] - 4s 565ms/step - loss: 0.4827 - accuracy: 0.7941 - val_loss: 0.8844 - val_accuracy: 0.7059 - lr: 1.0000e-04\n",
            "Epoch 33/100\n",
            "7/7 [==============================] - ETA: 0s - loss: 0.5863 - accuracy: 0.7696\n",
            "Epoch 00033: val_accuracy did not improve from 0.70588\n",
            "7/7 [==============================] - 2s 225ms/step - loss: 0.5863 - accuracy: 0.7696 - val_loss: 0.7154 - val_accuracy: 0.7059 - lr: 1.0000e-04\n",
            "Epoch 34/100\n",
            "7/7 [==============================] - ETA: 0s - loss: 0.3836 - accuracy: 0.8529\n",
            "Epoch 00034: val_accuracy did not improve from 0.70588\n",
            "7/7 [==============================] - 2s 234ms/step - loss: 0.3836 - accuracy: 0.8529 - val_loss: 0.6264 - val_accuracy: 0.7059 - lr: 1.0000e-04\n",
            "Epoch 35/100\n",
            "7/7 [==============================] - ETA: 0s - loss: 0.3590 - accuracy: 0.8529\n",
            "Epoch 00035: val_accuracy improved from 0.70588 to 0.73529, saving model to model3.h5\n",
            "7/7 [==============================] - 3s 431ms/step - loss: 0.3590 - accuracy: 0.8529 - val_loss: 0.6007 - val_accuracy: 0.7353 - lr: 1.0000e-04\n",
            "Epoch 36/100\n",
            "7/7 [==============================] - ETA: 0s - loss: 0.4353 - accuracy: 0.8431\n",
            "Epoch 00036: val_accuracy did not improve from 0.73529\n",
            "7/7 [==============================] - 2s 230ms/step - loss: 0.4353 - accuracy: 0.8431 - val_loss: 0.6374 - val_accuracy: 0.7059 - lr: 1.0000e-04\n",
            "Epoch 37/100\n",
            "7/7 [==============================] - ETA: 0s - loss: 0.4422 - accuracy: 0.8186\n",
            "Epoch 00037: val_accuracy did not improve from 0.73529\n",
            "7/7 [==============================] - 2s 233ms/step - loss: 0.4422 - accuracy: 0.8186 - val_loss: 0.8361 - val_accuracy: 0.7353 - lr: 1.0000e-04\n",
            "Epoch 38/100\n",
            "7/7 [==============================] - ETA: 0s - loss: 0.5138 - accuracy: 0.7745\n",
            "Epoch 00038: val_accuracy did not improve from 0.73529\n",
            "7/7 [==============================] - 2s 224ms/step - loss: 0.5138 - accuracy: 0.7745 - val_loss: 0.9364 - val_accuracy: 0.7059 - lr: 1.0000e-04\n",
            "Epoch 39/100\n",
            "7/7 [==============================] - ETA: 0s - loss: 0.4855 - accuracy: 0.8382\n",
            "Epoch 00039: val_accuracy did not improve from 0.73529\n",
            "7/7 [==============================] - 2s 251ms/step - loss: 0.4855 - accuracy: 0.8382 - val_loss: 0.9390 - val_accuracy: 0.6471 - lr: 1.0000e-04\n",
            "Epoch 40/100\n",
            "7/7 [==============================] - ETA: 0s - loss: 0.3939 - accuracy: 0.8529\n",
            "Epoch 00040: val_accuracy did not improve from 0.73529\n",
            "7/7 [==============================] - 2s 233ms/step - loss: 0.3939 - accuracy: 0.8529 - val_loss: 1.0071 - val_accuracy: 0.6471 - lr: 1.0000e-04\n",
            "Epoch 41/100\n",
            "7/7 [==============================] - ETA: 0s - loss: 0.3474 - accuracy: 0.8431\n",
            "Epoch 00041: val_accuracy did not improve from 0.73529\n",
            "7/7 [==============================] - 2s 267ms/step - loss: 0.3474 - accuracy: 0.8431 - val_loss: 1.1056 - val_accuracy: 0.6471 - lr: 1.0000e-04\n",
            "Epoch 42/100\n",
            "7/7 [==============================] - ETA: 0s - loss: 0.4595 - accuracy: 0.8627\n",
            "Epoch 00042: val_accuracy did not improve from 0.73529\n",
            "7/7 [==============================] - 2s 234ms/step - loss: 0.4595 - accuracy: 0.8627 - val_loss: 1.2606 - val_accuracy: 0.6176 - lr: 1.0000e-04\n",
            "Epoch 43/100\n",
            "7/7 [==============================] - ETA: 0s - loss: 0.5111 - accuracy: 0.8186\n",
            "Epoch 00043: val_accuracy did not improve from 0.73529\n",
            "7/7 [==============================] - 2s 233ms/step - loss: 0.5111 - accuracy: 0.8186 - val_loss: 1.4005 - val_accuracy: 0.5294 - lr: 1.0000e-04\n",
            "Epoch 44/100\n",
            "7/7 [==============================] - ETA: 0s - loss: 0.3879 - accuracy: 0.8578\n",
            "Epoch 00044: val_accuracy did not improve from 0.73529\n",
            "7/7 [==============================] - 2s 234ms/step - loss: 0.3879 - accuracy: 0.8578 - val_loss: 1.2972 - val_accuracy: 0.5294 - lr: 1.0000e-04\n",
            "Epoch 45/100\n",
            "7/7 [==============================] - ETA: 0s - loss: 0.4936 - accuracy: 0.8088\n",
            "Epoch 00045: val_accuracy did not improve from 0.73529\n",
            "7/7 [==============================] - 2s 254ms/step - loss: 0.4936 - accuracy: 0.8088 - val_loss: 1.0907 - val_accuracy: 0.6765 - lr: 1.0000e-04\n",
            "Epoch 46/100\n",
            "7/7 [==============================] - ETA: 0s - loss: 0.4680 - accuracy: 0.8382\n",
            "Epoch 00046: val_accuracy did not improve from 0.73529\n",
            "7/7 [==============================] - 2s 234ms/step - loss: 0.4680 - accuracy: 0.8382 - val_loss: 1.0574 - val_accuracy: 0.6471 - lr: 1.0000e-04\n",
            "Epoch 47/100\n",
            "7/7 [==============================] - ETA: 0s - loss: 0.5812 - accuracy: 0.8137\n",
            "Epoch 00047: val_accuracy did not improve from 0.73529\n",
            "7/7 [==============================] - 2s 233ms/step - loss: 0.5812 - accuracy: 0.8137 - val_loss: 0.9399 - val_accuracy: 0.6765 - lr: 1.0000e-04\n",
            "Epoch 48/100\n",
            "7/7 [==============================] - ETA: 0s - loss: 0.5477 - accuracy: 0.8088\n",
            "Epoch 00048: val_accuracy did not improve from 0.73529\n",
            "7/7 [==============================] - 2s 229ms/step - loss: 0.5477 - accuracy: 0.8088 - val_loss: 0.6634 - val_accuracy: 0.7059 - lr: 1.0000e-04\n",
            "Epoch 49/100\n",
            "7/7 [==============================] - ETA: 0s - loss: 0.4871 - accuracy: 0.8235\n",
            "Epoch 00049: val_accuracy did not improve from 0.73529\n",
            "7/7 [==============================] - 2s 236ms/step - loss: 0.4871 - accuracy: 0.8235 - val_loss: 0.6893 - val_accuracy: 0.7353 - lr: 1.0000e-04\n",
            "Epoch 50/100\n",
            "7/7 [==============================] - ETA: 0s - loss: 0.4132 - accuracy: 0.8186\n",
            "Epoch 00050: val_accuracy did not improve from 0.73529\n",
            "7/7 [==============================] - 2s 240ms/step - loss: 0.4132 - accuracy: 0.8186 - val_loss: 0.8635 - val_accuracy: 0.6471 - lr: 1.0000e-04\n",
            "Epoch 51/100\n",
            "7/7 [==============================] - ETA: 0s - loss: 0.3445 - accuracy: 0.8824\n",
            "Epoch 00051: val_accuracy did not improve from 0.73529\n",
            "7/7 [==============================] - 2s 230ms/step - loss: 0.3445 - accuracy: 0.8824 - val_loss: 0.9598 - val_accuracy: 0.5882 - lr: 1.0000e-04\n",
            "Epoch 52/100\n",
            "7/7 [==============================] - ETA: 0s - loss: 0.4086 - accuracy: 0.8333\n",
            "Epoch 00052: val_accuracy did not improve from 0.73529\n",
            "7/7 [==============================] - 2s 230ms/step - loss: 0.4086 - accuracy: 0.8333 - val_loss: 1.0872 - val_accuracy: 0.5882 - lr: 1.0000e-04\n",
            "Epoch 53/100\n",
            "7/7 [==============================] - ETA: 0s - loss: 0.3055 - accuracy: 0.8676\n",
            "Epoch 00053: val_accuracy did not improve from 0.73529\n",
            "7/7 [==============================] - 2s 245ms/step - loss: 0.3055 - accuracy: 0.8676 - val_loss: 1.2545 - val_accuracy: 0.5882 - lr: 1.0000e-04\n",
            "Epoch 54/100\n",
            "7/7 [==============================] - ETA: 0s - loss: 0.3600 - accuracy: 0.8480\n",
            "Epoch 00054: val_accuracy did not improve from 0.73529\n",
            "7/7 [==============================] - 2s 255ms/step - loss: 0.3600 - accuracy: 0.8480 - val_loss: 1.3659 - val_accuracy: 0.5882 - lr: 1.0000e-04\n",
            "Epoch 55/100\n",
            "7/7 [==============================] - ETA: 0s - loss: 0.3761 - accuracy: 0.8333\n",
            "Epoch 00055: val_accuracy did not improve from 0.73529\n",
            "7/7 [==============================] - 2s 237ms/step - loss: 0.3761 - accuracy: 0.8333 - val_loss: 1.5912 - val_accuracy: 0.5882 - lr: 1.0000e-04\n",
            "Epoch 56/100\n",
            "7/7 [==============================] - ETA: 0s - loss: 0.3265 - accuracy: 0.8676\n",
            "Epoch 00056: val_accuracy did not improve from 0.73529\n",
            "7/7 [==============================] - 2s 233ms/step - loss: 0.3265 - accuracy: 0.8676 - val_loss: 1.8673 - val_accuracy: 0.5882 - lr: 1.0000e-04\n",
            "Epoch 57/100\n",
            "7/7 [==============================] - ETA: 0s - loss: 0.3794 - accuracy: 0.8480\n",
            "Epoch 00057: val_accuracy did not improve from 0.73529\n",
            "7/7 [==============================] - 2s 223ms/step - loss: 0.3794 - accuracy: 0.8480 - val_loss: 1.9565 - val_accuracy: 0.5882 - lr: 1.0000e-04\n",
            "Epoch 58/100\n",
            "7/7 [==============================] - ETA: 0s - loss: 0.3458 - accuracy: 0.8627\n",
            "Epoch 00058: val_accuracy did not improve from 0.73529\n",
            "7/7 [==============================] - 2s 226ms/step - loss: 0.3458 - accuracy: 0.8627 - val_loss: 1.7669 - val_accuracy: 0.6176 - lr: 1.0000e-04\n",
            "Epoch 59/100\n",
            "7/7 [==============================] - ETA: 0s - loss: 0.4180 - accuracy: 0.8431\n",
            "Epoch 00059: val_accuracy did not improve from 0.73529\n",
            "7/7 [==============================] - 2s 234ms/step - loss: 0.4180 - accuracy: 0.8431 - val_loss: 1.5668 - val_accuracy: 0.6471 - lr: 1.0000e-04\n",
            "Epoch 60/100\n",
            "7/7 [==============================] - ETA: 0s - loss: 0.3562 - accuracy: 0.8578\n",
            "Epoch 00060: val_accuracy did not improve from 0.73529\n",
            "7/7 [==============================] - 2s 228ms/step - loss: 0.3562 - accuracy: 0.8578 - val_loss: 1.4298 - val_accuracy: 0.6471 - lr: 1.0000e-04\n",
            "Epoch 61/100\n",
            "7/7 [==============================] - ETA: 0s - loss: 0.4753 - accuracy: 0.8284\n",
            "Epoch 00061: val_accuracy did not improve from 0.73529\n",
            "7/7 [==============================] - 2s 239ms/step - loss: 0.4753 - accuracy: 0.8284 - val_loss: 1.3241 - val_accuracy: 0.6471 - lr: 1.0000e-04\n",
            "Epoch 62/100\n",
            "7/7 [==============================] - ETA: 0s - loss: 0.3488 - accuracy: 0.8676\n",
            "Epoch 00062: val_accuracy did not improve from 0.73529\n",
            "7/7 [==============================] - 2s 237ms/step - loss: 0.3488 - accuracy: 0.8676 - val_loss: 1.2865 - val_accuracy: 0.6176 - lr: 1.0000e-04\n",
            "Epoch 63/100\n",
            "7/7 [==============================] - ETA: 0s - loss: 0.4001 - accuracy: 0.8627\n",
            "Epoch 00063: val_accuracy did not improve from 0.73529\n",
            "7/7 [==============================] - 2s 238ms/step - loss: 0.4001 - accuracy: 0.8627 - val_loss: 1.3255 - val_accuracy: 0.6176 - lr: 1.0000e-04\n",
            "Epoch 64/100\n",
            "7/7 [==============================] - ETA: 0s - loss: 0.2944 - accuracy: 0.8873\n",
            "Epoch 00064: val_accuracy did not improve from 0.73529\n",
            "7/7 [==============================] - 2s 227ms/step - loss: 0.2944 - accuracy: 0.8873 - val_loss: 1.2796 - val_accuracy: 0.6176 - lr: 1.0000e-04\n",
            "Epoch 65/100\n",
            "7/7 [==============================] - ETA: 0s - loss: 0.3821 - accuracy: 0.8578\n",
            "Epoch 00065: val_accuracy did not improve from 0.73529\n",
            "7/7 [==============================] - 2s 234ms/step - loss: 0.3821 - accuracy: 0.8578 - val_loss: 1.0312 - val_accuracy: 0.6471 - lr: 1.0000e-04\n",
            "Epoch 66/100\n",
            "7/7 [==============================] - ETA: 0s - loss: 0.3685 - accuracy: 0.8480\n",
            "Epoch 00066: val_accuracy did not improve from 0.73529\n",
            "7/7 [==============================] - 2s 238ms/step - loss: 0.3685 - accuracy: 0.8480 - val_loss: 0.9416 - val_accuracy: 0.7059 - lr: 1.0000e-04\n",
            "Epoch 67/100\n",
            "7/7 [==============================] - ETA: 0s - loss: 0.3960 - accuracy: 0.8480\n",
            "Epoch 00067: val_accuracy did not improve from 0.73529\n",
            "7/7 [==============================] - 2s 231ms/step - loss: 0.3960 - accuracy: 0.8480 - val_loss: 1.1286 - val_accuracy: 0.6765 - lr: 1.0000e-04\n",
            "Epoch 68/100\n",
            "7/7 [==============================] - ETA: 0s - loss: 0.3806 - accuracy: 0.8824\n",
            "Epoch 00068: val_accuracy did not improve from 0.73529\n",
            "7/7 [==============================] - 2s 241ms/step - loss: 0.3806 - accuracy: 0.8824 - val_loss: 1.2749 - val_accuracy: 0.6471 - lr: 1.0000e-04\n",
            "Epoch 69/100\n",
            "7/7 [==============================] - ETA: 0s - loss: 0.2583 - accuracy: 0.9020\n",
            "Epoch 00069: val_accuracy did not improve from 0.73529\n",
            "7/7 [==============================] - 2s 227ms/step - loss: 0.2583 - accuracy: 0.9020 - val_loss: 1.3868 - val_accuracy: 0.6176 - lr: 1.0000e-04\n",
            "Epoch 70/100\n",
            "7/7 [==============================] - ETA: 0s - loss: 0.2743 - accuracy: 0.8922\n",
            "Epoch 00070: val_accuracy did not improve from 0.73529\n",
            "7/7 [==============================] - 2s 253ms/step - loss: 0.2743 - accuracy: 0.8922 - val_loss: 1.6533 - val_accuracy: 0.6176 - lr: 1.0000e-04\n",
            "Epoch 71/100\n",
            "7/7 [==============================] - ETA: 0s - loss: 0.3372 - accuracy: 0.8824\n",
            "Epoch 00071: val_accuracy did not improve from 0.73529\n",
            "7/7 [==============================] - 2s 269ms/step - loss: 0.3372 - accuracy: 0.8824 - val_loss: 1.6301 - val_accuracy: 0.6176 - lr: 1.0000e-04\n",
            "Epoch 72/100\n",
            "7/7 [==============================] - ETA: 0s - loss: 0.2891 - accuracy: 0.9118\n",
            "Epoch 00072: val_accuracy did not improve from 0.73529\n",
            "7/7 [==============================] - 2s 266ms/step - loss: 0.2891 - accuracy: 0.9118 - val_loss: 1.3237 - val_accuracy: 0.6765 - lr: 1.0000e-04\n",
            "Epoch 73/100\n",
            "7/7 [==============================] - ETA: 0s - loss: 0.2481 - accuracy: 0.9069\n",
            "Epoch 00073: val_accuracy did not improve from 0.73529\n",
            "7/7 [==============================] - 2s 244ms/step - loss: 0.2481 - accuracy: 0.9069 - val_loss: 1.2683 - val_accuracy: 0.7059 - lr: 1.0000e-04\n",
            "Epoch 74/100\n",
            "7/7 [==============================] - ETA: 0s - loss: 0.3710 - accuracy: 0.8284\n",
            "Epoch 00074: val_accuracy did not improve from 0.73529\n",
            "7/7 [==============================] - 2s 236ms/step - loss: 0.3710 - accuracy: 0.8284 - val_loss: 1.1591 - val_accuracy: 0.7059 - lr: 1.0000e-04\n",
            "Epoch 75/100\n",
            "7/7 [==============================] - ETA: 0s - loss: 0.3808 - accuracy: 0.8480\n",
            "Epoch 00075: val_accuracy did not improve from 0.73529\n",
            "7/7 [==============================] - 2s 236ms/step - loss: 0.3808 - accuracy: 0.8480 - val_loss: 1.1768 - val_accuracy: 0.6765 - lr: 1.0000e-04\n",
            "Epoch 76/100\n",
            "7/7 [==============================] - ETA: 0s - loss: 0.3080 - accuracy: 0.8627\n",
            "Epoch 00076: val_accuracy did not improve from 0.73529\n",
            "7/7 [==============================] - 2s 235ms/step - loss: 0.3080 - accuracy: 0.8627 - val_loss: 1.2942 - val_accuracy: 0.6765 - lr: 1.0000e-04\n",
            "Epoch 77/100\n",
            "7/7 [==============================] - ETA: 0s - loss: 0.2917 - accuracy: 0.8775\n",
            "Epoch 00077: val_accuracy did not improve from 0.73529\n",
            "7/7 [==============================] - 2s 260ms/step - loss: 0.2917 - accuracy: 0.8775 - val_loss: 1.3038 - val_accuracy: 0.6765 - lr: 1.0000e-04\n",
            "Epoch 78/100\n",
            "7/7 [==============================] - ETA: 0s - loss: 0.3275 - accuracy: 0.8824\n",
            "Epoch 00078: val_accuracy did not improve from 0.73529\n",
            "7/7 [==============================] - 2s 236ms/step - loss: 0.3275 - accuracy: 0.8824 - val_loss: 1.4299 - val_accuracy: 0.6471 - lr: 1.0000e-04\n",
            "Epoch 79/100\n",
            "7/7 [==============================] - ETA: 0s - loss: 0.3037 - accuracy: 0.8775\n",
            "Epoch 00079: val_accuracy did not improve from 0.73529\n",
            "7/7 [==============================] - 2s 237ms/step - loss: 0.3037 - accuracy: 0.8775 - val_loss: 1.4764 - val_accuracy: 0.6765 - lr: 1.0000e-04\n",
            "Epoch 80/100\n",
            "7/7 [==============================] - ETA: 0s - loss: 0.3413 - accuracy: 0.8529\n",
            "Epoch 00080: val_accuracy did not improve from 0.73529\n",
            "7/7 [==============================] - 2s 259ms/step - loss: 0.3413 - accuracy: 0.8529 - val_loss: 1.4959 - val_accuracy: 0.6765 - lr: 1.0000e-04\n",
            "Epoch 81/100\n",
            "7/7 [==============================] - ETA: 0s - loss: 0.3115 - accuracy: 0.8676\n",
            "Epoch 00081: val_accuracy did not improve from 0.73529\n",
            "7/7 [==============================] - 2s 239ms/step - loss: 0.3115 - accuracy: 0.8676 - val_loss: 1.5822 - val_accuracy: 0.6765 - lr: 1.0000e-04\n",
            "Epoch 82/100\n",
            "7/7 [==============================] - ETA: 0s - loss: 0.3296 - accuracy: 0.8725\n",
            "Epoch 00082: val_accuracy did not improve from 0.73529\n",
            "7/7 [==============================] - 2s 240ms/step - loss: 0.3296 - accuracy: 0.8725 - val_loss: 1.7321 - val_accuracy: 0.6471 - lr: 1.0000e-04\n",
            "Epoch 83/100\n",
            "7/7 [==============================] - ETA: 0s - loss: 0.2985 - accuracy: 0.9020\n",
            "Epoch 00083: val_accuracy did not improve from 0.73529\n",
            "7/7 [==============================] - 2s 234ms/step - loss: 0.2985 - accuracy: 0.9020 - val_loss: 1.8435 - val_accuracy: 0.6471 - lr: 1.0000e-04\n",
            "Epoch 84/100\n",
            "7/7 [==============================] - ETA: 0s - loss: 0.3053 - accuracy: 0.8873\n",
            "Epoch 00084: val_accuracy did not improve from 0.73529\n",
            "7/7 [==============================] - 2s 237ms/step - loss: 0.3053 - accuracy: 0.8873 - val_loss: 1.7081 - val_accuracy: 0.6765 - lr: 1.0000e-04\n",
            "Epoch 85/100\n",
            "7/7 [==============================] - ETA: 0s - loss: 0.3397 - accuracy: 0.8725\n",
            "Epoch 00085: val_accuracy did not improve from 0.73529\n",
            "7/7 [==============================] - 2s 230ms/step - loss: 0.3397 - accuracy: 0.8725 - val_loss: 1.7442 - val_accuracy: 0.6471 - lr: 1.0000e-04\n",
            "Epoch 86/100\n",
            "7/7 [==============================] - ETA: 0s - loss: 0.3593 - accuracy: 0.8627\n",
            "Epoch 00086: val_accuracy did not improve from 0.73529\n",
            "7/7 [==============================] - 2s 235ms/step - loss: 0.3593 - accuracy: 0.8627 - val_loss: 1.7073 - val_accuracy: 0.6765 - lr: 1.0000e-04\n",
            "Epoch 87/100\n",
            "7/7 [==============================] - ETA: 0s - loss: 0.3361 - accuracy: 0.8578\n",
            "Epoch 00087: val_accuracy did not improve from 0.73529\n",
            "7/7 [==============================] - 2s 260ms/step - loss: 0.3361 - accuracy: 0.8578 - val_loss: 1.6638 - val_accuracy: 0.6765 - lr: 1.0000e-04\n",
            "Epoch 88/100\n",
            "7/7 [==============================] - ETA: 0s - loss: 0.2704 - accuracy: 0.8824\n",
            "Epoch 00088: val_accuracy did not improve from 0.73529\n",
            "7/7 [==============================] - 2s 236ms/step - loss: 0.2704 - accuracy: 0.8824 - val_loss: 1.6700 - val_accuracy: 0.6765 - lr: 1.0000e-04\n",
            "Epoch 89/100\n",
            "7/7 [==============================] - ETA: 0s - loss: 0.3591 - accuracy: 0.8529\n",
            "Epoch 00089: val_accuracy did not improve from 0.73529\n",
            "7/7 [==============================] - 2s 236ms/step - loss: 0.3591 - accuracy: 0.8529 - val_loss: 1.6820 - val_accuracy: 0.6765 - lr: 1.0000e-04\n",
            "Epoch 90/100\n",
            "7/7 [==============================] - ETA: 0s - loss: 0.2852 - accuracy: 0.8971\n",
            "Epoch 00090: val_accuracy did not improve from 0.73529\n",
            "7/7 [==============================] - 2s 236ms/step - loss: 0.2852 - accuracy: 0.8971 - val_loss: 1.6048 - val_accuracy: 0.6765 - lr: 1.0000e-04\n",
            "Epoch 91/100\n",
            "7/7 [==============================] - ETA: 0s - loss: 0.3336 - accuracy: 0.8725\n",
            "Epoch 00091: val_accuracy did not improve from 0.73529\n",
            "7/7 [==============================] - 2s 240ms/step - loss: 0.3336 - accuracy: 0.8725 - val_loss: 1.6445 - val_accuracy: 0.6765 - lr: 1.0000e-04\n",
            "Epoch 92/100\n",
            "7/7 [==============================] - ETA: 0s - loss: 0.2903 - accuracy: 0.8873\n",
            "Epoch 00092: val_accuracy did not improve from 0.73529\n",
            "7/7 [==============================] - 2s 236ms/step - loss: 0.2903 - accuracy: 0.8873 - val_loss: 1.7500 - val_accuracy: 0.6765 - lr: 1.0000e-04\n",
            "Epoch 93/100\n",
            "7/7 [==============================] - ETA: 0s - loss: 0.3572 - accuracy: 0.8529\n",
            "Epoch 00093: val_accuracy did not improve from 0.73529\n",
            "7/7 [==============================] - 2s 237ms/step - loss: 0.3572 - accuracy: 0.8529 - val_loss: 1.7887 - val_accuracy: 0.6765 - lr: 1.0000e-04\n",
            "Epoch 94/100\n",
            "7/7 [==============================] - ETA: 0s - loss: 0.2548 - accuracy: 0.8873\n",
            "Epoch 00094: val_accuracy did not improve from 0.73529\n",
            "7/7 [==============================] - 2s 242ms/step - loss: 0.2548 - accuracy: 0.8873 - val_loss: 1.8744 - val_accuracy: 0.6471 - lr: 1.0000e-04\n",
            "Epoch 95/100\n",
            "7/7 [==============================] - ETA: 0s - loss: 0.2864 - accuracy: 0.8824\n",
            "Epoch 00095: val_accuracy did not improve from 0.73529\n",
            "7/7 [==============================] - 2s 239ms/step - loss: 0.2864 - accuracy: 0.8824 - val_loss: 2.0620 - val_accuracy: 0.6176 - lr: 1.0000e-04\n",
            "Epoch 96/100\n",
            "7/7 [==============================] - ETA: 0s - loss: 0.2228 - accuracy: 0.9020\n",
            "Epoch 00096: val_accuracy did not improve from 0.73529\n",
            "7/7 [==============================] - 2s 235ms/step - loss: 0.2228 - accuracy: 0.9020 - val_loss: 2.0771 - val_accuracy: 0.6176 - lr: 1.0000e-04\n",
            "Epoch 97/100\n",
            "7/7 [==============================] - ETA: 0s - loss: 0.3177 - accuracy: 0.8529\n",
            "Epoch 00097: val_accuracy did not improve from 0.73529\n",
            "7/7 [==============================] - 2s 233ms/step - loss: 0.3177 - accuracy: 0.8529 - val_loss: 2.1968 - val_accuracy: 0.6176 - lr: 1.0000e-04\n",
            "Epoch 98/100\n",
            "7/7 [==============================] - ETA: 0s - loss: 0.2547 - accuracy: 0.9118\n",
            "Epoch 00098: val_accuracy did not improve from 0.73529\n",
            "7/7 [==============================] - 2s 237ms/step - loss: 0.2547 - accuracy: 0.9118 - val_loss: 2.1767 - val_accuracy: 0.6176 - lr: 1.0000e-04\n",
            "Epoch 99/100\n",
            "7/7 [==============================] - ETA: 0s - loss: 0.3127 - accuracy: 0.8480\n",
            "Epoch 00099: val_accuracy did not improve from 0.73529\n",
            "7/7 [==============================] - 2s 231ms/step - loss: 0.3127 - accuracy: 0.8480 - val_loss: 2.1430 - val_accuracy: 0.6471 - lr: 1.0000e-04\n",
            "Epoch 100/100\n",
            "7/7 [==============================] - ETA: 0s - loss: 0.2933 - accuracy: 0.8775\n",
            "Epoch 00100: val_accuracy did not improve from 0.73529\n",
            "7/7 [==============================] - 2s 226ms/step - loss: 0.2933 - accuracy: 0.8775 - val_loss: 2.1017 - val_accuracy: 0.6471 - lr: 1.0000e-04\n"
          ]
        }
      ]
    },
    {
      "cell_type": "code",
      "source": [
        "pemodelan_3.evaluate(test_images)"
      ],
      "metadata": {
        "colab": {
          "base_uri": "https://localhost:8080/"
        },
        "outputId": "a62405cd-f387-460b-a99f-c0aaf6d3f551",
        "id": "Nc4Tuzj-Z3RH"
      },
      "execution_count": null,
      "outputs": [
        {
          "output_type": "stream",
          "name": "stdout",
          "text": [
            "2/2 [==============================] - 0s 20ms/step - loss: 2.1017 - accuracy: 0.6471\n"
          ]
        },
        {
          "output_type": "execute_result",
          "data": {
            "text/plain": [
              "[2.101724147796631, 0.6470588445663452]"
            ]
          },
          "metadata": {},
          "execution_count": 140
        }
      ]
    },
    {
      "cell_type": "code",
      "source": [
        "plt.plot(history3.history[\"accuracy\"] , 'ro-' , label = \"Training Accuracy\")\n",
        "plt.plot(history3.history[\"val_accuracy\"] , 'go-' , label = \"Testing Accuracy\")\n",
        "plt.legend()\n",
        "plt.show()"
      ],
      "metadata": {
        "colab": {
          "base_uri": "https://localhost:8080/",
          "height": 265
        },
        "outputId": "346d2c86-2223-45a0-bb49-99e1398344c0",
        "id": "Pg7nFT1KZ3RH"
      },
      "execution_count": null,
      "outputs": [
        {
          "output_type": "display_data",
          "data": {
            "image/png": "[encoded data removed]",
            "text/plain": [
              "<Figure size 432x288 with 1 Axes>"
            ]
          },
          "metadata": {
            "needs_background": "light"
          }
        }
      ]
    },
    {
      "cell_type": "code",
      "source": [
        "plt.plot(history3.history[\"loss\"] , 'ro-' , label = \"Training Loss\")\n",
        "plt.plot(history3.history[\"val_loss\"] , 'go-' , label = \"Testing Loss\")\n",
        "plt.legend()\n",
        "plt.show()"
      ],
      "metadata": {
        "colab": {
          "base_uri": "https://localhost:8080/",
          "height": 265
        },
        "outputId": "6330f7fd-9e2c-4be9-92ff-de9103bee10b",
        "id": "CkMzwSJkZ3RH"
      },
      "execution_count": null,
      "outputs": [
        {
          "output_type": "display_data",
          "data": {
            "image/png": "[encoded data removed]",
            "text/plain": [
              "<Figure size 432x288 with 1 Axes>"
            ]
          },
          "metadata": {
            "needs_background": "light"
          }
        }
      ]
    },
    {
      "cell_type": "code",
      "source": [
        "from sklearn.metrics import classification_report, confusion_matrix\n",
        "import seaborn as sns\n",
        "\n",
        "def evaluate(pemodelan_3):\n",
        "  valid_generator = train_generator.flow_from_directory(\n",
        "      TRAIN_DIR, \n",
        "      target_size=(64,64), \n",
        "      batch_size=32, \n",
        "      class_mode='categorical',\n",
        "      shuffle = False)\n",
        "\n",
        "  batch_size = 32\n",
        "  num_of_test_samples = len(valid_generator.filenames)\n",
        "\n",
        "  Y_pred = pemodelan_3.predict_generator(valid_generator, num_of_test_samples // batch_size+1)\n",
        "  y_pred = np.argmax(Y_pred, axis=1)\n",
        "\n",
        "  print('\\nConfusion Matrix\\n')\n",
        "  cm = confusion_matrix(valid_generator.classes, y_pred)\n",
        "  plt.figure(figsize=(8, 8))\n",
        "  sns.heatmap(cm, annot=True, fmt='g', vmin=0, cmap='Blues', cbar=False)\n",
        "  plt.xticks(ticks=[0.5, 1.5], labels=['no', 'yes'])\n",
        "  plt.yticks(ticks=[0.5, 1.5], labels=['no', 'yes'])\n",
        "  plt.xlabel(\"Predicted\")\n",
        "  plt.ylabel(\"Actual\")\n",
        "  plt.title(\"Confusion Matrix\")\n",
        "  plt.show()\n",
        "\n",
        "  print('\\n\\nClassification Report\\n')\n",
        "  target_names = ['no', 'yes']\n",
        "  print(classification_report(valid_generator.classes, y_pred, target_names=target_names))"
      ],
      "metadata": {
        "id": "2QWOMiT6Z3RH"
      },
      "execution_count": null,
      "outputs": []
    },
    {
      "cell_type": "code",
      "source": [
        "evaluate(pemodelan_3)"
      ],
      "metadata": {
        "colab": {
          "base_uri": "https://localhost:8080/",
          "height": 863
        },
        "outputId": "95f38c7e-eb30-4602-f64d-6772248f37d0",
        "id": "jWb4dvjPZ3RI"
      },
      "execution_count": null,
      "outputs": [
        {
          "output_type": "stream",
          "name": "stdout",
          "text": [
            "Found 204 images belonging to 2 classes.\n"
          ]
        },
        {
          "output_type": "stream",
          "name": "stderr",
          "text": [
            "/usr/local/lib/python3.7/dist-packages/ipykernel_launcher.py:15: UserWarning: `Model.predict_generator` is deprecated and will be removed in a future version. Please use `Model.predict`, which supports generators.\n",
            "  from ipykernel import kernelapp as app\n"
          ]
        },
        {
          "output_type": "stream",
          "name": "stdout",
          "text": [
            "\n",
            "Confusion Matrix\n",
            "\n"
          ]
        },
        {
          "output_type": "display_data",
          "data": {
            "image/png": "[encoded data removed]",
            "text/plain": [
              "<Figure size 576x576 with 1 Axes>"
            ]
          },
          "metadata": {
            "needs_background": "light"
          }
        },
        {
          "output_type": "stream",
          "name": "stdout",
          "text": [
            "\n",
            "\n",
            "Classification Report\n",
            "\n",
            "              precision    recall  f1-score   support\n",
            "\n",
            "          no       0.61      1.00      0.76        79\n",
            "         yes       1.00      0.59      0.74       125\n",
            "\n",
            "    accuracy                           0.75       204\n",
            "   macro avg       0.80      0.80      0.75       204\n",
            "weighted avg       0.85      0.75      0.75       204\n",
            "\n"
          ]
        }
      ]
    },
    {
      "cell_type": "code",
      "source": [
        "import os\n",
        "\n",
        "from tensorflow.keras.preprocessing import image\n",
        "from tensorflow.keras.applications.vgg16 import VGG16, preprocess_input\n",
        "from tensorflow.keras.models import  Model\n",
        "\n",
        "from PIL import Image\n",
        "import pickle\n",
        "import numpy as np\n",
        "\n",
        "def image_preprocess(img):\n",
        "    img = img.resize((64,64))\n",
        "    img = img.convert(\"RGB\")\n",
        "    x = image.img_to_array(img)\n",
        "    x = np.expand_dims(x, axis=0)\n",
        "    x = preprocess_input(x)\n",
        "    return x\n",
        "\n",
        "def extract_vector(model, image_path):\n",
        "    print(\"Path : \", image_path)\n",
        "    img = Image.open(image_path)\n",
        "    img_tensor = image_preprocess(img)\n",
        "\n",
        "    vector = model.predict(img_tensor)[0]\n",
        "    vector = vector / np.linalg.norm(vector)\n",
        "    return vector\n",
        "\n",
        "data_folder = \"/content/drive/My Drive/IR/data/dataset\"\n",
        "\n",
        "model = pemodelan_3\n",
        "\n",
        "vectors = []\n",
        "paths = []\n",
        "\n",
        "for image_path in os.listdir(data_folder):\n",
        "    image_path_full = os.path.join(data_folder, image_path)\n",
        "    image_vector = extract_vector(model,image_path_full)\n",
        "    vectors.append(image_vector)\n",
        "    paths.append(image_path_full)\n",
        "\n",
        "vector_file = \"vectors.pkl\"\n",
        "path_file = \"paths.pkl\"\n",
        "\n",
        "pickle.dump(vectors, open(vector_file, \"wb\"))\n",
        "pickle.dump(paths, open(path_file, \"wb\"))"
      ],
      "metadata": {
        "colab": {
          "base_uri": "https://localhost:8080/"
        },
        "outputId": "49a7fa36-10c1-43cc-c01f-3f45c8922111",
        "id": "hqzzR814Z3RI"
      },
      "execution_count": null,
      "outputs": [
        {
          "output_type": "stream",
          "name": "stdout",
          "text": [
            "Path :  /content/drive/My Drive/IR/data/dataset/Y74.jpg\n",
            "Path :  /content/drive/My Drive/IR/data/dataset/Y154.jpg\n",
            "Path :  /content/drive/My Drive/IR/data/dataset/Y54.jpg\n",
            "Path :  /content/drive/My Drive/IR/data/dataset/Y106.jpg\n",
            "Path :  /content/drive/My Drive/IR/data/dataset/Y107.jpg\n",
            "Path :  /content/drive/My Drive/IR/data/dataset/Y250.jpg\n",
            "Path :  /content/drive/My Drive/IR/data/dataset/Y3.jpg\n",
            "Path :  /content/drive/My Drive/IR/data/dataset/Y69.jpg\n",
            "Path :  /content/drive/My Drive/IR/data/dataset/Y31.jpg\n",
            "Path :  /content/drive/My Drive/IR/data/dataset/Y102.jpg\n",
            "Path :  /content/drive/My Drive/IR/data/dataset/Y95.jpg\n",
            "Path :  /content/drive/My Drive/IR/data/dataset/Y8.jpg\n",
            "Path :  /content/drive/My Drive/IR/data/dataset/Y28.jpg\n",
            "Path :  /content/drive/My Drive/IR/data/dataset/Y39.jpg\n",
            "Path :  /content/drive/My Drive/IR/data/dataset/10 no.jpg\n",
            "Path :  /content/drive/My Drive/IR/data/dataset/29 no.jpg\n",
            "Path :  /content/drive/My Drive/IR/data/dataset/No13.jpg\n",
            "Path :  /content/drive/My Drive/IR/data/dataset/50 no.jpg\n",
            "Path :  /content/drive/My Drive/IR/data/dataset/no 90.jpg\n",
            "Path :  /content/drive/My Drive/IR/data/dataset/8 no.jpg\n",
            "Path :  /content/drive/My Drive/IR/data/dataset/no 92.jpg\n",
            "Path :  /content/drive/My Drive/IR/data/dataset/no.jpg\n",
            "Path :  /content/drive/My Drive/IR/data/dataset/No15.jpg\n",
            "Path :  /content/drive/My Drive/IR/data/dataset/43 no.jpg\n",
            "Path :  /content/drive/My Drive/IR/data/dataset/no 99.jpg\n",
            "Path :  /content/drive/My Drive/IR/data/dataset/no 96.jpg\n",
            "Path :  /content/drive/My Drive/IR/data/dataset/36 no.jpg\n",
            "Path :  /content/drive/My Drive/IR/data/dataset/No19.jpg\n",
            "Path :  /content/drive/My Drive/IR/data/dataset/No17.jpg\n",
            "Path :  /content/drive/My Drive/IR/data/dataset/no 923.jpg\n",
            "Path :  /content/drive/My Drive/IR/data/dataset/22 no.jpg\n",
            "Path :  /content/drive/My Drive/IR/data/dataset/no 10.jpg\n",
            "Path :  /content/drive/My Drive/IR/data/dataset/Y73.jpg\n",
            "Path :  /content/drive/My Drive/IR/data/dataset/Y81.jpg\n",
            "Path :  /content/drive/My Drive/IR/data/dataset/Y61.jpg\n",
            "Path :  /content/drive/My Drive/IR/data/dataset/Y4.jpg\n",
            "Path :  /content/drive/My Drive/IR/data/dataset/Y13.jpg\n",
            "Path :  /content/drive/My Drive/IR/data/dataset/Y70.jpg\n",
            "Path :  /content/drive/My Drive/IR/data/dataset/Y10.jpg\n",
            "Path :  /content/drive/My Drive/IR/data/dataset/Y168.jpg\n",
            "Path :  /content/drive/My Drive/IR/data/dataset/Y162.jpg\n",
            "Path :  /content/drive/My Drive/IR/data/dataset/Y187.jpg\n",
            "Path :  /content/drive/My Drive/IR/data/dataset/Y17.jpg\n",
            "Path :  /content/drive/My Drive/IR/data/dataset/Y245.jpg\n",
            "Path :  /content/drive/My Drive/IR/data/dataset/Y38.jpg\n",
            "Path :  /content/drive/My Drive/IR/data/dataset/Y104.jpg\n",
            "Path :  /content/drive/My Drive/IR/data/dataset/Y26.jpg\n",
            "Path :  /content/drive/My Drive/IR/data/dataset/Y22.jpg\n",
            "Path :  /content/drive/My Drive/IR/data/dataset/Y33.jpg\n",
            "Path :  /content/drive/My Drive/IR/data/dataset/Y105.jpg\n",
            "Path :  /content/drive/My Drive/IR/data/dataset/Y6.jpg\n",
            "Path :  /content/drive/My Drive/IR/data/dataset/Y56.jpg\n",
            "Path :  /content/drive/My Drive/IR/data/dataset/Y183.jpg\n",
            "Path :  /content/drive/My Drive/IR/data/dataset/Y14.jpg\n",
            "Path :  /content/drive/My Drive/IR/data/dataset/Y77.jpg\n",
            "Path :  /content/drive/My Drive/IR/data/dataset/Y32.jpg\n",
            "Path :  /content/drive/My Drive/IR/data/dataset/Y194.jpg\n",
            "Path :  /content/drive/My Drive/IR/data/dataset/Y180.jpg\n",
            "Path :  /content/drive/My Drive/IR/data/dataset/Y185.jpg\n",
            "Path :  /content/drive/My Drive/IR/data/dataset/Y42.jpg\n",
            "Path :  /content/drive/My Drive/IR/data/dataset/Y2.jpg\n",
            "Path :  /content/drive/My Drive/IR/data/dataset/Y27.jpg\n",
            "Path :  /content/drive/My Drive/IR/data/dataset/Y12.jpg\n",
            "Path :  /content/drive/My Drive/IR/data/dataset/Y101.jpg\n",
            "Path :  /content/drive/My Drive/IR/data/dataset/Y52.jpg\n",
            "Path :  /content/drive/My Drive/IR/data/dataset/Y254.jpg\n",
            "Path :  /content/drive/My Drive/IR/data/dataset/Y1.jpg\n",
            "Path :  /content/drive/My Drive/IR/data/dataset/Y153.jpg\n",
            "Path :  /content/drive/My Drive/IR/data/dataset/Y15.jpg\n",
            "Path :  /content/drive/My Drive/IR/data/dataset/Y35.jpg\n",
            "Path :  /content/drive/My Drive/IR/data/dataset/Y55.jpg\n",
            "Path :  /content/drive/My Drive/IR/data/dataset/Y78.jpg\n",
            "Path :  /content/drive/My Drive/IR/data/dataset/Y20.jpg\n",
            "Path :  /content/drive/My Drive/IR/data/dataset/Y37.jpg\n",
            "Path :  /content/drive/My Drive/IR/data/dataset/Y252.jpg\n",
            "Path :  /content/drive/My Drive/IR/data/dataset/Y7.jpg\n",
            "Path :  /content/drive/My Drive/IR/data/dataset/Y53.jpg\n",
            "Path :  /content/drive/My Drive/IR/data/dataset/Y30.jpg\n",
            "Path :  /content/drive/My Drive/IR/data/dataset/Y60.jpg\n",
            "Path :  /content/drive/My Drive/IR/data/dataset/Y11.jpg\n",
            "Path :  /content/drive/My Drive/IR/data/dataset/Y169.jpg\n",
            "Path :  /content/drive/My Drive/IR/data/dataset/Y21.jpg\n",
            "Path :  /content/drive/My Drive/IR/data/dataset/Y91.jpg\n",
            "Path :  /content/drive/My Drive/IR/data/dataset/Y25.jpg\n",
            "Path :  /content/drive/My Drive/IR/data/dataset/Y29.jpg\n",
            "Path :  /content/drive/My Drive/IR/data/dataset/Y188.jpg\n",
            "Path :  /content/drive/My Drive/IR/data/dataset/Y51.jpg\n",
            "Path :  /content/drive/My Drive/IR/data/dataset/Y92.jpg\n",
            "Path :  /content/drive/My Drive/IR/data/dataset/Y34.jpg\n",
            "Path :  /content/drive/My Drive/IR/data/dataset/Y90.jpg\n",
            "Path :  /content/drive/My Drive/IR/data/dataset/Y24.jpg\n",
            "Path :  /content/drive/My Drive/IR/data/dataset/Y46.jpg\n",
            "Path :  /content/drive/My Drive/IR/data/dataset/Y62.jpg\n",
            "Path :  /content/drive/My Drive/IR/data/dataset/Y257.jpg\n",
            "Path :  /content/drive/My Drive/IR/data/dataset/Y79.jpg\n",
            "Path :  /content/drive/My Drive/IR/data/dataset/Y41.jpg\n",
            "Path :  /content/drive/My Drive/IR/data/dataset/Y96.jpg\n",
            "Path :  /content/drive/My Drive/IR/data/dataset/Y181.jpg\n",
            "Path :  /content/drive/My Drive/IR/data/dataset/Y76.jpg\n",
            "Path :  /content/drive/My Drive/IR/data/dataset/Y186.jpg\n",
            "Path :  /content/drive/My Drive/IR/data/dataset/Y108.jpg\n",
            "Path :  /content/drive/My Drive/IR/data/dataset/Y82.jpg\n",
            "Path :  /content/drive/My Drive/IR/data/dataset/Y103.jpg\n",
            "Path :  /content/drive/My Drive/IR/data/dataset/Y9.jpg\n",
            "Path :  /content/drive/My Drive/IR/data/dataset/46 no.jpg\n",
            "Path :  /content/drive/My Drive/IR/data/dataset/N5.jpg\n",
            "Path :  /content/drive/My Drive/IR/data/dataset/33 no.jpg\n",
            "Path :  /content/drive/My Drive/IR/data/dataset/26 no.jpg\n",
            "Path :  /content/drive/My Drive/IR/data/dataset/N17.jpg\n",
            "Path :  /content/drive/My Drive/IR/data/dataset/N6.jpg\n",
            "Path :  /content/drive/My Drive/IR/data/dataset/no 98.jpg\n",
            "Path :  /content/drive/My Drive/IR/data/dataset/no 4.jpg\n",
            "Path :  /content/drive/My Drive/IR/data/dataset/no 97.jpg\n",
            "Path :  /content/drive/My Drive/IR/data/dataset/N16.jpg\n",
            "Path :  /content/drive/My Drive/IR/data/dataset/no 89.jpg\n",
            "Path :  /content/drive/My Drive/IR/data/dataset/No14.jpg\n",
            "Path :  /content/drive/My Drive/IR/data/dataset/24 no.jpg\n",
            "Path :  /content/drive/My Drive/IR/data/dataset/12 no.jpg\n",
            "Path :  /content/drive/My Drive/IR/data/dataset/N21.jpg\n",
            "Path :  /content/drive/My Drive/IR/data/dataset/no 8.jpg\n",
            "Path :  /content/drive/My Drive/IR/data/dataset/4 no.jpg\n",
            "Path :  /content/drive/My Drive/IR/data/dataset/45 no.jpg\n",
            "Path :  /content/drive/My Drive/IR/data/dataset/No22.jpg\n",
            "Path :  /content/drive/My Drive/IR/data/dataset/18 no.jpg\n",
            "Path :  /content/drive/My Drive/IR/data/dataset/37 no.jpg\n",
            "Path :  /content/drive/My Drive/IR/data/dataset/N11.jpg\n",
            "Path :  /content/drive/My Drive/IR/data/dataset/15 no.jpg\n",
            "Path :  /content/drive/My Drive/IR/data/dataset/31 no.jpg\n",
            "Path :  /content/drive/My Drive/IR/data/dataset/49 no.jpg\n",
            "Path :  /content/drive/My Drive/IR/data/dataset/no 94.jpg\n",
            "Path :  /content/drive/My Drive/IR/data/dataset/no 2.jpg\n",
            "Path :  /content/drive/My Drive/IR/data/dataset/23 no.jpg\n",
            "Path :  /content/drive/My Drive/IR/data/dataset/32 no.jpg\n",
            "Path :  /content/drive/My Drive/IR/data/dataset/38 no.jpg\n",
            "Path :  /content/drive/My Drive/IR/data/dataset/no 1.jpg\n",
            "Path :  /content/drive/My Drive/IR/data/dataset/17 no.jpg\n",
            "Path :  /content/drive/My Drive/IR/data/dataset/44no.jpg\n",
            "Path :  /content/drive/My Drive/IR/data/dataset/No16.jpg\n",
            "Path :  /content/drive/My Drive/IR/data/dataset/No12.jpg\n",
            "Path :  /content/drive/My Drive/IR/data/dataset/39 no.jpg\n",
            "Path :  /content/drive/My Drive/IR/data/dataset/N3.jpg\n",
            "Path :  /content/drive/My Drive/IR/data/dataset/No20.jpg\n",
            "Path :  /content/drive/My Drive/IR/data/dataset/27 no.jpg\n",
            "Path :  /content/drive/My Drive/IR/data/dataset/28 no.jpg\n",
            "Path :  /content/drive/My Drive/IR/data/dataset/6 no.jpg\n",
            "Path :  /content/drive/My Drive/IR/data/dataset/40 no.jpg\n",
            "Path :  /content/drive/My Drive/IR/data/dataset/35 no.jpg\n",
            "Path :  /content/drive/My Drive/IR/data/dataset/9 no.jpg\n",
            "Path :  /content/drive/My Drive/IR/data/dataset/47 no.jpg\n",
            "Path :  /content/drive/My Drive/IR/data/dataset/7 no.jpg\n",
            "Path :  /content/drive/My Drive/IR/data/dataset/11 no.jpg\n",
            "Path :  /content/drive/My Drive/IR/data/dataset/no 3.jpg\n",
            "Path :  /content/drive/My Drive/IR/data/dataset/5 no.jpg\n",
            "Path :  /content/drive/My Drive/IR/data/dataset/14 no.jpg\n",
            "Path :  /content/drive/My Drive/IR/data/dataset/20 no.jpg\n",
            "Path :  /content/drive/My Drive/IR/data/dataset/41 no.jpg\n",
            "Path :  /content/drive/My Drive/IR/data/dataset/30 no.jpg\n",
            "Path :  /content/drive/My Drive/IR/data/dataset/No21.jpg\n",
            "Path :  /content/drive/My Drive/IR/data/dataset/No18.jpg\n",
            "Path :  /content/drive/My Drive/IR/data/dataset/no 6.jpg\n",
            "Path :  /content/drive/My Drive/IR/data/dataset/21 no.jpg\n",
            "Path :  /content/drive/My Drive/IR/data/dataset/13 no.jpg\n",
            "Path :  /content/drive/My Drive/IR/data/dataset/19 no.jpg\n",
            "Path :  /content/drive/My Drive/IR/data/dataset/3 no.jpg\n",
            "Path :  /content/drive/My Drive/IR/data/dataset/25 no.jpg\n",
            "Path :  /content/drive/My Drive/IR/data/dataset/No11.jpg\n",
            "Path :  /content/drive/My Drive/IR/data/dataset/34 no.jpg\n",
            "Path :  /content/drive/My Drive/IR/data/dataset/42 no.jpg\n",
            "Path :  /content/drive/My Drive/IR/data/dataset/no 100.jpg\n",
            "Path :  /content/drive/My Drive/IR/data/dataset/N15.jpg\n",
            "Path :  /content/drive/My Drive/IR/data/dataset/no 95.jpg\n"
          ]
        }
      ]
    },
    {
      "cell_type": "code",
      "source": [
        "import math\n",
        "import os\n",
        "\n",
        "from tensorflow.keras.preprocessing import image\n",
        "from tensorflow.keras.applications.vgg16 import VGG16, preprocess_input\n",
        "from tensorflow.keras.models import  Model\n",
        "\n",
        "from PIL import Image\n",
        "import pickle\n",
        "import numpy as np\n",
        "\n",
        "def image_preprocess(img):\n",
        "    img = img.resize((64,64))\n",
        "    img = img.convert(\"RGB\")\n",
        "    x = image.img_to_array(img)\n",
        "    x = np.expand_dims(x, axis=0)\n",
        "    x = preprocess_input(x)\n",
        "    return x\n",
        "\n",
        "def extract_vector(model, image_path):\n",
        "    print(\"Dataset : \", image_path)\n",
        "    img = Image.open(image_path)\n",
        "    img_tensor = image_preprocess(img)\n",
        "\n",
        "    vector = model.predict(img_tensor)[0]\n",
        "    vector = vector / np.linalg.norm(vector)\n",
        "    return vector\n",
        "\n",
        "search_image = \"/content/drive/My Drive/IR/data/test/no 10.jpg\"\n",
        "\n",
        "model = pemodelan_3\n",
        "\n",
        "search_vector = extract_vector(model, search_image)\n",
        "\n",
        "vectors = pickle.load(open(\"vectors.pkl\",\"rb\"))\n",
        "paths = pickle.load(open(\"paths.pkl\",\"rb\"))\n",
        "\n",
        "distance = np.linalg.norm(vectors - search_vector, axis=1)\n",
        "\n",
        "K = 16\n",
        "ids = np.argsort(distance)[:K]\n",
        "\n",
        "nearest_image = [(paths[id], distance[id]) for id in ids]\n",
        "\n",
        "import matplotlib.pyplot as plt\n",
        "\n",
        "axes = []\n",
        "grid_size = int(math.sqrt(K))\n",
        "fig = plt.figure(figsize=(10,5))\n",
        "\n",
        "\n",
        "for id in range(K):\n",
        "    draw_image = nearest_image[id]\n",
        "    axes.append(fig.add_subplot(grid_size, grid_size, id+1))\n",
        "\n",
        "    axes[-1].set_title(draw_image[1])\n",
        "    plt.imshow(Image.open(draw_image[0]))\n",
        "\n",
        "fig.tight_layout()\n",
        "plt.show()"
      ],
      "metadata": {
        "colab": {
          "base_uri": "https://localhost:8080/",
          "height": 387
        },
        "outputId": "3e2fae38-99e8-4d7a-e2d9-3630577fd0ca",
        "id": "Og09VX0ZZ3RI"
      },
      "execution_count": null,
      "outputs": [
        {
          "output_type": "stream",
          "name": "stdout",
          "text": [
            "Dataset :  /content/drive/My Drive/IR/data/test/no 10.jpg\n"
          ]
        },
        {
          "output_type": "display_data",
          "data": {
            "image/png": "[encoded data removed]",
            "text/plain": [
              "<Figure size 720x360 with 16 Axes>"
            ]
          },
          "metadata": {
            "needs_background": "light"
          }
        }
      ]
    },
    {
      "cell_type": "markdown",
      "source": [
        "**MODEL 4**"
      ],
      "metadata": {
        "id": "jtOuOLzNdJp7"
      }
    },
    {
      "cell_type": "code",
      "source": [
        "from tensorflow.keras.models import Model\n",
        "from tensorflow.keras.layers import Dense, Flatten, Dropout, Input, GlobalAveragePooling2D, concatenate, BatchNormalization\n",
        "from tensorflow.keras.applications import DenseNet169\n",
        "from tensorflow.keras.optimizers import Adam"
      ],
      "metadata": {
        "id": "6iP6FMMcdNJY"
      },
      "execution_count": null,
      "outputs": []
    },
    {
      "cell_type": "code",
      "source": [
        "inputan = (64,64,3)\n",
        "input_model = Input(shape=inputan)\n",
        "\n",
        "dns169= DenseNet169(include_top=False, weights=\"imagenet\", input_shape=inputan)(input_model)\n",
        "\n",
        "def pemodelan4(m1):\n",
        "  model4 = concatenate([m1])\n",
        "  model4 = GlobalAveragePooling2D()(model4)\n",
        "  model4 = Flatten(name=\"flatten\")(model4)\n",
        "  model4 = Dense(2048, activation=\"relu\")(model4)\n",
        "  model4 = Dropout(0.25)(model4)\n",
        "  model4 = BatchNormalization()(model4)\n",
        "  model4 = Dense(1024, activation=\"relu\")(model4)\n",
        "  model4 = Dropout(0.25)(model4)\n",
        "  model4 = BatchNormalization()(model4)\n",
        "  model4 = Dense(2, activation=\"softmax\")(model4)\n",
        "\n",
        "  return model4"
      ],
      "metadata": {
        "colab": {
          "base_uri": "https://localhost:8080/"
        },
        "outputId": "e2786550-8c78-4778-cc09-f6d3a77a82fb",
        "id": "BMlSF8nfdNJZ"
      },
      "execution_count": null,
      "outputs": [
        {
          "output_type": "stream",
          "name": "stdout",
          "text": [
            "Downloading data from https://storage.googleapis.com/tensorflow/keras-applications/densenet/densenet169_weights_tf_dim_ordering_tf_kernels_notop.h5\n",
            "51879936/51877672 [==============================] - 3s 0us/step\n",
            "51888128/51877672 [==============================] - 3s 0us/step\n"
          ]
        }
      ]
    },
    {
      "cell_type": "code",
      "source": [
        "model_4= pemodelan4(dns169)\n",
        "pemodelan_4 = Model(inputs=input_model, outputs=model_4)\n",
        "pemodelan_4.summary()"
      ],
      "metadata": {
        "colab": {
          "base_uri": "https://localhost:8080/"
        },
        "outputId": "2f03dfa9-c5ca-4562-ddbf-e5bdbabd042d",
        "id": "WFTH61RNdNJZ"
      },
      "execution_count": null,
      "outputs": [
        {
          "output_type": "stream",
          "name": "stdout",
          "text": [
            "Model: \"model_3\"\n",
            "_________________________________________________________________\n",
            " Layer (type)                Output Shape              Param #   \n",
            "=================================================================\n",
            " input_12 (InputLayer)       [(None, 64, 64, 3)]       0         \n",
            "                                                                 \n",
            " densenet169 (Functional)    (None, 2, 2, 1664)        12642880  \n",
            "                                                                 \n",
            " concatenate_4 (Concatenate)  (None, 2, 2, 1664)       0         \n",
            "                                                                 \n",
            " global_average_pooling2d_2   (None, 1664)             0         \n",
            " (GlobalAveragePooling2D)                                        \n",
            "                                                                 \n",
            " flatten (Flatten)           (None, 1664)              0         \n",
            "                                                                 \n",
            " dense_9 (Dense)             (None, 2048)              3409920   \n",
            "                                                                 \n",
            " dropout_6 (Dropout)         (None, 2048)              0         \n",
            "                                                                 \n",
            " batch_normalization_4 (Batc  (None, 2048)             8192      \n",
            " hNormalization)                                                 \n",
            "                                                                 \n",
            " dense_10 (Dense)            (None, 1024)              2098176   \n",
            "                                                                 \n",
            " dropout_7 (Dropout)         (None, 1024)              0         \n",
            "                                                                 \n",
            " batch_normalization_5 (Batc  (None, 1024)             4096      \n",
            " hNormalization)                                                 \n",
            "                                                                 \n",
            " dense_11 (Dense)            (None, 2)                 2050      \n",
            "                                                                 \n",
            "=================================================================\n",
            "Total params: 18,165,314\n",
            "Trainable params: 18,000,770\n",
            "Non-trainable params: 164,544\n",
            "_________________________________________________________________\n"
          ]
        }
      ]
    },
    {
      "cell_type": "code",
      "source": [
        "dns169.trainable = False"
      ],
      "metadata": {
        "id": "6p4JzZ-CdNJZ"
      },
      "execution_count": null,
      "outputs": []
    },
    {
      "cell_type": "code",
      "source": [
        "import tensorflow as tf\n",
        "tensorboard=tf.keras.callbacks.TensorBoard(log_dir='./logs/aug')"
      ],
      "metadata": {
        "id": "h9HqsndXdNJZ"
      },
      "execution_count": null,
      "outputs": []
    },
    {
      "cell_type": "code",
      "source": [
        "%load_ext tensorboard"
      ],
      "metadata": {
        "colab": {
          "base_uri": "https://localhost:8080/"
        },
        "outputId": "79522d38-0631-4e6d-8e7c-0965c69ae1f2",
        "id": "SQef39h_dNJZ"
      },
      "execution_count": null,
      "outputs": [
        {
          "output_type": "stream",
          "name": "stdout",
          "text": [
            "The tensorboard extension is already loaded. To reload it, use:\n",
            "  %reload_ext tensorboard\n"
          ]
        }
      ]
    },
    {
      "cell_type": "code",
      "source": [
        "!rm -rf ./logs/aug"
      ],
      "metadata": {
        "id": "sOr1fDuWdNJZ"
      },
      "execution_count": null,
      "outputs": []
    },
    {
      "cell_type": "code",
      "source": [
        "from tensorflow.keras.callbacks import ModelCheckpoint, ReduceLROnPlateau\n",
        "def callback(path):\n",
        "  checkpoint_callback = ModelCheckpoint(path,\n",
        "                                      monitor='val_accuracy',\n",
        "                                      save_best_only=True,\n",
        "                                      verbose=1)\n",
        "  reduce_callback = ReduceLROnPlateau(monitor='val_accuracy', patience=3, factor=0.5, min_lr=0.0001, verbose=1)\n",
        "  callbacks_list = [checkpoint_callback, reduce_callback]\n",
        "  return callbacks_list"
      ],
      "metadata": {
        "id": "RDncu7M_dNJa"
      },
      "execution_count": null,
      "outputs": []
    },
    {
      "cell_type": "code",
      "source": [
        "best_model_path = 'model4.h5'\n",
        "cb=callback(best_model_path)"
      ],
      "metadata": {
        "id": "2zfW3moUdNJa"
      },
      "execution_count": null,
      "outputs": []
    },
    {
      "cell_type": "code",
      "source": [
        "learning_rate=0.0001\n",
        "pemodelan_4.compile(optimizer=Adam(lr=learning_rate), \n",
        "                    loss = keras.losses.CategoricalCrossentropy(),\n",
        "                    metrics = ['accuracy'])"
      ],
      "metadata": {
        "colab": {
          "base_uri": "https://localhost:8080/"
        },
        "outputId": "d3d3543f-f914-416b-d69a-4d7efc606d31",
        "id": "LkrKH9k6dNJa"
      },
      "execution_count": null,
      "outputs": [
        {
          "output_type": "stream",
          "name": "stderr",
          "text": [
            "/usr/local/lib/python3.7/dist-packages/keras/optimizer_v2/adam.py:105: UserWarning: The `lr` argument is deprecated, use `learning_rate` instead.\n",
            "  super(Adam, self).__init__(name, **kwargs)\n"
          ]
        }
      ]
    },
    {
      "cell_type": "code",
      "source": [
        "history4 = pemodelan_4.fit(train_images,\n",
        "                    epochs=100,\n",
        "                    batch_size=128,\n",
        "                    validation_data=test_images,\n",
        "                    callbacks=[tensorboard,cb])"
      ],
      "metadata": {
        "colab": {
          "base_uri": "https://localhost:8080/"
        },
        "outputId": "e427b042-728a-4a1b-bc9f-5cdf179766e8",
        "id": "rDT58TTwdNJa"
      },
      "execution_count": null,
      "outputs": [
        {
          "output_type": "stream",
          "name": "stdout",
          "text": [
            "Epoch 1/100\n",
            "7/7 [==============================] - ETA: 0s - loss: 0.8884 - accuracy: 0.5637\n",
            "Epoch 00001: val_accuracy improved from -inf to 0.67647, saving model to model4.h5\n",
            "7/7 [==============================] - 36s 2s/step - loss: 0.8884 - accuracy: 0.5637 - val_loss: 0.5709 - val_accuracy: 0.6765 - lr: 1.0000e-04\n",
            "Epoch 2/100\n",
            "7/7 [==============================] - ETA: 0s - loss: 0.7529 - accuracy: 0.6667\n",
            "Epoch 00002: val_accuracy improved from 0.67647 to 0.79412, saving model to model4.h5\n",
            "7/7 [==============================] - 7s 1s/step - loss: 0.7529 - accuracy: 0.6667 - val_loss: 0.5058 - val_accuracy: 0.7941 - lr: 1.0000e-04\n",
            "Epoch 3/100\n",
            "7/7 [==============================] - ETA: 0s - loss: 0.6270 - accuracy: 0.6961\n",
            "Epoch 00003: val_accuracy did not improve from 0.79412\n",
            "7/7 [==============================] - 2s 277ms/step - loss: 0.6270 - accuracy: 0.6961 - val_loss: 0.4642 - val_accuracy: 0.7941 - lr: 1.0000e-04\n",
            "Epoch 4/100\n",
            "7/7 [==============================] - ETA: 0s - loss: 0.6075 - accuracy: 0.7353\n",
            "Epoch 00004: val_accuracy did not improve from 0.79412\n",
            "7/7 [==============================] - 2s 276ms/step - loss: 0.6075 - accuracy: 0.7353 - val_loss: 0.4980 - val_accuracy: 0.7647 - lr: 1.0000e-04\n",
            "Epoch 5/100\n",
            "7/7 [==============================] - ETA: 0s - loss: 0.5267 - accuracy: 0.8039\n",
            "Epoch 00005: val_accuracy improved from 0.79412 to 0.82353, saving model to model4.h5\n",
            "7/7 [==============================] - 7s 1s/step - loss: 0.5267 - accuracy: 0.8039 - val_loss: 0.4057 - val_accuracy: 0.8235 - lr: 1.0000e-04\n",
            "Epoch 6/100\n",
            "7/7 [==============================] - ETA: 0s - loss: 0.5617 - accuracy: 0.7304\n",
            "Epoch 00006: val_accuracy improved from 0.82353 to 0.85294, saving model to model4.h5\n",
            "7/7 [==============================] - 7s 1s/step - loss: 0.5617 - accuracy: 0.7304 - val_loss: 0.4283 - val_accuracy: 0.8529 - lr: 1.0000e-04\n",
            "Epoch 7/100\n",
            "7/7 [==============================] - ETA: 0s - loss: 0.5160 - accuracy: 0.7598\n",
            "Epoch 00007: val_accuracy did not improve from 0.85294\n",
            "7/7 [==============================] - 2s 286ms/step - loss: 0.5160 - accuracy: 0.7598 - val_loss: 0.4474 - val_accuracy: 0.7941 - lr: 1.0000e-04\n",
            "Epoch 8/100\n",
            "7/7 [==============================] - ETA: 0s - loss: 0.5627 - accuracy: 0.7549\n",
            "Epoch 00008: val_accuracy did not improve from 0.85294\n",
            "7/7 [==============================] - 2s 268ms/step - loss: 0.5627 - accuracy: 0.7549 - val_loss: 0.4109 - val_accuracy: 0.8235 - lr: 1.0000e-04\n",
            "Epoch 9/100\n",
            "7/7 [==============================] - ETA: 0s - loss: 0.4161 - accuracy: 0.8284\n",
            "Epoch 00009: val_accuracy did not improve from 0.85294\n",
            "7/7 [==============================] - 2s 268ms/step - loss: 0.4161 - accuracy: 0.8284 - val_loss: 0.5005 - val_accuracy: 0.7353 - lr: 1.0000e-04\n",
            "Epoch 10/100\n",
            "7/7 [==============================] - ETA: 0s - loss: 0.4938 - accuracy: 0.7843\n",
            "Epoch 00010: val_accuracy did not improve from 0.85294\n",
            "7/7 [==============================] - 2s 317ms/step - loss: 0.4938 - accuracy: 0.7843 - val_loss: 0.8520 - val_accuracy: 0.6765 - lr: 1.0000e-04\n",
            "Epoch 11/100\n",
            "7/7 [==============================] - ETA: 0s - loss: 0.5021 - accuracy: 0.7990\n",
            "Epoch 00011: val_accuracy did not improve from 0.85294\n",
            "7/7 [==============================] - 2s 321ms/step - loss: 0.5021 - accuracy: 0.7990 - val_loss: 0.9360 - val_accuracy: 0.6471 - lr: 1.0000e-04\n",
            "Epoch 12/100\n",
            "7/7 [==============================] - ETA: 0s - loss: 0.4243 - accuracy: 0.8235\n",
            "Epoch 00012: val_accuracy did not improve from 0.85294\n",
            "7/7 [==============================] - 2s 280ms/step - loss: 0.4243 - accuracy: 0.8235 - val_loss: 0.7191 - val_accuracy: 0.7059 - lr: 1.0000e-04\n",
            "Epoch 13/100\n",
            "7/7 [==============================] - ETA: 0s - loss: 0.3370 - accuracy: 0.8284\n",
            "Epoch 00013: val_accuracy did not improve from 0.85294\n",
            "7/7 [==============================] - 2s 318ms/step - loss: 0.3370 - accuracy: 0.8284 - val_loss: 0.6831 - val_accuracy: 0.6765 - lr: 1.0000e-04\n",
            "Epoch 14/100\n",
            "7/7 [==============================] - ETA: 0s - loss: 0.4542 - accuracy: 0.7990\n",
            "Epoch 00014: val_accuracy did not improve from 0.85294\n",
            "7/7 [==============================] - 2s 343ms/step - loss: 0.4542 - accuracy: 0.7990 - val_loss: 0.7756 - val_accuracy: 0.5882 - lr: 1.0000e-04\n",
            "Epoch 15/100\n",
            "7/7 [==============================] - ETA: 0s - loss: 0.3859 - accuracy: 0.8480\n",
            "Epoch 00015: val_accuracy did not improve from 0.85294\n",
            "7/7 [==============================] - 2s 272ms/step - loss: 0.3859 - accuracy: 0.8480 - val_loss: 1.0323 - val_accuracy: 0.6176 - lr: 1.0000e-04\n",
            "Epoch 16/100\n",
            "7/7 [==============================] - ETA: 0s - loss: 0.3578 - accuracy: 0.8431\n",
            "Epoch 00016: val_accuracy did not improve from 0.85294\n",
            "7/7 [==============================] - 2s 279ms/step - loss: 0.3578 - accuracy: 0.8431 - val_loss: 0.7981 - val_accuracy: 0.6471 - lr: 1.0000e-04\n",
            "Epoch 17/100\n",
            "7/7 [==============================] - ETA: 0s - loss: 0.3984 - accuracy: 0.8873\n",
            "Epoch 00017: val_accuracy did not improve from 0.85294\n",
            "7/7 [==============================] - 2s 275ms/step - loss: 0.3984 - accuracy: 0.8873 - val_loss: 1.3266 - val_accuracy: 0.6176 - lr: 1.0000e-04\n",
            "Epoch 18/100\n",
            "7/7 [==============================] - ETA: 0s - loss: 0.4168 - accuracy: 0.8480\n",
            "Epoch 00018: val_accuracy did not improve from 0.85294\n",
            "7/7 [==============================] - 2s 272ms/step - loss: 0.4168 - accuracy: 0.8480 - val_loss: 0.9485 - val_accuracy: 0.6176 - lr: 1.0000e-04\n",
            "Epoch 19/100\n",
            "7/7 [==============================] - ETA: 0s - loss: 0.3872 - accuracy: 0.8676\n",
            "Epoch 00019: val_accuracy did not improve from 0.85294\n",
            "7/7 [==============================] - 2s 290ms/step - loss: 0.3872 - accuracy: 0.8676 - val_loss: 0.9858 - val_accuracy: 0.6176 - lr: 1.0000e-04\n",
            "Epoch 20/100\n",
            "7/7 [==============================] - ETA: 0s - loss: 0.2925 - accuracy: 0.8824\n",
            "Epoch 00020: val_accuracy did not improve from 0.85294\n",
            "7/7 [==============================] - 2s 279ms/step - loss: 0.2925 - accuracy: 0.8824 - val_loss: 0.8778 - val_accuracy: 0.6176 - lr: 1.0000e-04\n",
            "Epoch 21/100\n",
            "7/7 [==============================] - ETA: 0s - loss: 0.2635 - accuracy: 0.8922\n",
            "Epoch 00021: val_accuracy did not improve from 0.85294\n",
            "7/7 [==============================] - 2s 283ms/step - loss: 0.2635 - accuracy: 0.8922 - val_loss: 0.4204 - val_accuracy: 0.7941 - lr: 1.0000e-04\n",
            "Epoch 22/100\n",
            "7/7 [==============================] - ETA: 0s - loss: 0.3521 - accuracy: 0.9020\n",
            "Epoch 00022: val_accuracy did not improve from 0.85294\n",
            "7/7 [==============================] - 2s 284ms/step - loss: 0.3521 - accuracy: 0.9020 - val_loss: 0.4544 - val_accuracy: 0.8235 - lr: 1.0000e-04\n",
            "Epoch 23/100\n",
            "7/7 [==============================] - ETA: 0s - loss: 0.1890 - accuracy: 0.9069\n",
            "Epoch 00023: val_accuracy did not improve from 0.85294\n",
            "7/7 [==============================] - 2s 296ms/step - loss: 0.1890 - accuracy: 0.9069 - val_loss: 0.4435 - val_accuracy: 0.8235 - lr: 1.0000e-04\n",
            "Epoch 24/100\n",
            "7/7 [==============================] - ETA: 0s - loss: 0.2477 - accuracy: 0.9020\n",
            "Epoch 00024: val_accuracy did not improve from 0.85294\n",
            "7/7 [==============================] - 2s 279ms/step - loss: 0.2477 - accuracy: 0.9020 - val_loss: 0.3281 - val_accuracy: 0.8529 - lr: 1.0000e-04\n",
            "Epoch 25/100\n",
            "7/7 [==============================] - ETA: 0s - loss: 0.2751 - accuracy: 0.8922\n",
            "Epoch 00025: val_accuracy did not improve from 0.85294\n",
            "7/7 [==============================] - 2s 271ms/step - loss: 0.2751 - accuracy: 0.8922 - val_loss: 0.4967 - val_accuracy: 0.7353 - lr: 1.0000e-04\n",
            "Epoch 26/100\n",
            "7/7 [==============================] - ETA: 0s - loss: 0.2907 - accuracy: 0.8971\n",
            "Epoch 00026: val_accuracy did not improve from 0.85294\n",
            "7/7 [==============================] - 2s 293ms/step - loss: 0.2907 - accuracy: 0.8971 - val_loss: 0.5946 - val_accuracy: 0.6765 - lr: 1.0000e-04\n",
            "Epoch 27/100\n",
            "7/7 [==============================] - ETA: 0s - loss: 0.2656 - accuracy: 0.9167\n",
            "Epoch 00027: val_accuracy did not improve from 0.85294\n",
            "7/7 [==============================] - 2s 285ms/step - loss: 0.2656 - accuracy: 0.9167 - val_loss: 0.8005 - val_accuracy: 0.6471 - lr: 1.0000e-04\n",
            "Epoch 28/100\n",
            "7/7 [==============================] - ETA: 0s - loss: 0.2914 - accuracy: 0.8971\n",
            "Epoch 00028: val_accuracy did not improve from 0.85294\n",
            "7/7 [==============================] - 2s 280ms/step - loss: 0.2914 - accuracy: 0.8971 - val_loss: 0.6938 - val_accuracy: 0.7353 - lr: 1.0000e-04\n",
            "Epoch 29/100\n",
            "7/7 [==============================] - ETA: 0s - loss: 0.3117 - accuracy: 0.8922\n",
            "Epoch 00029: val_accuracy did not improve from 0.85294\n",
            "7/7 [==============================] - 2s 283ms/step - loss: 0.3117 - accuracy: 0.8922 - val_loss: 0.4130 - val_accuracy: 0.7941 - lr: 1.0000e-04\n",
            "Epoch 30/100\n",
            "7/7 [==============================] - ETA: 0s - loss: 0.3262 - accuracy: 0.8775\n",
            "Epoch 00030: val_accuracy did not improve from 0.85294\n",
            "7/7 [==============================] - 2s 270ms/step - loss: 0.3262 - accuracy: 0.8775 - val_loss: 1.2045 - val_accuracy: 0.7059 - lr: 1.0000e-04\n",
            "Epoch 31/100\n",
            "7/7 [==============================] - ETA: 0s - loss: 0.2654 - accuracy: 0.8873\n",
            "Epoch 00031: val_accuracy did not improve from 0.85294\n",
            "7/7 [==============================] - 2s 279ms/step - loss: 0.2654 - accuracy: 0.8873 - val_loss: 1.5719 - val_accuracy: 0.6765 - lr: 1.0000e-04\n",
            "Epoch 32/100\n",
            "7/7 [==============================] - ETA: 0s - loss: 0.2355 - accuracy: 0.9265\n",
            "Epoch 00032: val_accuracy did not improve from 0.85294\n",
            "7/7 [==============================] - 2s 294ms/step - loss: 0.2355 - accuracy: 0.9265 - val_loss: 0.8808 - val_accuracy: 0.7353 - lr: 1.0000e-04\n",
            "Epoch 33/100\n",
            "7/7 [==============================] - ETA: 0s - loss: 0.1860 - accuracy: 0.9363\n",
            "Epoch 00033: val_accuracy did not improve from 0.85294\n",
            "7/7 [==============================] - 2s 272ms/step - loss: 0.1860 - accuracy: 0.9363 - val_loss: 1.5832 - val_accuracy: 0.5882 - lr: 1.0000e-04\n",
            "Epoch 34/100\n",
            "7/7 [==============================] - ETA: 0s - loss: 0.2449 - accuracy: 0.9167\n",
            "Epoch 00034: val_accuracy did not improve from 0.85294\n",
            "7/7 [==============================] - 2s 277ms/step - loss: 0.2449 - accuracy: 0.9167 - val_loss: 0.6046 - val_accuracy: 0.7941 - lr: 1.0000e-04\n",
            "Epoch 35/100\n",
            "7/7 [==============================] - ETA: 0s - loss: 0.1548 - accuracy: 0.9412\n",
            "Epoch 00035: val_accuracy did not improve from 0.85294\n",
            "7/7 [==============================] - 2s 267ms/step - loss: 0.1548 - accuracy: 0.9412 - val_loss: 2.8359 - val_accuracy: 0.6176 - lr: 1.0000e-04\n",
            "Epoch 36/100\n",
            "7/7 [==============================] - ETA: 0s - loss: 0.1691 - accuracy: 0.9265\n",
            "Epoch 00036: val_accuracy did not improve from 0.85294\n",
            "7/7 [==============================] - 2s 283ms/step - loss: 0.1691 - accuracy: 0.9265 - val_loss: 3.5702 - val_accuracy: 0.6176 - lr: 1.0000e-04\n",
            "Epoch 37/100\n",
            "7/7 [==============================] - ETA: 0s - loss: 0.2706 - accuracy: 0.9363\n",
            "Epoch 00037: val_accuracy did not improve from 0.85294\n",
            "7/7 [==============================] - 2s 281ms/step - loss: 0.2706 - accuracy: 0.9363 - val_loss: 2.4855 - val_accuracy: 0.6471 - lr: 1.0000e-04\n",
            "Epoch 38/100\n",
            "7/7 [==============================] - ETA: 0s - loss: 0.1511 - accuracy: 0.9461\n",
            "Epoch 00038: val_accuracy did not improve from 0.85294\n",
            "7/7 [==============================] - 2s 290ms/step - loss: 0.1511 - accuracy: 0.9461 - val_loss: 1.7871 - val_accuracy: 0.6471 - lr: 1.0000e-04\n",
            "Epoch 39/100\n",
            "7/7 [==============================] - ETA: 0s - loss: 0.2456 - accuracy: 0.9118\n",
            "Epoch 00039: val_accuracy did not improve from 0.85294\n",
            "7/7 [==============================] - 2s 281ms/step - loss: 0.2456 - accuracy: 0.9118 - val_loss: 1.4718 - val_accuracy: 0.7059 - lr: 1.0000e-04\n",
            "Epoch 40/100\n",
            "7/7 [==============================] - ETA: 0s - loss: 0.0983 - accuracy: 0.9706\n",
            "Epoch 00040: val_accuracy did not improve from 0.85294\n",
            "7/7 [==============================] - 2s 274ms/step - loss: 0.0983 - accuracy: 0.9706 - val_loss: 0.7039 - val_accuracy: 0.7353 - lr: 1.0000e-04\n",
            "Epoch 41/100\n",
            "7/7 [==============================] - ETA: 0s - loss: 0.2378 - accuracy: 0.8873\n",
            "Epoch 00041: val_accuracy improved from 0.85294 to 0.91176, saving model to model4.h5\n",
            "7/7 [==============================] - 9s 1s/step - loss: 0.2378 - accuracy: 0.8873 - val_loss: 0.5353 - val_accuracy: 0.9118 - lr: 1.0000e-04\n",
            "Epoch 42/100\n",
            "7/7 [==============================] - ETA: 0s - loss: 0.2791 - accuracy: 0.9216\n",
            "Epoch 00042: val_accuracy did not improve from 0.91176\n",
            "7/7 [==============================] - 2s 297ms/step - loss: 0.2791 - accuracy: 0.9216 - val_loss: 0.7014 - val_accuracy: 0.8235 - lr: 1.0000e-04\n",
            "Epoch 43/100\n",
            "7/7 [==============================] - ETA: 0s - loss: 0.1972 - accuracy: 0.9314\n",
            "Epoch 00043: val_accuracy did not improve from 0.91176\n",
            "7/7 [==============================] - 2s 278ms/step - loss: 0.1972 - accuracy: 0.9314 - val_loss: 0.6758 - val_accuracy: 0.7647 - lr: 1.0000e-04\n",
            "Epoch 44/100\n",
            "7/7 [==============================] - ETA: 0s - loss: 0.1339 - accuracy: 0.9412\n",
            "Epoch 00044: val_accuracy did not improve from 0.91176\n",
            "7/7 [==============================] - 2s 275ms/step - loss: 0.1339 - accuracy: 0.9412 - val_loss: 0.3920 - val_accuracy: 0.9118 - lr: 1.0000e-04\n",
            "Epoch 45/100\n",
            "7/7 [==============================] - ETA: 0s - loss: 0.2716 - accuracy: 0.9069\n",
            "Epoch 00045: val_accuracy did not improve from 0.91176\n",
            "7/7 [==============================] - 2s 342ms/step - loss: 0.2716 - accuracy: 0.9069 - val_loss: 0.4250 - val_accuracy: 0.8824 - lr: 1.0000e-04\n",
            "Epoch 46/100\n",
            "7/7 [==============================] - ETA: 0s - loss: 0.3172 - accuracy: 0.9069\n",
            "Epoch 00046: val_accuracy did not improve from 0.91176\n",
            "7/7 [==============================] - 2s 328ms/step - loss: 0.3172 - accuracy: 0.9069 - val_loss: 0.3185 - val_accuracy: 0.8824 - lr: 1.0000e-04\n",
            "Epoch 47/100\n",
            "7/7 [==============================] - ETA: 0s - loss: 0.1390 - accuracy: 0.9559\n",
            "Epoch 00047: val_accuracy did not improve from 0.91176\n",
            "7/7 [==============================] - 2s 304ms/step - loss: 0.1390 - accuracy: 0.9559 - val_loss: 0.3191 - val_accuracy: 0.8529 - lr: 1.0000e-04\n",
            "Epoch 48/100\n",
            "7/7 [==============================] - ETA: 0s - loss: 0.1915 - accuracy: 0.9216\n",
            "Epoch 00048: val_accuracy did not improve from 0.91176\n",
            "7/7 [==============================] - 2s 284ms/step - loss: 0.1915 - accuracy: 0.9216 - val_loss: 0.2979 - val_accuracy: 0.8824 - lr: 1.0000e-04\n",
            "Epoch 49/100\n",
            "7/7 [==============================] - ETA: 0s - loss: 0.2440 - accuracy: 0.9216\n",
            "Epoch 00049: val_accuracy did not improve from 0.91176\n",
            "7/7 [==============================] - 2s 276ms/step - loss: 0.2440 - accuracy: 0.9216 - val_loss: 0.2758 - val_accuracy: 0.8824 - lr: 1.0000e-04\n",
            "Epoch 50/100\n",
            "7/7 [==============================] - ETA: 0s - loss: 0.2162 - accuracy: 0.9265\n",
            "Epoch 00050: val_accuracy did not improve from 0.91176\n",
            "7/7 [==============================] - 2s 281ms/step - loss: 0.2162 - accuracy: 0.9265 - val_loss: 0.4515 - val_accuracy: 0.8824 - lr: 1.0000e-04\n",
            "Epoch 51/100\n",
            "7/7 [==============================] - ETA: 0s - loss: 0.2417 - accuracy: 0.9461\n",
            "Epoch 00051: val_accuracy did not improve from 0.91176\n",
            "7/7 [==============================] - 2s 277ms/step - loss: 0.2417 - accuracy: 0.9461 - val_loss: 0.4035 - val_accuracy: 0.8529 - lr: 1.0000e-04\n",
            "Epoch 52/100\n",
            "7/7 [==============================] - ETA: 0s - loss: 0.3358 - accuracy: 0.8676\n",
            "Epoch 00052: val_accuracy did not improve from 0.91176\n",
            "7/7 [==============================] - 2s 286ms/step - loss: 0.3358 - accuracy: 0.8676 - val_loss: 1.0073 - val_accuracy: 0.7647 - lr: 1.0000e-04\n",
            "Epoch 53/100\n",
            "7/7 [==============================] - ETA: 0s - loss: 0.2036 - accuracy: 0.9314\n",
            "Epoch 00053: val_accuracy did not improve from 0.91176\n",
            "7/7 [==============================] - 2s 294ms/step - loss: 0.2036 - accuracy: 0.9314 - val_loss: 0.4813 - val_accuracy: 0.8235 - lr: 1.0000e-04\n",
            "Epoch 54/100\n",
            "7/7 [==============================] - ETA: 0s - loss: 0.1295 - accuracy: 0.9363\n",
            "Epoch 00054: val_accuracy did not improve from 0.91176\n",
            "7/7 [==============================] - 2s 284ms/step - loss: 0.1295 - accuracy: 0.9363 - val_loss: 0.2711 - val_accuracy: 0.8235 - lr: 1.0000e-04\n",
            "Epoch 55/100\n",
            "7/7 [==============================] - ETA: 0s - loss: 0.0923 - accuracy: 0.9608\n",
            "Epoch 00055: val_accuracy did not improve from 0.91176\n",
            "7/7 [==============================] - 2s 282ms/step - loss: 0.0923 - accuracy: 0.9608 - val_loss: 0.3495 - val_accuracy: 0.8824 - lr: 1.0000e-04\n",
            "Epoch 56/100\n",
            "7/7 [==============================] - ETA: 0s - loss: 0.0578 - accuracy: 0.9755\n",
            "Epoch 00056: val_accuracy did not improve from 0.91176\n",
            "7/7 [==============================] - 2s 277ms/step - loss: 0.0578 - accuracy: 0.9755 - val_loss: 0.2919 - val_accuracy: 0.9118 - lr: 1.0000e-04\n",
            "Epoch 57/100\n",
            "7/7 [==============================] - ETA: 0s - loss: 0.1048 - accuracy: 0.9608\n",
            "Epoch 00057: val_accuracy improved from 0.91176 to 0.94118, saving model to model4.h5\n",
            "7/7 [==============================] - 8s 1s/step - loss: 0.1048 - accuracy: 0.9608 - val_loss: 0.2797 - val_accuracy: 0.9412 - lr: 1.0000e-04\n",
            "Epoch 58/100\n",
            "7/7 [==============================] - ETA: 0s - loss: 0.1503 - accuracy: 0.9559\n",
            "Epoch 00058: val_accuracy did not improve from 0.94118\n",
            "7/7 [==============================] - 2s 276ms/step - loss: 0.1503 - accuracy: 0.9559 - val_loss: 0.2961 - val_accuracy: 0.9412 - lr: 1.0000e-04\n",
            "Epoch 59/100\n",
            "7/7 [==============================] - ETA: 0s - loss: 0.1848 - accuracy: 0.9314\n",
            "Epoch 00059: val_accuracy did not improve from 0.94118\n",
            "7/7 [==============================] - 2s 288ms/step - loss: 0.1848 - accuracy: 0.9314 - val_loss: 0.3042 - val_accuracy: 0.9412 - lr: 1.0000e-04\n",
            "Epoch 60/100\n",
            "7/7 [==============================] - ETA: 0s - loss: 0.1300 - accuracy: 0.9510\n",
            "Epoch 00060: val_accuracy did not improve from 0.94118\n",
            "7/7 [==============================] - 2s 296ms/step - loss: 0.1300 - accuracy: 0.9510 - val_loss: 0.3686 - val_accuracy: 0.8824 - lr: 1.0000e-04\n",
            "Epoch 61/100\n",
            "7/7 [==============================] - ETA: 0s - loss: 0.0852 - accuracy: 0.9608\n",
            "Epoch 00061: val_accuracy did not improve from 0.94118\n",
            "7/7 [==============================] - 2s 332ms/step - loss: 0.0852 - accuracy: 0.9608 - val_loss: 0.4812 - val_accuracy: 0.8529 - lr: 1.0000e-04\n",
            "Epoch 62/100\n",
            "7/7 [==============================] - ETA: 0s - loss: 0.0712 - accuracy: 0.9657\n",
            "Epoch 00062: val_accuracy did not improve from 0.94118\n",
            "7/7 [==============================] - 2s 337ms/step - loss: 0.0712 - accuracy: 0.9657 - val_loss: 0.4163 - val_accuracy: 0.8235 - lr: 1.0000e-04\n",
            "Epoch 63/100\n",
            "7/7 [==============================] - ETA: 0s - loss: 0.1002 - accuracy: 0.9559\n",
            "Epoch 00063: val_accuracy did not improve from 0.94118\n",
            "7/7 [==============================] - 2s 280ms/step - loss: 0.1002 - accuracy: 0.9559 - val_loss: 0.3724 - val_accuracy: 0.8529 - lr: 1.0000e-04\n",
            "Epoch 64/100\n",
            "7/7 [==============================] - ETA: 0s - loss: 0.1122 - accuracy: 0.9657\n",
            "Epoch 00064: val_accuracy did not improve from 0.94118\n",
            "7/7 [==============================] - 2s 273ms/step - loss: 0.1122 - accuracy: 0.9657 - val_loss: 0.3069 - val_accuracy: 0.8529 - lr: 1.0000e-04\n",
            "Epoch 65/100\n",
            "7/7 [==============================] - ETA: 0s - loss: 0.1192 - accuracy: 0.9510\n",
            "Epoch 00065: val_accuracy did not improve from 0.94118\n",
            "7/7 [==============================] - 2s 277ms/step - loss: 0.1192 - accuracy: 0.9510 - val_loss: 0.2897 - val_accuracy: 0.8824 - lr: 1.0000e-04\n",
            "Epoch 66/100\n",
            "7/7 [==============================] - ETA: 0s - loss: 0.1394 - accuracy: 0.9412\n",
            "Epoch 00066: val_accuracy did not improve from 0.94118\n",
            "7/7 [==============================] - 2s 284ms/step - loss: 0.1394 - accuracy: 0.9412 - val_loss: 0.3125 - val_accuracy: 0.8824 - lr: 1.0000e-04\n",
            "Epoch 67/100\n",
            "7/7 [==============================] - ETA: 0s - loss: 0.1416 - accuracy: 0.9510\n",
            "Epoch 00067: val_accuracy did not improve from 0.94118\n",
            "7/7 [==============================] - 2s 281ms/step - loss: 0.1416 - accuracy: 0.9510 - val_loss: 0.4425 - val_accuracy: 0.7941 - lr: 1.0000e-04\n",
            "Epoch 68/100\n",
            "7/7 [==============================] - ETA: 0s - loss: 0.1110 - accuracy: 0.9510\n",
            "Epoch 00068: val_accuracy did not improve from 0.94118\n",
            "7/7 [==============================] - 2s 286ms/step - loss: 0.1110 - accuracy: 0.9510 - val_loss: 0.3021 - val_accuracy: 0.8824 - lr: 1.0000e-04\n",
            "Epoch 69/100\n",
            "7/7 [==============================] - ETA: 0s - loss: 0.1657 - accuracy: 0.9559\n",
            "Epoch 00069: val_accuracy did not improve from 0.94118\n",
            "7/7 [==============================] - 2s 283ms/step - loss: 0.1657 - accuracy: 0.9559 - val_loss: 0.2445 - val_accuracy: 0.9412 - lr: 1.0000e-04\n",
            "Epoch 70/100\n",
            "7/7 [==============================] - ETA: 0s - loss: 0.1232 - accuracy: 0.9559\n",
            "Epoch 00070: val_accuracy did not improve from 0.94118\n",
            "7/7 [==============================] - 2s 297ms/step - loss: 0.1232 - accuracy: 0.9559 - val_loss: 0.2989 - val_accuracy: 0.9412 - lr: 1.0000e-04\n",
            "Epoch 71/100\n",
            "7/7 [==============================] - ETA: 0s - loss: 0.0699 - accuracy: 0.9804\n",
            "Epoch 00071: val_accuracy did not improve from 0.94118\n",
            "7/7 [==============================] - 2s 270ms/step - loss: 0.0699 - accuracy: 0.9804 - val_loss: 0.3458 - val_accuracy: 0.9118 - lr: 1.0000e-04\n",
            "Epoch 72/100\n",
            "7/7 [==============================] - ETA: 0s - loss: 0.1659 - accuracy: 0.9608\n",
            "Epoch 00072: val_accuracy did not improve from 0.94118\n",
            "7/7 [==============================] - 2s 288ms/step - loss: 0.1659 - accuracy: 0.9608 - val_loss: 0.3374 - val_accuracy: 0.8824 - lr: 1.0000e-04\n",
            "Epoch 73/100\n",
            "7/7 [==============================] - ETA: 0s - loss: 0.0951 - accuracy: 0.9559\n",
            "Epoch 00073: val_accuracy did not improve from 0.94118\n",
            "7/7 [==============================] - 2s 276ms/step - loss: 0.0951 - accuracy: 0.9559 - val_loss: 0.3350 - val_accuracy: 0.8824 - lr: 1.0000e-04\n",
            "Epoch 74/100\n",
            "7/7 [==============================] - ETA: 0s - loss: 0.0872 - accuracy: 0.9755\n",
            "Epoch 00074: val_accuracy did not improve from 0.94118\n",
            "7/7 [==============================] - 2s 285ms/step - loss: 0.0872 - accuracy: 0.9755 - val_loss: 0.3176 - val_accuracy: 0.9118 - lr: 1.0000e-04\n",
            "Epoch 75/100\n",
            "7/7 [==============================] - ETA: 0s - loss: 0.0624 - accuracy: 0.9755\n",
            "Epoch 00075: val_accuracy did not improve from 0.94118\n",
            "7/7 [==============================] - 2s 278ms/step - loss: 0.0624 - accuracy: 0.9755 - val_loss: 0.3013 - val_accuracy: 0.9412 - lr: 1.0000e-04\n",
            "Epoch 76/100\n",
            "7/7 [==============================] - ETA: 0s - loss: 0.1616 - accuracy: 0.9608\n",
            "Epoch 00076: val_accuracy did not improve from 0.94118\n",
            "7/7 [==============================] - 2s 273ms/step - loss: 0.1616 - accuracy: 0.9608 - val_loss: 0.3033 - val_accuracy: 0.9412 - lr: 1.0000e-04\n",
            "Epoch 77/100\n",
            "7/7 [==============================] - ETA: 0s - loss: 0.1521 - accuracy: 0.9510\n",
            "Epoch 00077: val_accuracy did not improve from 0.94118\n",
            "7/7 [==============================] - 2s 280ms/step - loss: 0.1521 - accuracy: 0.9510 - val_loss: 0.2961 - val_accuracy: 0.9412 - lr: 1.0000e-04\n",
            "Epoch 78/100\n",
            "7/7 [==============================] - ETA: 0s - loss: 0.0536 - accuracy: 0.9804\n",
            "Epoch 00078: val_accuracy did not improve from 0.94118\n",
            "7/7 [==============================] - 2s 275ms/step - loss: 0.0536 - accuracy: 0.9804 - val_loss: 0.3395 - val_accuracy: 0.9412 - lr: 1.0000e-04\n",
            "Epoch 79/100\n",
            "7/7 [==============================] - ETA: 0s - loss: 0.1208 - accuracy: 0.9461\n",
            "Epoch 00079: val_accuracy did not improve from 0.94118\n",
            "7/7 [==============================] - 2s 280ms/step - loss: 0.1208 - accuracy: 0.9461 - val_loss: 0.4194 - val_accuracy: 0.8824 - lr: 1.0000e-04\n",
            "Epoch 80/100\n",
            "7/7 [==============================] - ETA: 0s - loss: 0.1127 - accuracy: 0.9559\n",
            "Epoch 00080: val_accuracy did not improve from 0.94118\n",
            "7/7 [==============================] - 2s 286ms/step - loss: 0.1127 - accuracy: 0.9559 - val_loss: 0.4940 - val_accuracy: 0.8529 - lr: 1.0000e-04\n",
            "Epoch 81/100\n",
            "7/7 [==============================] - ETA: 0s - loss: 0.0569 - accuracy: 0.9804\n",
            "Epoch 00081: val_accuracy did not improve from 0.94118\n",
            "7/7 [==============================] - 2s 276ms/step - loss: 0.0569 - accuracy: 0.9804 - val_loss: 0.4267 - val_accuracy: 0.8529 - lr: 1.0000e-04\n",
            "Epoch 82/100\n",
            "7/7 [==============================] - ETA: 0s - loss: 0.2144 - accuracy: 0.9608\n",
            "Epoch 00082: val_accuracy did not improve from 0.94118\n",
            "7/7 [==============================] - 2s 282ms/step - loss: 0.2144 - accuracy: 0.9608 - val_loss: 0.7170 - val_accuracy: 0.7059 - lr: 1.0000e-04\n",
            "Epoch 83/100\n",
            "7/7 [==============================] - ETA: 0s - loss: 0.0808 - accuracy: 0.9706\n",
            "Epoch 00083: val_accuracy did not improve from 0.94118\n",
            "7/7 [==============================] - 2s 269ms/step - loss: 0.0808 - accuracy: 0.9706 - val_loss: 0.4677 - val_accuracy: 0.7647 - lr: 1.0000e-04\n",
            "Epoch 84/100\n",
            "7/7 [==============================] - ETA: 0s - loss: 0.0360 - accuracy: 0.9902\n",
            "Epoch 00084: val_accuracy did not improve from 0.94118\n",
            "7/7 [==============================] - 2s 282ms/step - loss: 0.0360 - accuracy: 0.9902 - val_loss: 0.4061 - val_accuracy: 0.8529 - lr: 1.0000e-04\n",
            "Epoch 85/100\n",
            "7/7 [==============================] - ETA: 0s - loss: 0.1222 - accuracy: 0.9608\n",
            "Epoch 00085: val_accuracy did not improve from 0.94118\n",
            "7/7 [==============================] - 2s 287ms/step - loss: 0.1222 - accuracy: 0.9608 - val_loss: 0.2813 - val_accuracy: 0.9118 - lr: 1.0000e-04\n",
            "Epoch 86/100\n",
            "7/7 [==============================] - ETA: 0s - loss: 0.1292 - accuracy: 0.9461\n",
            "Epoch 00086: val_accuracy did not improve from 0.94118\n",
            "7/7 [==============================] - 2s 278ms/step - loss: 0.1292 - accuracy: 0.9461 - val_loss: 0.3587 - val_accuracy: 0.8529 - lr: 1.0000e-04\n",
            "Epoch 87/100\n",
            "7/7 [==============================] - ETA: 0s - loss: 0.1333 - accuracy: 0.9461\n",
            "Epoch 00087: val_accuracy did not improve from 0.94118\n",
            "7/7 [==============================] - 2s 278ms/step - loss: 0.1333 - accuracy: 0.9461 - val_loss: 0.4528 - val_accuracy: 0.8529 - lr: 1.0000e-04\n",
            "Epoch 88/100\n",
            "7/7 [==============================] - ETA: 0s - loss: 0.0784 - accuracy: 0.9755\n",
            "Epoch 00088: val_accuracy did not improve from 0.94118\n",
            "7/7 [==============================] - 2s 290ms/step - loss: 0.0784 - accuracy: 0.9755 - val_loss: 0.2747 - val_accuracy: 0.9118 - lr: 1.0000e-04\n",
            "Epoch 89/100\n",
            "7/7 [==============================] - ETA: 0s - loss: 0.1000 - accuracy: 0.9657\n",
            "Epoch 00089: val_accuracy did not improve from 0.94118\n",
            "7/7 [==============================] - 2s 272ms/step - loss: 0.1000 - accuracy: 0.9657 - val_loss: 0.2294 - val_accuracy: 0.9118 - lr: 1.0000e-04\n",
            "Epoch 90/100\n",
            "7/7 [==============================] - ETA: 0s - loss: 0.1398 - accuracy: 0.9559\n",
            "Epoch 00090: val_accuracy did not improve from 0.94118\n",
            "7/7 [==============================] - 2s 279ms/step - loss: 0.1398 - accuracy: 0.9559 - val_loss: 0.3472 - val_accuracy: 0.9118 - lr: 1.0000e-04\n",
            "Epoch 91/100\n",
            "7/7 [==============================] - ETA: 0s - loss: 0.0849 - accuracy: 0.9706\n",
            "Epoch 00091: val_accuracy did not improve from 0.94118\n",
            "7/7 [==============================] - 2s 299ms/step - loss: 0.0849 - accuracy: 0.9706 - val_loss: 0.5262 - val_accuracy: 0.8824 - lr: 1.0000e-04\n",
            "Epoch 92/100\n",
            "7/7 [==============================] - ETA: 0s - loss: 0.0792 - accuracy: 0.9657\n",
            "Epoch 00092: val_accuracy did not improve from 0.94118\n",
            "7/7 [==============================] - 2s 271ms/step - loss: 0.0792 - accuracy: 0.9657 - val_loss: 0.5403 - val_accuracy: 0.8235 - lr: 1.0000e-04\n",
            "Epoch 93/100\n",
            "7/7 [==============================] - ETA: 0s - loss: 0.1074 - accuracy: 0.9510\n",
            "Epoch 00093: val_accuracy did not improve from 0.94118\n",
            "7/7 [==============================] - 2s 294ms/step - loss: 0.1074 - accuracy: 0.9510 - val_loss: 0.3315 - val_accuracy: 0.8529 - lr: 1.0000e-04\n",
            "Epoch 94/100\n",
            "7/7 [==============================] - ETA: 0s - loss: 0.1078 - accuracy: 0.9608\n",
            "Epoch 00094: val_accuracy did not improve from 0.94118\n",
            "7/7 [==============================] - 2s 278ms/step - loss: 0.1078 - accuracy: 0.9608 - val_loss: 0.1469 - val_accuracy: 0.8824 - lr: 1.0000e-04\n",
            "Epoch 95/100\n",
            "7/7 [==============================] - ETA: 0s - loss: 0.1360 - accuracy: 0.9608\n",
            "Epoch 00095: val_accuracy did not improve from 0.94118\n",
            "7/7 [==============================] - 2s 296ms/step - loss: 0.1360 - accuracy: 0.9608 - val_loss: 0.2195 - val_accuracy: 0.9412 - lr: 1.0000e-04\n",
            "Epoch 96/100\n",
            "7/7 [==============================] - ETA: 0s - loss: 0.1093 - accuracy: 0.9706\n",
            "Epoch 00096: val_accuracy did not improve from 0.94118\n",
            "7/7 [==============================] - 2s 277ms/step - loss: 0.1093 - accuracy: 0.9706 - val_loss: 0.2613 - val_accuracy: 0.9118 - lr: 1.0000e-04\n",
            "Epoch 97/100\n",
            "7/7 [==============================] - ETA: 0s - loss: 0.1353 - accuracy: 0.9559\n",
            "Epoch 00097: val_accuracy did not improve from 0.94118\n",
            "7/7 [==============================] - 2s 291ms/step - loss: 0.1353 - accuracy: 0.9559 - val_loss: 0.2927 - val_accuracy: 0.9118 - lr: 1.0000e-04\n",
            "Epoch 98/100\n",
            "7/7 [==============================] - ETA: 0s - loss: 0.1047 - accuracy: 0.9853\n",
            "Epoch 00098: val_accuracy did not improve from 0.94118\n",
            "7/7 [==============================] - 2s 269ms/step - loss: 0.1047 - accuracy: 0.9853 - val_loss: 0.2169 - val_accuracy: 0.9118 - lr: 1.0000e-04\n",
            "Epoch 99/100\n",
            "7/7 [==============================] - ETA: 0s - loss: 0.1909 - accuracy: 0.9510\n",
            "Epoch 00099: val_accuracy improved from 0.94118 to 0.97059, saving model to model4.h5\n",
            "7/7 [==============================] - 8s 1s/step - loss: 0.1909 - accuracy: 0.9510 - val_loss: 0.0822 - val_accuracy: 0.9706 - lr: 1.0000e-04\n",
            "Epoch 100/100\n",
            "7/7 [==============================] - ETA: 0s - loss: 0.0360 - accuracy: 0.9902\n",
            "Epoch 00100: val_accuracy did not improve from 0.97059\n",
            "7/7 [==============================] - 2s 289ms/step - loss: 0.0360 - accuracy: 0.9902 - val_loss: 0.2994 - val_accuracy: 0.9706 - lr: 1.0000e-04\n"
          ]
        }
      ]
    },
    {
      "cell_type": "code",
      "source": [
        "pemodelan_4.evaluate(test_images)"
      ],
      "metadata": {
        "colab": {
          "base_uri": "https://localhost:8080/"
        },
        "outputId": "350b0d6f-09cd-4137-b667-ca46c81efbe4",
        "id": "qTdW3PFEdNJa"
      },
      "execution_count": null,
      "outputs": [
        {
          "output_type": "stream",
          "name": "stdout",
          "text": [
            "2/2 [==============================] - 0s 69ms/step - loss: 0.2994 - accuracy: 0.9706\n"
          ]
        },
        {
          "output_type": "execute_result",
          "data": {
            "text/plain": [
              "[0.29935765266418457, 0.970588207244873]"
            ]
          },
          "metadata": {},
          "execution_count": 160
        }
      ]
    },
    {
      "cell_type": "code",
      "source": [
        "plt.plot(history4.history[\"accuracy\"] , 'ro-' , label = \"Training Accuracy\")\n",
        "plt.plot(history4.history[\"val_accuracy\"] , 'go-' , label = \"Testing Accuracy\")\n",
        "plt.legend()\n",
        "plt.show()"
      ],
      "metadata": {
        "colab": {
          "base_uri": "https://localhost:8080/",
          "height": 265
        },
        "outputId": "b372fc0a-871e-485d-b376-7539316f4c76",
        "id": "LB2rlJiWdNJa"
      },
      "execution_count": null,
      "outputs": [
        {
          "output_type": "display_data",
          "data": {
            "image/png": "[encoded data removed]",
            "text/plain": [
              "<Figure size 432x288 with 1 Axes>"
            ]
          },
          "metadata": {
            "needs_background": "light"
          }
        }
      ]
    },
    {
      "cell_type": "code",
      "source": [
        "plt.plot(history4.history[\"loss\"] , 'ro-' , label = \"Training Loss\")\n",
        "plt.plot(history4.history[\"val_loss\"] , 'go-' , label = \"Testing Loss\")\n",
        "plt.legend()\n",
        "plt.show()"
      ],
      "metadata": {
        "colab": {
          "base_uri": "https://localhost:8080/",
          "height": 265
        },
        "outputId": "9b4a4f39-6df1-40c0-e819-21a9263b9f60",
        "id": "nwT92-umdNJa"
      },
      "execution_count": null,
      "outputs": [
        {
          "output_type": "display_data",
          "data": {
            "image/png": "[encoded data removed]",
            "text/plain": [
              "<Figure size 432x288 with 1 Axes>"
            ]
          },
          "metadata": {
            "needs_background": "light"
          }
        }
      ]
    },
    {
      "cell_type": "code",
      "source": [
        "from sklearn.metrics import classification_report, confusion_matrix\n",
        "import seaborn as sns\n",
        "\n",
        "def evaluate(pemodelan_4):\n",
        "  valid_generator = train_generator.flow_from_directory(\n",
        "      TRAIN_DIR, \n",
        "      target_size=(64,64), \n",
        "      batch_size=32, \n",
        "      class_mode='categorical',\n",
        "      shuffle = False)\n",
        "\n",
        "  batch_size = 32\n",
        "  num_of_test_samples = len(valid_generator.filenames)\n",
        "\n",
        "  Y_pred = pemodelan_4.predict_generator(valid_generator, num_of_test_samples // batch_size+1)\n",
        "  y_pred = np.argmax(Y_pred, axis=1)\n",
        "\n",
        "  print('\\nConfusion Matrix\\n')\n",
        "  cm = confusion_matrix(valid_generator.classes, y_pred)\n",
        "  plt.figure(figsize=(8, 8))\n",
        "  sns.heatmap(cm, annot=True, fmt='g', vmin=0, cmap='Blues', cbar=False)\n",
        "  plt.xticks(ticks=[0.5, 1.5], labels=['no', 'yes'])\n",
        "  plt.yticks(ticks=[0.5, 1.5], labels=['no', 'yes'])\n",
        "  plt.xlabel(\"Predicted\")\n",
        "  plt.ylabel(\"Actual\")\n",
        "  plt.title(\"Confusion Matrix\")\n",
        "  plt.show()\n",
        "\n",
        "  print('\\n\\nClassification Report\\n')\n",
        "  target_names = ['no', 'yes']\n",
        "  print(classification_report(valid_generator.classes, y_pred, target_names=target_names))"
      ],
      "metadata": {
        "id": "WGYflRFFdNJb"
      },
      "execution_count": null,
      "outputs": []
    },
    {
      "cell_type": "code",
      "source": [
        "evaluate(pemodelan_4)"
      ],
      "metadata": {
        "colab": {
          "base_uri": "https://localhost:8080/",
          "height": 863
        },
        "outputId": "2ed00c4a-49d6-471b-c464-a08783053a8b",
        "id": "fuepF2OidNJb"
      },
      "execution_count": null,
      "outputs": [
        {
          "output_type": "stream",
          "name": "stdout",
          "text": [
            "Found 204 images belonging to 2 classes.\n"
          ]
        },
        {
          "output_type": "stream",
          "name": "stderr",
          "text": [
            "/usr/local/lib/python3.7/dist-packages/ipykernel_launcher.py:15: UserWarning: `Model.predict_generator` is deprecated and will be removed in a future version. Please use `Model.predict`, which supports generators.\n",
            "  from ipykernel import kernelapp as app\n"
          ]
        },
        {
          "output_type": "stream",
          "name": "stdout",
          "text": [
            "\n",
            "Confusion Matrix\n",
            "\n"
          ]
        },
        {
          "output_type": "display_data",
          "data": {
            "image/png": "[encoded data removed]",
            "text/plain": [
              "<Figure size 576x576 with 1 Axes>"
            ]
          },
          "metadata": {
            "needs_background": "light"
          }
        },
        {
          "output_type": "stream",
          "name": "stdout",
          "text": [
            "\n",
            "\n",
            "Classification Report\n",
            "\n",
            "              precision    recall  f1-score   support\n",
            "\n",
            "          no       0.79      0.94      0.86        79\n",
            "         yes       0.95      0.84      0.89       125\n",
            "\n",
            "    accuracy                           0.88       204\n",
            "   macro avg       0.87      0.89      0.87       204\n",
            "weighted avg       0.89      0.88      0.88       204\n",
            "\n"
          ]
        }
      ]
    },
    {
      "cell_type": "code",
      "source": [
        "import os\n",
        "\n",
        "from tensorflow.keras.preprocessing import image\n",
        "from tensorflow.keras.applications.vgg16 import VGG16, preprocess_input\n",
        "from tensorflow.keras.models import  Model\n",
        "\n",
        "from PIL import Image\n",
        "import pickle\n",
        "import numpy as np\n",
        "\n",
        "def image_preprocess(img):\n",
        "    img = img.resize((64,64))\n",
        "    img = img.convert(\"RGB\")\n",
        "    x = image.img_to_array(img)\n",
        "    x = np.expand_dims(x, axis=0)\n",
        "    x = preprocess_input(x)\n",
        "    return x\n",
        "\n",
        "def extract_vector(model, image_path):\n",
        "    print(\"Path : \", image_path)\n",
        "    img = Image.open(image_path)\n",
        "    img_tensor = image_preprocess(img)\n",
        "\n",
        "    vector = model.predict(img_tensor)[0]\n",
        "    vector = vector / np.linalg.norm(vector)\n",
        "    return vector\n",
        "\n",
        "data_folder = \"/content/drive/My Drive/IR/data/dataset\"\n",
        "\n",
        "model = pemodelan_4\n",
        "\n",
        "vectors = []\n",
        "paths = []\n",
        "\n",
        "for image_path in os.listdir(data_folder):\n",
        "    image_path_full = os.path.join(data_folder, image_path)\n",
        "    image_vector = extract_vector(model,image_path_full)\n",
        "    vectors.append(image_vector)\n",
        "    paths.append(image_path_full)\n",
        "\n",
        "vector_file = \"vectors.pkl\"\n",
        "path_file = \"paths.pkl\"\n",
        "\n",
        "pickle.dump(vectors, open(vector_file, \"wb\"))\n",
        "pickle.dump(paths, open(path_file, \"wb\"))"
      ],
      "metadata": {
        "colab": {
          "base_uri": "https://localhost:8080/"
        },
        "outputId": "28bf0039-b65b-4c17-82eb-ec3722f48fa0",
        "id": "eNvWlCQldNJb"
      },
      "execution_count": null,
      "outputs": [
        {
          "output_type": "stream",
          "name": "stdout",
          "text": [
            "Path :  /content/drive/My Drive/IR/data/dataset/Y74.jpg\n",
            "Path :  /content/drive/My Drive/IR/data/dataset/Y154.jpg\n",
            "Path :  /content/drive/My Drive/IR/data/dataset/Y54.jpg\n",
            "Path :  /content/drive/My Drive/IR/data/dataset/Y106.jpg\n",
            "Path :  /content/drive/My Drive/IR/data/dataset/Y107.jpg\n",
            "Path :  /content/drive/My Drive/IR/data/dataset/Y250.jpg\n",
            "Path :  /content/drive/My Drive/IR/data/dataset/Y3.jpg\n",
            "Path :  /content/drive/My Drive/IR/data/dataset/Y69.jpg\n",
            "Path :  /content/drive/My Drive/IR/data/dataset/Y31.jpg\n",
            "Path :  /content/drive/My Drive/IR/data/dataset/Y102.jpg\n",
            "Path :  /content/drive/My Drive/IR/data/dataset/Y95.jpg\n",
            "Path :  /content/drive/My Drive/IR/data/dataset/Y8.jpg\n",
            "Path :  /content/drive/My Drive/IR/data/dataset/Y28.jpg\n",
            "Path :  /content/drive/My Drive/IR/data/dataset/Y39.jpg\n",
            "Path :  /content/drive/My Drive/IR/data/dataset/10 no.jpg\n",
            "Path :  /content/drive/My Drive/IR/data/dataset/29 no.jpg\n",
            "Path :  /content/drive/My Drive/IR/data/dataset/No13.jpg\n",
            "Path :  /content/drive/My Drive/IR/data/dataset/50 no.jpg\n",
            "Path :  /content/drive/My Drive/IR/data/dataset/no 90.jpg\n",
            "Path :  /content/drive/My Drive/IR/data/dataset/8 no.jpg\n",
            "Path :  /content/drive/My Drive/IR/data/dataset/no 92.jpg\n",
            "Path :  /content/drive/My Drive/IR/data/dataset/no.jpg\n",
            "Path :  /content/drive/My Drive/IR/data/dataset/No15.jpg\n",
            "Path :  /content/drive/My Drive/IR/data/dataset/43 no.jpg\n",
            "Path :  /content/drive/My Drive/IR/data/dataset/no 99.jpg\n",
            "Path :  /content/drive/My Drive/IR/data/dataset/no 96.jpg\n",
            "Path :  /content/drive/My Drive/IR/data/dataset/36 no.jpg\n",
            "Path :  /content/drive/My Drive/IR/data/dataset/No19.jpg\n",
            "Path :  /content/drive/My Drive/IR/data/dataset/No17.jpg\n",
            "Path :  /content/drive/My Drive/IR/data/dataset/no 923.jpg\n",
            "Path :  /content/drive/My Drive/IR/data/dataset/22 no.jpg\n",
            "Path :  /content/drive/My Drive/IR/data/dataset/no 10.jpg\n",
            "Path :  /content/drive/My Drive/IR/data/dataset/Y73.jpg\n",
            "Path :  /content/drive/My Drive/IR/data/dataset/Y81.jpg\n",
            "Path :  /content/drive/My Drive/IR/data/dataset/Y61.jpg\n",
            "Path :  /content/drive/My Drive/IR/data/dataset/Y4.jpg\n",
            "Path :  /content/drive/My Drive/IR/data/dataset/Y13.jpg\n",
            "Path :  /content/drive/My Drive/IR/data/dataset/Y70.jpg\n",
            "Path :  /content/drive/My Drive/IR/data/dataset/Y10.jpg\n",
            "Path :  /content/drive/My Drive/IR/data/dataset/Y168.jpg\n",
            "Path :  /content/drive/My Drive/IR/data/dataset/Y162.jpg\n",
            "Path :  /content/drive/My Drive/IR/data/dataset/Y187.jpg\n",
            "Path :  /content/drive/My Drive/IR/data/dataset/Y17.jpg\n",
            "Path :  /content/drive/My Drive/IR/data/dataset/Y245.jpg\n",
            "Path :  /content/drive/My Drive/IR/data/dataset/Y38.jpg\n",
            "Path :  /content/drive/My Drive/IR/data/dataset/Y104.jpg\n",
            "Path :  /content/drive/My Drive/IR/data/dataset/Y26.jpg\n",
            "Path :  /content/drive/My Drive/IR/data/dataset/Y22.jpg\n",
            "Path :  /content/drive/My Drive/IR/data/dataset/Y33.jpg\n",
            "Path :  /content/drive/My Drive/IR/data/dataset/Y105.jpg\n",
            "Path :  /content/drive/My Drive/IR/data/dataset/Y6.jpg\n",
            "Path :  /content/drive/My Drive/IR/data/dataset/Y56.jpg\n",
            "Path :  /content/drive/My Drive/IR/data/dataset/Y183.jpg\n",
            "Path :  /content/drive/My Drive/IR/data/dataset/Y14.jpg\n",
            "Path :  /content/drive/My Drive/IR/data/dataset/Y77.jpg\n",
            "Path :  /content/drive/My Drive/IR/data/dataset/Y32.jpg\n",
            "Path :  /content/drive/My Drive/IR/data/dataset/Y194.jpg\n",
            "Path :  /content/drive/My Drive/IR/data/dataset/Y180.jpg\n",
            "Path :  /content/drive/My Drive/IR/data/dataset/Y185.jpg\n",
            "Path :  /content/drive/My Drive/IR/data/dataset/Y42.jpg\n",
            "Path :  /content/drive/My Drive/IR/data/dataset/Y2.jpg\n",
            "Path :  /content/drive/My Drive/IR/data/dataset/Y27.jpg\n",
            "Path :  /content/drive/My Drive/IR/data/dataset/Y12.jpg\n",
            "Path :  /content/drive/My Drive/IR/data/dataset/Y101.jpg\n",
            "Path :  /content/drive/My Drive/IR/data/dataset/Y52.jpg\n",
            "Path :  /content/drive/My Drive/IR/data/dataset/Y254.jpg\n",
            "Path :  /content/drive/My Drive/IR/data/dataset/Y1.jpg\n",
            "Path :  /content/drive/My Drive/IR/data/dataset/Y153.jpg\n",
            "Path :  /content/drive/My Drive/IR/data/dataset/Y15.jpg\n",
            "Path :  /content/drive/My Drive/IR/data/dataset/Y35.jpg\n",
            "Path :  /content/drive/My Drive/IR/data/dataset/Y55.jpg\n",
            "Path :  /content/drive/My Drive/IR/data/dataset/Y78.jpg\n",
            "Path :  /content/drive/My Drive/IR/data/dataset/Y20.jpg\n",
            "Path :  /content/drive/My Drive/IR/data/dataset/Y37.jpg\n",
            "Path :  /content/drive/My Drive/IR/data/dataset/Y252.jpg\n",
            "Path :  /content/drive/My Drive/IR/data/dataset/Y7.jpg\n",
            "Path :  /content/drive/My Drive/IR/data/dataset/Y53.jpg\n",
            "Path :  /content/drive/My Drive/IR/data/dataset/Y30.jpg\n",
            "Path :  /content/drive/My Drive/IR/data/dataset/Y60.jpg\n",
            "Path :  /content/drive/My Drive/IR/data/dataset/Y11.jpg\n",
            "Path :  /content/drive/My Drive/IR/data/dataset/Y169.jpg\n",
            "Path :  /content/drive/My Drive/IR/data/dataset/Y21.jpg\n",
            "Path :  /content/drive/My Drive/IR/data/dataset/Y91.jpg\n",
            "Path :  /content/drive/My Drive/IR/data/dataset/Y25.jpg\n",
            "Path :  /content/drive/My Drive/IR/data/dataset/Y29.jpg\n",
            "Path :  /content/drive/My Drive/IR/data/dataset/Y188.jpg\n",
            "Path :  /content/drive/My Drive/IR/data/dataset/Y51.jpg\n",
            "Path :  /content/drive/My Drive/IR/data/dataset/Y92.jpg\n",
            "Path :  /content/drive/My Drive/IR/data/dataset/Y34.jpg\n",
            "Path :  /content/drive/My Drive/IR/data/dataset/Y90.jpg\n",
            "Path :  /content/drive/My Drive/IR/data/dataset/Y24.jpg\n",
            "Path :  /content/drive/My Drive/IR/data/dataset/Y46.jpg\n",
            "Path :  /content/drive/My Drive/IR/data/dataset/Y62.jpg\n",
            "Path :  /content/drive/My Drive/IR/data/dataset/Y257.jpg\n",
            "Path :  /content/drive/My Drive/IR/data/dataset/Y79.jpg\n",
            "Path :  /content/drive/My Drive/IR/data/dataset/Y41.jpg\n",
            "Path :  /content/drive/My Drive/IR/data/dataset/Y96.jpg\n",
            "Path :  /content/drive/My Drive/IR/data/dataset/Y181.jpg\n",
            "Path :  /content/drive/My Drive/IR/data/dataset/Y76.jpg\n",
            "Path :  /content/drive/My Drive/IR/data/dataset/Y186.jpg\n",
            "Path :  /content/drive/My Drive/IR/data/dataset/Y108.jpg\n",
            "Path :  /content/drive/My Drive/IR/data/dataset/Y82.jpg\n",
            "Path :  /content/drive/My Drive/IR/data/dataset/Y103.jpg\n",
            "Path :  /content/drive/My Drive/IR/data/dataset/Y9.jpg\n",
            "Path :  /content/drive/My Drive/IR/data/dataset/46 no.jpg\n",
            "Path :  /content/drive/My Drive/IR/data/dataset/N5.jpg\n",
            "Path :  /content/drive/My Drive/IR/data/dataset/33 no.jpg\n",
            "Path :  /content/drive/My Drive/IR/data/dataset/26 no.jpg\n",
            "Path :  /content/drive/My Drive/IR/data/dataset/N17.jpg\n",
            "Path :  /content/drive/My Drive/IR/data/dataset/N6.jpg\n",
            "Path :  /content/drive/My Drive/IR/data/dataset/no 98.jpg\n",
            "Path :  /content/drive/My Drive/IR/data/dataset/no 4.jpg\n",
            "Path :  /content/drive/My Drive/IR/data/dataset/no 97.jpg\n",
            "Path :  /content/drive/My Drive/IR/data/dataset/N16.jpg\n",
            "Path :  /content/drive/My Drive/IR/data/dataset/no 89.jpg\n",
            "Path :  /content/drive/My Drive/IR/data/dataset/No14.jpg\n",
            "Path :  /content/drive/My Drive/IR/data/dataset/24 no.jpg\n",
            "Path :  /content/drive/My Drive/IR/data/dataset/12 no.jpg\n",
            "Path :  /content/drive/My Drive/IR/data/dataset/N21.jpg\n",
            "Path :  /content/drive/My Drive/IR/data/dataset/no 8.jpg\n",
            "Path :  /content/drive/My Drive/IR/data/dataset/4 no.jpg\n",
            "Path :  /content/drive/My Drive/IR/data/dataset/45 no.jpg\n",
            "Path :  /content/drive/My Drive/IR/data/dataset/No22.jpg\n",
            "Path :  /content/drive/My Drive/IR/data/dataset/18 no.jpg\n",
            "Path :  /content/drive/My Drive/IR/data/dataset/37 no.jpg\n",
            "Path :  /content/drive/My Drive/IR/data/dataset/N11.jpg\n",
            "Path :  /content/drive/My Drive/IR/data/dataset/15 no.jpg\n",
            "Path :  /content/drive/My Drive/IR/data/dataset/31 no.jpg\n",
            "Path :  /content/drive/My Drive/IR/data/dataset/49 no.jpg\n",
            "Path :  /content/drive/My Drive/IR/data/dataset/no 94.jpg\n",
            "Path :  /content/drive/My Drive/IR/data/dataset/no 2.jpg\n",
            "Path :  /content/drive/My Drive/IR/data/dataset/23 no.jpg\n",
            "Path :  /content/drive/My Drive/IR/data/dataset/32 no.jpg\n",
            "Path :  /content/drive/My Drive/IR/data/dataset/38 no.jpg\n",
            "Path :  /content/drive/My Drive/IR/data/dataset/no 1.jpg\n",
            "Path :  /content/drive/My Drive/IR/data/dataset/17 no.jpg\n",
            "Path :  /content/drive/My Drive/IR/data/dataset/44no.jpg\n",
            "Path :  /content/drive/My Drive/IR/data/dataset/No16.jpg\n",
            "Path :  /content/drive/My Drive/IR/data/dataset/No12.jpg\n",
            "Path :  /content/drive/My Drive/IR/data/dataset/39 no.jpg\n",
            "Path :  /content/drive/My Drive/IR/data/dataset/N3.jpg\n",
            "Path :  /content/drive/My Drive/IR/data/dataset/No20.jpg\n",
            "Path :  /content/drive/My Drive/IR/data/dataset/27 no.jpg\n",
            "Path :  /content/drive/My Drive/IR/data/dataset/28 no.jpg\n",
            "Path :  /content/drive/My Drive/IR/data/dataset/6 no.jpg\n",
            "Path :  /content/drive/My Drive/IR/data/dataset/40 no.jpg\n",
            "Path :  /content/drive/My Drive/IR/data/dataset/35 no.jpg\n",
            "Path :  /content/drive/My Drive/IR/data/dataset/9 no.jpg\n",
            "Path :  /content/drive/My Drive/IR/data/dataset/47 no.jpg\n",
            "Path :  /content/drive/My Drive/IR/data/dataset/7 no.jpg\n",
            "Path :  /content/drive/My Drive/IR/data/dataset/11 no.jpg\n",
            "Path :  /content/drive/My Drive/IR/data/dataset/no 3.jpg\n",
            "Path :  /content/drive/My Drive/IR/data/dataset/5 no.jpg\n",
            "Path :  /content/drive/My Drive/IR/data/dataset/14 no.jpg\n",
            "Path :  /content/drive/My Drive/IR/data/dataset/20 no.jpg\n",
            "Path :  /content/drive/My Drive/IR/data/dataset/41 no.jpg\n",
            "Path :  /content/drive/My Drive/IR/data/dataset/30 no.jpg\n",
            "Path :  /content/drive/My Drive/IR/data/dataset/No21.jpg\n",
            "Path :  /content/drive/My Drive/IR/data/dataset/No18.jpg\n",
            "Path :  /content/drive/My Drive/IR/data/dataset/no 6.jpg\n",
            "Path :  /content/drive/My Drive/IR/data/dataset/21 no.jpg\n",
            "Path :  /content/drive/My Drive/IR/data/dataset/13 no.jpg\n",
            "Path :  /content/drive/My Drive/IR/data/dataset/19 no.jpg\n",
            "Path :  /content/drive/My Drive/IR/data/dataset/3 no.jpg\n",
            "Path :  /content/drive/My Drive/IR/data/dataset/25 no.jpg\n",
            "Path :  /content/drive/My Drive/IR/data/dataset/No11.jpg\n",
            "Path :  /content/drive/My Drive/IR/data/dataset/34 no.jpg\n",
            "Path :  /content/drive/My Drive/IR/data/dataset/42 no.jpg\n",
            "Path :  /content/drive/My Drive/IR/data/dataset/no 100.jpg\n",
            "Path :  /content/drive/My Drive/IR/data/dataset/N15.jpg\n",
            "Path :  /content/drive/My Drive/IR/data/dataset/no 95.jpg\n"
          ]
        }
      ]
    },
    {
      "cell_type": "code",
      "source": [
        "import math\n",
        "import os\n",
        "\n",
        "from tensorflow.keras.preprocessing import image\n",
        "from tensorflow.keras.applications.vgg16 import VGG16, preprocess_input\n",
        "from tensorflow.keras.models import  Model\n",
        "\n",
        "from PIL import Image\n",
        "import pickle\n",
        "import numpy as np\n",
        "\n",
        "def image_preprocess(img):\n",
        "    img = img.resize((64,64))\n",
        "    img = img.convert(\"RGB\")\n",
        "    x = image.img_to_array(img)\n",
        "    x = np.expand_dims(x, axis=0)\n",
        "    x = preprocess_input(x)\n",
        "    return x\n",
        "\n",
        "def extract_vector(model, image_path):\n",
        "    print(\"Dataset : \", image_path)\n",
        "    img = Image.open(image_path)\n",
        "    img_tensor = image_preprocess(img)\n",
        "\n",
        "    vector = model.predict(img_tensor)[0]\n",
        "    vector = vector / np.linalg.norm(vector)\n",
        "    return vector\n",
        "\n",
        "search_image = \"/content/drive/My Drive/IR/data/test/no 10.jpg\"\n",
        "\n",
        "model = pemodelan_4\n",
        "\n",
        "search_vector = extract_vector(model, search_image)\n",
        "\n",
        "vectors = pickle.load(open(\"vectors.pkl\",\"rb\"))\n",
        "paths = pickle.load(open(\"paths.pkl\",\"rb\"))\n",
        "\n",
        "distance = np.linalg.norm(vectors - search_vector, axis=1)\n",
        "\n",
        "K = 16\n",
        "ids = np.argsort(distance)[:K]\n",
        "\n",
        "nearest_image = [(paths[id], distance[id]) for id in ids]\n",
        "\n",
        "import matplotlib.pyplot as plt\n",
        "\n",
        "axes = []\n",
        "grid_size = int(math.sqrt(K))\n",
        "fig = plt.figure(figsize=(10,5))\n",
        "\n",
        "\n",
        "for id in range(K):\n",
        "    draw_image = nearest_image[id]\n",
        "    axes.append(fig.add_subplot(grid_size, grid_size, id+1))\n",
        "\n",
        "    axes[-1].set_title(draw_image[1])\n",
        "    plt.imshow(Image.open(draw_image[0]))\n",
        "\n",
        "fig.tight_layout()\n",
        "plt.show()"
      ],
      "metadata": {
        "colab": {
          "base_uri": "https://localhost:8080/",
          "height": 387
        },
        "outputId": "0388300f-5688-40aa-ba02-cf41a011f0c9",
        "id": "igLTYMR5dNJb"
      },
      "execution_count": null,
      "outputs": [
        {
          "output_type": "stream",
          "name": "stdout",
          "text": [
            "Dataset :  /content/drive/My Drive/IR/data/test/no 10.jpg\n"
          ]
        },
        {
          "output_type": "display_data",
          "data": {
            "image/png": "[encoded data removed]",
            "text/plain": [
              "<Figure size 720x360 with 16 Axes>"
            ]
          },
          "metadata": {
            "needs_background": "light"
          }
        }
      ]
    }
  ]
}